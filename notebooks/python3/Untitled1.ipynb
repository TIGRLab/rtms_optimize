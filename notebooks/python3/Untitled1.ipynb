{
 "cells": [
  {
   "cell_type": "code",
   "execution_count": 3,
   "metadata": {},
   "outputs": [],
   "source": [
    "import sys\n",
    "import os"
   ]
  },
  {
   "cell_type": "code",
   "execution_count": 9,
   "metadata": {},
   "outputs": [
    {
     "data": {
      "text/plain": [
       "['/mnt/tigrlab/projects/jjeyachandra/rtms_optimize/notebooks',\n",
       " '/scratch/jjeyachandra/test_env/archive/code/datman/assets',\n",
       " '/home/jjeyachandra/simnibs_2.1.2/Python_modules/src',\n",
       " '/mnt/tigrlab/projects/jjeyachandra/rtms_optimize/tetra/lib/python36.zip',\n",
       " '/mnt/tigrlab/projects/jjeyachandra/rtms_optimize/tetra/lib/python3.6',\n",
       " '/mnt/tigrlab/projects/jjeyachandra/rtms_optimize/tetra/lib/python3.6/lib-dynload',\n",
       " '/opt/quarantine/python/3.6.3-anaconda-5.0.1/build/lib/python3.6',\n",
       " '',\n",
       " '/mnt/tigrlab/projects/jjeyachandra/rtms_optimize/tetra/lib/python3.6/site-packages',\n",
       " '/mnt/tigrlab/projects/jjeyachandra/rtms_optimize/tetra/lib/python3.6/site-packages/IPython/extensions',\n",
       " '/home/jjeyachandra/.ipython']"
      ]
     },
     "execution_count": 9,
     "metadata": {},
     "output_type": "execute_result"
    }
   ],
   "source": [
    "sys.path"
   ]
  },
  {
   "cell_type": "code",
   "execution_count": 12,
   "metadata": {},
   "outputs": [],
   "source": [
    "sys.path.insert(0,'/home/jjeyachandra/simnibs_2.1.2/Python_modules/src/simnibs/msh')"
   ]
  },
  {
   "cell_type": "code",
   "execution_count": 13,
   "metadata": {},
   "outputs": [
    {
     "ename": "SyntaxError",
     "evalue": "invalid syntax (gmsh_numpy.py, line 321)",
     "output_type": "error",
     "traceback": [
      "Traceback \u001b[0;36m(most recent call last)\u001b[0m:\n",
      "  File \u001b[1;32m\"/mnt/tigrlab/projects/jjeyachandra/rtms_optimize/tetra/lib/python3.6/site-packages/IPython/core/interactiveshell.py\"\u001b[0m, line \u001b[1;32m3267\u001b[0m, in \u001b[1;35mrun_code\u001b[0m\n    exec(code_obj, self.user_global_ns, self.user_ns)\n",
      "  File \u001b[1;32m\"<ipython-input-13-5484956c3439>\"\u001b[0m, line \u001b[1;32m1\u001b[0m, in \u001b[1;35m<module>\u001b[0m\n    import simnibs.msh.gmsh_numpy\n",
      "  File \u001b[1;32m\"/home/jjeyachandra/simnibs_2.1.2/Python_modules/src/simnibs/__init__.py\"\u001b[0m, line \u001b[1;32m6\u001b[0m, in \u001b[1;35m<module>\u001b[0m\n    from .msh import gmsh_numpy as gmsh\n",
      "\u001b[0;36m  File \u001b[0;32m\"/home/jjeyachandra/simnibs_2.1.2/Python_modules/src/simnibs/msh/__init__.py\"\u001b[0;36m, line \u001b[0;32m1\u001b[0;36m, in \u001b[0;35m<module>\u001b[0;36m\u001b[0m\n\u001b[0;31m    import gmsh_numpy as gmsh\u001b[0m\n",
      "\u001b[0;36m  File \u001b[0;32m\"/home/jjeyachandra/simnibs_2.1.2/Python_modules/src/simnibs/msh/gmsh_numpy.py\"\u001b[0;36m, line \u001b[0;32m321\u001b[0m\n\u001b[0;31m    hash_array = _hash_rows(faces, mult=long(1000003L) + i)\u001b[0m\n\u001b[0m                                                    ^\u001b[0m\n\u001b[0;31mSyntaxError\u001b[0m\u001b[0;31m:\u001b[0m invalid syntax\n"
     ]
    }
   ],
   "source": [
    "import simnibs.msh.gmsh_numpy"
   ]
  }
 ],
 "metadata": {
  "kernelspec": {
   "display_name": "Python 3",
   "language": "python",
   "name": "python3"
  },
  "language_info": {
   "codemirror_mode": {
    "name": "ipython",
    "version": 3
   },
   "file_extension": ".py",
   "mimetype": "text/x-python",
   "name": "python",
   "nbconvert_exporter": "python",
   "pygments_lexer": "ipython3",
   "version": "3.6.3"
  }
 },
 "nbformat": 4,
 "nbformat_minor": 2
}
