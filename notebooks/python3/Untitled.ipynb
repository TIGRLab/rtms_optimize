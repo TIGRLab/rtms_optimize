{
 "cells": [
  {
   "cell_type": "markdown",
   "metadata": {},
   "source": [
    "### Notebook to examine correspondence between coordinate spaces of ciftify-generated freesurfer and simNIBS gmsh FEM model"
   ]
  },
  {
   "cell_type": "code",
   "execution_count": 48,
   "metadata": {
    "collapsed": true
   },
   "outputs": [],
   "source": [
    "import numpy as np\n",
    "from stl import mesh\n",
    "import nibabel as nib\n",
    "import os\n",
    "from mpl_toolkits.mplot3d import Axes3D\n",
    "import matplotlib.pyplot as plt"
   ]
  },
  {
   "cell_type": "markdown",
   "metadata": {
    "scrolled": true
   },
   "source": [
    "#### Steps to Implement:\n",
    "\n",
    "1. Use registration between gmsh mesh and simNIBS to get precise coordinates of parcels\n",
    "2. Project into mesh space (should maintain the same vertices I think)\n",
    "3. Find triangles assigned to same vertices and fill in (should check for edge cases?\n",
    "\n",
    "For now we'll use the mapping from fs_LR_32k --> T1w native space within the ciftify regime to perform mappings"
   ]
  },
  {
   "cell_type": "code",
   "execution_count": 4,
   "metadata": {
    "collapsed": true
   },
   "outputs": [],
   "source": [
    "# Set up pathing\n",
    "labels_dir = \"../parcels/\"\n",
    "ciftify_dir = \"../ciftify/\"\n",
    "data_dir = \"../data/simnibs_output/m2m_sub-CMH090/\"\n",
    "resource_dir = \"../resources/\""
   ]
  },
  {
   "cell_type": "code",
   "execution_count": 59,
   "metadata": {},
   "outputs": [],
   "source": [
    "# Load in label files directly and perhaps the associated surf.gii?\n",
    "label = os.path.join(labels_dir,'sub-CMHWM090a_sess-01_fs_LR_32k_roifs_LR_900_mshbm.L.label.gii')\n",
    "surf = os.path.join(ciftify_dir,'T1w','fsaverage_LR32k','sub-CMH090.L.white.32k_fs_LR.surf.gii')\n",
    "stl = os.path.join(data_dir,'intermediate','lh.white.stl')"
   ]
  },
  {
   "cell_type": "code",
   "execution_count": 8,
   "metadata": {},
   "outputs": [],
   "source": [
    "g_label = nib.load(label)\n",
    "g_surf = nib.load(surf)"
   ]
  },
  {
   "cell_type": "code",
   "execution_count": 43,
   "metadata": {},
   "outputs": [],
   "source": [
    "a_label = g_label.get_arrays_from_intent('NIFTI_INTENT_LABEL')[0].data\n",
    "gda_surf = g_surf.get_arrays_from_intent('NIFTI_INTENT_POINTSET')[0]\n",
    "a_surf = gda_surf.data"
   ]
  },
  {
   "cell_type": "markdown",
   "metadata": {},
   "source": [
    "<code>a_surf</code> contains the pointset referring to the location of each vertex\n",
    "\n",
    "<code>a_label</code> contains the label associated with each vertex"
   ]
  },
  {
   "cell_type": "code",
   "execution_count": 61,
   "metadata": {},
   "outputs": [],
   "source": [
    "#For visualization compare to STL file\n",
    "m_stl = mesh.Mesh.from_file(stl)"
   ]
  },
  {
   "cell_type": "code",
   "execution_count": 82,
   "metadata": {
    "collapsed": true
   },
   "outputs": [],
   "source": [
    "#Check L.mat\n",
    "L = np.genfromtxt(os.path.join(data_dir,'intermediate','L.mat'))"
   ]
  },
  {
   "cell_type": "code",
   "execution_count": 65,
   "metadata": {},
   "outputs": [],
   "source": [
    "L_rot = L[:3,:3]"
   ]
  },
  {
   "cell_type": "code",
   "execution_count": 69,
   "metadata": {},
   "outputs": [],
   "source": [
    "U,S,V = np.linalg.svd(L_rot)"
   ]
  },
  {
   "cell_type": "code",
   "execution_count": 72,
   "metadata": {},
   "outputs": [],
   "source": [
    "norm_L = np.matmul(U,V)"
   ]
  },
  {
   "cell_type": "code",
   "execution_count": 78,
   "metadata": {},
   "outputs": [],
   "source": [
    "L[:,3] = 0"
   ]
  },
  {
   "cell_type": "code",
   "execution_count": 79,
   "metadata": {},
   "outputs": [
    {
     "data": {
      "text/plain": [
       "array([[ 0.76574868, -0.51988697, -0.32198992,  0.        ],\n",
       "       [ 0.42711595,  0.82095546, -0.39086503,  0.        ],\n",
       "       [ 0.47357577,  0.16312823,  0.87820876,  0.        ],\n",
       "       [ 0.        ,  0.        ,  0.        ,  0.        ]])"
      ]
     },
     "execution_count": 79,
     "metadata": {},
     "output_type": "execute_result"
    }
   ],
   "source": [
    "np.savetxt()"
   ]
  }
 ],
 "metadata": {
  "kernelspec": {
   "display_name": "Python [default]",
   "language": "python",
   "name": "python3"
  },
  "language_info": {
   "codemirror_mode": {
    "name": "ipython",
    "version": 3
   },
   "file_extension": ".py",
   "mimetype": "text/x-python",
   "name": "python",
   "nbconvert_exporter": "python",
   "pygments_lexer": "ipython3",
   "version": "3.6.2"
  }
 },
 "nbformat": 4,
 "nbformat_minor": 2
}
