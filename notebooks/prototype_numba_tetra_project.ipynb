{
 "cells": [
  {
   "cell_type": "markdown",
   "metadata": {},
   "source": [
    "### prototype_numba_tetra_project\n",
    "\n",
    "Python-based prototype building off of <code>/notebooks/prototype_tetra_mapping</code>.\n",
    "Will be using Numba for optimization of numerical routines.\n",
    "\n",
    "#### Summary\n",
    "\n",
    "The goal of this algorithm is to project voxels in 3D MR volume space to volumetric mesh space. To achieve this we use Monte Carlo sampling of tetrahedrons embedded in MR space to estimate the contributions of each voxel to a given tetrahedron. \n",
    "\n",
    "Uniform sampling of tetrahedrons is achieved using the parallelepiped folding algorithm [Generating Random Points in a Tetrahedron](http://vcg.isti.cnr.it/publications/papers/rndtetra_a.pdf). "
   ]
  },
  {
   "cell_type": "code",
   "execution_count": 1,
   "metadata": {},
   "outputs": [],
   "source": [
    "import sys"
   ]
  },
  {
   "cell_type": "code",
   "execution_count": 2,
   "metadata": {},
   "outputs": [],
   "source": [
    "#If using jupyter hub\n",
    "sys.path.insert(0,'/imaging/home/kimel/jjeyachandra/projects/jjeyachandra/gmsh-sdk/lib/')\n",
    "sys.path.insert(0,'/imaging/home/kimel/jjeyachandra/.conda/envs/3.6_tetra/lib/python3.6/site-packages/')"
   ]
  },
  {
   "cell_type": "code",
   "execution_count": 3,
   "metadata": {},
   "outputs": [
    {
     "name": "stderr",
     "output_type": "stream",
     "text": [
      "/mnt/tigrlab/projects/jjeyachandra/rtms_optimize/tetra/lib/python3.6/importlib/_bootstrap.py:219: ImportWarning: can't resolve package from __spec__ or __package__, falling back on __name__ and __path__\n",
      "  return f(*args, **kwds)\n"
     ]
    }
   ],
   "source": [
    "import os\n",
    "import gmsh\n",
    "import numpy as np\n",
    "import nibabel as nib\n",
    "import nilearn as nil\n",
    "from nilearn import plotting, image\n",
    "from random import uniform\n",
    "import matplotlib\n",
    "from timeit import default_timer as timer\n",
    "%matplotlib inline"
   ]
  },
  {
   "cell_type": "code",
   "execution_count": 4,
   "metadata": {},
   "outputs": [],
   "source": [
    "gmsh.initialize()"
   ]
  },
  {
   "cell_type": "code",
   "execution_count": 5,
   "metadata": {},
   "outputs": [],
   "source": [
    "f_tetra = '../data/simnibs_output/sub-CMH090.msh'\n",
    "f_ribbon_r = '../data/sub-CMH090/ribbon/sub-CMH090_R_ribbon.nii.gz'\n",
    "f_ribbon_l = '../data/sub-CMH090/ribbon/sub-CMH090_L_ribbon.nii.gz'\n",
    "f_t1 = '../data/simnibs_output/m2m_sub-CMH090/T1fs_nu_conform.nii.gz'"
   ]
  },
  {
   "cell_type": "markdown",
   "metadata": {},
   "source": [
    "### Pre-processing"
   ]
  },
  {
   "cell_type": "code",
   "execution_count": 6,
   "metadata": {},
   "outputs": [],
   "source": [
    "t1_img = image.load_img(f_t1)\n",
    "affine = t1_img.affine\n",
    "\n",
    "#Load in ribbon files and merge hemispheres\n",
    "r_ribbon_img = image.load_img(f_ribbon_r)\n",
    "l_ribbon_img = image.load_img(f_ribbon_l)\n",
    "ribbon_img = image.math_img('a+b',a=r_ribbon_img,b=l_ribbon_img)\n",
    "#plotting.view_img(ribbon_img,bg_img=t1_img)"
   ]
  },
  {
   "cell_type": "code",
   "execution_count": 7,
   "metadata": {},
   "outputs": [
    {
     "name": "stderr",
     "output_type": "stream",
     "text": [
      "/mnt/tigrlab/projects/jjeyachandra/rtms_optimize/tetra/lib/python3.6/site-packages/numpy/ctypeslib.py:363: RuntimeWarning: A builtin ctypes object gave a PEP3118 format string that does not match its itemsize, so a best-guess will be made of the data type. Newer versions of python may behave correctly.\n",
      "  return array(obj, copy=False)\n"
     ]
    }
   ],
   "source": [
    "#Read gmsh MSH object\n",
    "gmsh.open(f_tetra)\n",
    "\n",
    "#Get tetrahedral volume \n",
    "tet_gm = (3,2)\n",
    "tet_node_tag, tet_node_coord, tet_node_param = gmsh.model.mesh.getNodes(tet_gm[0],tet_gm[1])\n",
    "tet_elem_tag, tet_elem_coord, tet_elem_param = gmsh.model.mesh.getElements(tet_gm[0],tet_gm[1])\n",
    "\n",
    "# Get grey matter boundary surface\n",
    "surf_gm = (2,2)\n",
    "gm_node_tag, gm_node_coord, gm_node_param = gmsh.model.mesh.getNodes(surf_gm[0],surf_gm[1])\n",
    "_, gm_elem_coord, gm_elem_param = gmsh.model.mesh.getElements(surf_gm[0],surf_gm[1])\n",
    "\n",
    "# Get white matter boundary surface\n",
    "surf_wm = (2,1)\n",
    "wm_node_tag, wm_node_coord, wm_node_param = gmsh.model.mesh.getNodes(surf_wm[0], surf_wm[1])\n",
    "_, wm_elem_coord, wm_elem_param = gmsh.model.mesh.getElements(surf_wm[0], surf_wm[1])"
   ]
  },
  {
   "cell_type": "code",
   "execution_count": 8,
   "metadata": {},
   "outputs": [],
   "source": [
    "#Pull ribbon data and coordinates\n",
    "ribbon = ribbon_img.get_data()\n",
    "x,y,z = np.where(ribbon != 0)"
   ]
  },
  {
   "cell_type": "markdown",
   "metadata": {},
   "source": [
    "### Tetrahedral Projection"
   ]
  },
  {
   "cell_type": "code",
   "execution_count": 9,
   "metadata": {},
   "outputs": [],
   "source": [
    "import numba"
   ]
  },
  {
   "cell_type": "markdown",
   "metadata": {},
   "source": [
    "First re-structure the node --> coordinate mapping into numpy array types, numba doesn't support dictionary types"
   ]
  },
  {
   "cell_type": "code",
   "execution_count": 10,
   "metadata": {},
   "outputs": [],
   "source": [
    "#Why does parallel break?\n",
    "@numba.njit\n",
    "def map_nodes(x, prop_array,out):\n",
    "    '''\n",
    "    Convenience function to remap a value according to a properties array\n",
    "    Arguments:\n",
    "        x                           Array\n",
    "        prop_array                  A properties array in the desired order\n",
    "        \n",
    "    Description of prop_array\n",
    "    \n",
    "    prop_array is an (nx3) numpy array that stores the following information for the ith gmsh element\n",
    "    [1] - minimum element node number\n",
    "    [2] - maximum element node number\n",
    "    [3] - number of element nodes\n",
    "    \n",
    "    This will remap the values such that it goes from  0 --> np.sum(prop_array[:,2]) \n",
    "    So that array-index based hashing can be used for fast coordinate mapping\n",
    "    '''\n",
    "    \n",
    "    \n",
    "    #Loop\n",
    "    for i in np.arange(x.shape[0]):\n",
    "        for j in np.arange(0,x.shape[1]):\n",
    "            for k in np.arange(0,prop_array.shape[0]):\n",
    "        \n",
    "                if (x[i,j] >= prop_array[k,0]) & (x[i,j] <= prop_array[k,1]):\n",
    "                    out[i,j] = x[i,j] - prop_array[k,0] + np.sum(prop_array[:k,2])\n",
    "\n",
    "    return out"
   ]
  },
  {
   "cell_type": "markdown",
   "metadata": {},
   "source": [
    "#### Main numba code"
   ]
  },
  {
   "cell_type": "code",
   "execution_count": 11,
   "metadata": {},
   "outputs": [],
   "source": [
    "@numba.njit\n",
    "def homogenous_transform(coords,L):\n",
    "    '''\n",
    "    Transform into homogenous coordinates and apply linear map, will modify input!\n",
    "        coords                              (1x3) array to transform\n",
    "        L                                   Linear map to apply\n",
    "    '''\n",
    "    #Need to account for weird array behaviour\n",
    "    \n",
    "    tmp = np.ones((4,coords.shape[0]),dtype=np.float64)\n",
    "    tmp[:3,:] = coords.T\n",
    "    tmp = L @ tmp\n",
    "    coords = tmp[:3,:].T\n",
    "    \n",
    "    return coords"
   ]
  },
  {
   "cell_type": "code",
   "execution_count": 12,
   "metadata": {},
   "outputs": [],
   "source": [
    "@numba.njit\n",
    "def meshgrid(x,y,z):\n",
    "    '''\n",
    "    Create a mesh-grid using values in x,y,z - all arrays must be of same length\n",
    "        x                                   X-coordinate array\n",
    "        y                                   Y-coordinate array\n",
    "        z                                   Z-coordinate array\n",
    "    Returns a [3,n] matrix of all points within cubic grid\n",
    "    '''\n",
    "    #Create output array of all possible combinations\n",
    "    mg = np.zeros((3,x.size*y.size*z.size),np.int32)\n",
    "    \n",
    "    #For each item in x\n",
    "    counter = 0 \n",
    "    for i in np.arange(0,x.size):\n",
    "        for j in np.arange(0,y.size):\n",
    "            for k in np.arange(0,z.size):\n",
    "                \n",
    "                mg[0,counter] = x[i]\n",
    "                mg[1,counter] = y[j]\n",
    "                mg[2,counter] = z[k]\n",
    "                counter+=1\n",
    "    return mg"
   ]
  },
  {
   "cell_type": "code",
   "execution_count": 13,
   "metadata": {},
   "outputs": [],
   "source": [
    "@numba.njit\n",
    "def aabb_voxels(coords):\n",
    "    '''\n",
    "    Use axis-aligned boundary box in voxel space to identify candidate voxels\n",
    "        coords                              (4,3) array containing tetrahedral coordinates in voxel space\n",
    "    '''\n",
    "    \n",
    "    #Pre-allocate and store bounds\n",
    "    min_vox = np.zeros((3),np.int32)\n",
    "    max_vox = np.zeros((3),np.int32)\n",
    "    \n",
    "    #Get min, max then floor and ceil respectively\n",
    "    for i in np.arange(0,3):\n",
    "        min_vox[i] = np.min(coords[:,i])\n",
    "        max_vox[i] = np.max(coords[:,i])\n",
    "    min_vox = np.floor(min_vox)\n",
    "    max_vox = np.floor(max_vox)\n",
    "\n",
    "    #Get voxel set\n",
    "    x_range = np.arange(min_vox[0],max_vox[0]+1,1,np.int32)\n",
    "    y_range = np.arange(min_vox[1],max_vox[1]+1,1,np.int32)\n",
    "    z_range = np.arange(min_vox[2],max_vox[2]+1,1,np.int32)\n",
    "    vox_arr = meshgrid(x_range,y_range,z_range)\n",
    "\n",
    "    return vox_arr\n",
    "    "
   ]
  },
  {
   "cell_type": "code",
   "execution_count": 14,
   "metadata": {},
   "outputs": [],
   "source": [
    "@numba.njit\n",
    "def uniform_tet(coords):\n",
    "    '''\n",
    "    Argument:\n",
    "        coords                A (4,3) matrix with rows representing nodes\n",
    "    Output:\n",
    "        point                 A random point inside the tetrahedral volume\n",
    "    '''\n",
    "    \n",
    "    s = np.random.uniform(0,1)\n",
    "    t = np.random.uniform(0,1)\n",
    "    u = np.random.uniform(0,1)\n",
    "\n",
    "    #First cut\n",
    "    if (s+t > 1):\n",
    "        s = 1.0 - s\n",
    "        t = 1.0 - t\n",
    "        \n",
    "    #Second set of cuts  \n",
    "    if (t+u > 1):\n",
    "        tmp = u\n",
    "        u = 1.0 - s - t\n",
    "        t = 1.0 - tmp\n",
    "    elif (s + t + u > 1):\n",
    "        tmp = u \n",
    "        u = s + t + u - 1 \n",
    "        s = 1 - t - tmp\n",
    "        \n",
    "    a = 1 - s - t - u\n",
    "\n",
    "    return a*coords[0] + s*coords[1] + t*coords[2] + u*coords[3]"
   ]
  },
  {
   "cell_type": "code",
   "execution_count": 15,
   "metadata": {},
   "outputs": [],
   "source": [
    "@numba.njit\n",
    "def point_in_vox(point,midpoint,voxdim=1):\n",
    "    '''\n",
    "    Arguments:\n",
    "        point                         Iterable of length 3\n",
    "        midpoint                      Voxel midpoint\n",
    "        voxdim                        Voxel dimensions, assuming isotropic\n",
    "        \n",
    "    Output:\n",
    "        Boolean: True if point in voxel bounds\n",
    "    '''\n",
    "    \n",
    "    halfvox = voxdim/2\n",
    "    \n",
    "    #Checks\n",
    "    if (point[0] <= midpoint[0] - halfvox) or (point[0] >= midpoint[0] + halfvox):\n",
    "        return False\n",
    "    elif (point[1] <= midpoint[1] - halfvox) or (point[1] >= midpoint[1] + halfvox):\n",
    "        return False\n",
    "    elif (point[2] <= midpoint[2] - halfvox) or (point[2] >= midpoint[2] + halfvox):\n",
    "        return False\n",
    "    else:\n",
    "        return True"
   ]
  },
  {
   "cell_type": "code",
   "execution_count": 16,
   "metadata": {},
   "outputs": [],
   "source": [
    "@numba.njit\n",
    "def estimate_partial_parcel(coord,vox,parcels,out_arr,n_iter=300):\n",
    "    '''\n",
    "    Arguments:\n",
    "        coord               (4,3) indexable iterable of tetrahedral coordinates\n",
    "        vox                 (n,3) indexable iterable of voxel coordinates\n",
    "        parcels             (n,1) indexable iterable of parcel labels associated with jth voxel coordinate\n",
    "        out_arr              Output array to be written into \n",
    "        iter                 Number of Monte-Carlo sampling interations\n",
    "    Output:\n",
    "        partial_parcel      (n,1) array containing voxel ownership of tetrahedron \n",
    "\n",
    "    For each tetrahedron we want to assign the value of the voxel \n",
    "    '''\n",
    "    \n",
    "    #Check degenerate case\n",
    "    if np.unique(parcels).shape[0] == 1:\n",
    "        out_arr[parcels[0]] = 1\n",
    "        return out_arr\n",
    "    \n",
    "    #Shift tetrahedron to origin\n",
    "    t = coord[0]\n",
    "    coord = coord - t\n",
    "    \n",
    "    #Perform fixed monte carlo sampling\n",
    "    for i in np.arange(0,n_iter):\n",
    "        p = uniform_tet(coord)\n",
    "        \n",
    "        for j in np.arange(0,vox.shape[1]):\n",
    "            if point_in_vox(p+t, vox[:,j]):\n",
    "                out_arr[parcels[j]] += 1\n",
    "                continue\n",
    "                \n",
    "    out_arr = out_arr/n_iter\n",
    "    return out_arr"
   ]
  },
  {
   "cell_type": "code",
   "execution_count": 28,
   "metadata": {},
   "outputs": [],
   "source": [
    "@numba.njit\n",
    "def tetrahedral_projection(node_list,coord_arr,ribbon,affine,out_arr):\n",
    "    '''\n",
    "    Perform tetrahedral projection\n",
    "        node_list                           List of tetrahedral nodes\n",
    "        coord_arr                           Coordinate list (length=n) in groups of 3 for each node\n",
    "        ribbon                              3D array containing parcels\n",
    "        affine                              Affine transformation matrix associated with ribbon\n",
    "        out_arr                             Output array\n",
    "    '''\n",
    "    \n",
    "    #Compute inverse affine\n",
    "    inv_affine = np.linalg.inv(affine)\n",
    "\n",
    "    #Loop tetrahedrons\n",
    "    t_coord = np.zeros((4,3),dtype=np.float32)\n",
    "    #node_list.shape[0]\n",
    "    for i in numba.prange(0,node_list.shape[0]):\n",
    "\n",
    "        #Get coordinates for nodes\n",
    "        t_coord[0,:] = coord_arr[3*node_list[i,0]:(3*node_list[i,0])+3]\n",
    "        t_coord[1,:] = coord_arr[3*node_list[i,1]:(3*node_list[i,1])+3]\n",
    "        t_coord[2,:] = coord_arr[3*node_list[i,2]:(3*node_list[i,2])+3]\n",
    "        t_coord[3,:] = coord_arr[3*node_list[i,3]:(3*node_list[i,3])+3]\n",
    "\n",
    "        #Step 1: Transform coordinates (maybe use numpy)\n",
    "        t_coord[0:1,:] = homogenous_transform(t_coord[0:1,:],inv_affine)\n",
    "        t_coord[1:2,:] = homogenous_transform(t_coord[1:2,:],inv_affine)\n",
    "        t_coord[2:3,:] = homogenous_transform(t_coord[2:3,:],inv_affine)\n",
    "        t_coord[3:4,:] = homogenous_transform(t_coord[3:4,:],inv_affine)\n",
    "\n",
    "        #Step 2: Perform axis-aligned boundary box finding\n",
    "        vox_arr = aabb_voxels(t_coord)\n",
    "\n",
    "        #Step 3: Get parcel values associated with voxels\n",
    "        parcels = np.zeros((vox_arr.shape[1]),np.int32)\n",
    "        for j in np.arange(vox_arr.shape[1]):\n",
    "            parcels[j] = ribbon[vox_arr[0,j],vox_arr[1,j],vox_arr[2,j]]\n",
    "\n",
    "        #Step 4: Estimate partial parcels\n",
    "        out_arr[i,:] = estimate_partial_parcel(t_coord,vox_arr,parcels,out_arr[i,:],300)\n",
    "\n",
    "    return out_arr\n",
    "        \n",
    "        "
   ]
  },
  {
   "cell_type": "code",
   "execution_count": 29,
   "metadata": {},
   "outputs": [],
   "source": [
    "tet_node_list = tet_elem_param[0].reshape((tet_elem_param[0].shape[0]//4, 4))\n",
    "#Step 1: Store min/max/len -- this will help us map values to node coordinates\n",
    "min_tet = np.min(tet_node_tag)\n",
    "max_tet = np.max(tet_node_tag)\n",
    "len_tet = np.size(tet_node_tag)\n",
    "\n",
    "min_gm = np.min(gm_node_tag)\n",
    "max_gm = np.max(gm_node_tag)\n",
    "len_gm = np.size(gm_node_tag)\n",
    "\n",
    "min_wm = np.min(wm_node_tag)\n",
    "max_wm = np.max(wm_node_tag)\n",
    "len_wm = np.size(wm_node_tag)\n",
    "\n",
    "#Property array to wrap up above features\n",
    "prop_arr = np.array([\n",
    "    [min_tet,max_tet,len_tet],\n",
    "    [min_gm,max_gm,len_gm],\n",
    "    [min_wm,max_wm,len_wm]\n",
    "])"
   ]
  },
  {
   "cell_type": "code",
   "execution_count": 30,
   "metadata": {},
   "outputs": [],
   "source": [
    "out = np.zeros_like(tet_node_list,dtype=np.int64)\n",
    "node_list = map_nodes(tet_node_list,prop_arr, out)\n",
    "coord_arr = np.concatenate((tet_node_coord,gm_node_coord,wm_node_coord))\n",
    "out_arr = np.zeros((node_list.shape[0],np.unique(ribbon).shape[0]))"
   ]
  },
  {
   "cell_type": "code",
   "execution_count": 31,
   "metadata": {},
   "outputs": [
    {
     "name": "stdout",
     "output_type": "stream",
     "text": [
      "587.5477203580085\n"
     ]
    }
   ],
   "source": [
    "start = timer()\n",
    "n_out_arr = tetrahedral_projection(node_list,coord_arr,ribbon,affine,out_arr)\n",
    "end = timer()\n",
    "print(end-start)"
   ]
  },
  {
   "cell_type": "code",
   "execution_count": 38,
   "metadata": {},
   "outputs": [],
   "source": [
    "n_out_arr.tofile('../output/tetra_parcels.txt')"
   ]
  }
 ],
 "metadata": {
  "kernelspec": {
   "display_name": "Python 3",
   "language": "python",
   "name": "python3"
  },
  "language_info": {
   "codemirror_mode": {
    "name": "ipython",
    "version": 3
   },
   "file_extension": ".py",
   "mimetype": "text/x-python",
   "name": "python",
   "nbconvert_exporter": "python",
   "pygments_lexer": "ipython3",
   "version": "3.6.3"
  }
 },
 "nbformat": 4,
 "nbformat_minor": 2
}
