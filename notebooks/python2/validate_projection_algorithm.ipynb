{
 "cells": [
  {
   "cell_type": "markdown",
   "metadata": {},
   "source": [
    "### Validation of Tetrahedral Projection\n",
    "\n",
    "This notebook is a set of tests to ensure that the tetrahedral partial parcel membership make sense.\n",
    "\n",
    "**Context:**\n",
    "- For simplicity in testing we'll use an identity affine matrix so that tetrahedral membership resolution in MR and RAS space is equivalent]\n",
    "***\n",
    "\n",
    "1. Tetrahedron grid test -- we systematically place tetrahedrons at various voxel boundaries with known partial memberships (by known it means \n",
    "\n",
    "2. Tetrahedral visualization and cross-validation with voxel membership -- visualize voxel placement and estimated membership. "
   ]
  },
  {
   "cell_type": "code",
   "execution_count": 2,
   "metadata": {},
   "outputs": [],
   "source": [
    "from scipy.spatial import ConvexHull\n",
    "import nibabel as nib\n",
    "import numpy as np\n",
    "from nilearn import plotting, image\n",
    "import matplotlib.pyplot as plt\n",
    "from fieldopt import geolib, tetrapro"
   ]
  },
  {
   "cell_type": "markdown",
   "metadata": {},
   "source": [
    "### Tetrahedron Grid Test \n",
    "Define an NxN array of pseudo-voxels. Then define several classes of tetrahedrons:\n",
    "1. Fully embedded tetrahedrons -- expect full voxel ownership of tetrahedron\n",
    "2. Horizontal/Vertically/Depthwise bordered tetrahedrons -- expect full ownership of tetrahedron\n",
    "3. Horizontal/Vertically/Depthwise exclusive crossing -- expect 2 voxel ownership of tetrahedron\n",
    "4. Multi-voxel ownership -- expect up to 8 voxel ownership of tetrahedron within adjacent voxel groups"
   ]
  },
  {
   "cell_type": "code",
   "execution_count": 3,
   "metadata": {},
   "outputs": [],
   "source": [
    "#Define some hard variables\n",
    "affine = np.eye(4)"
   ]
  },
  {
   "cell_type": "code",
   "execution_count": 4,
   "metadata": {},
   "outputs": [
    {
     "data": {
      "text/plain": [
       "<nilearn.plotting.displays.OrthoSlicer at 0x7f5960ed4250>"
      ]
     },
     "execution_count": 4,
     "metadata": {},
     "output_type": "execute_result"
    },
    {
     "data": {
      "image/png": "[encoded data removed]",
      "text/plain": [
       "<Figure size 475.2x187.2 with 4 Axes>"
      ]
     },
     "metadata": {},
     "output_type": "display_data"
    }
   ],
   "source": [
    "#Generate fake 3-dimensional grid for testing\n",
    "N = 10\n",
    "data_grid = np.ones((N**3)).cumsum()\n",
    "data_grid = data_grid.reshape((N,N,N))\n",
    "\n",
    "#So element numbering goes row, col, depth\n",
    "data_grid = np.swapaxes(data_grid,0,2)\n",
    "data = nib.Nifti1Image(data_grid,affine)\n",
    "plotting.plot_epi(data)"
   ]
  },
  {
   "cell_type": "code",
   "execution_count": 118,
   "metadata": {},
   "outputs": [],
   "source": [
    "#Make Class 1 testing coordinates\n",
    "#For each \"voxel index\" pick 3 coordinates contained within the boundaries\n",
    "def gen_class1_tet(n,shape):\n",
    "    '''\n",
    "    Generate <n> Class 1 (fully embedded) tetrahedrons within a data grid of shape <shape> \n",
    "    Returns a list of coordinates for each node as well as vertex ID for each tetrahedron\n",
    "    \n",
    "    Implementational Details:\n",
    "    For each tetrahedron, select a voxel i,j,k in linear ordering\n",
    "    Generate a (4x3) matrix of uniformly distributed variables, where n=4 describes the number of vertices \n",
    "        and m=3 describes the i,j,k coordinates respectively. \n",
    "        \n",
    "    Adjust columns of the random matrix according to voxel identity to ensure complete embedding of tetrahedral\n",
    "        vertices in voxel i,j,k\n",
    "    '''\n",
    "\n",
    "    node_ids = np.ones((n,4)).cumsum().reshape((n,4))\n",
    "    coord_array = np.zeros((n*4,3))\n",
    "    for i in np.arange(0,n):\n",
    "\n",
    "        #Select voxel in shape\n",
    "        step_z = i // (shape[0] * shape[1])\n",
    "        step_y = i // (shape[0]) - shape[2]*step_z\n",
    "        step_x = i - shape[1]*step_y - shape[1]*shape[2]*step_z\n",
    "        selected_vox=(step_x,step_y,step_z)\n",
    "\n",
    "        #Generate 4 sets of random integers within the boundaries defined by voxel\n",
    "        rand_coords = np.random.random(size=(4,3))\n",
    "\n",
    "        #Modify each value generated by boundariers defined by voxel \n",
    "        rand_coords[:,0] += step_x\n",
    "        rand_coords[:,1] += step_y\n",
    "        rand_coords[:,2] += step_z\n",
    "\n",
    "        coord_array[4*i,:] = rand_coords[0,:]\n",
    "        coord_array[4*i+1,:] = rand_coords[1,:]\n",
    "        coord_array[4*i+2,:] = rand_coords[2,:]\n",
    "        coord_array[4*i+3,:] = rand_coords[3,:]\n",
    "        \n",
    "    return node_ids, coord_array"
   ]
  },
  {
   "cell_type": "code",
   "execution_count": null,
   "metadata": {},
   "outputs": [],
   "source": [
    "#Make Class 2 testing coordinates\n",
    "def gen_class2_tet(n,shape):\n",
    "    '''\n",
    "    Generate <n> Class 2 (fully embedded bordered) tetrahedrons within a data grid of shape <shape> \n",
    "    Returns a list of coordinates for each node as well as a vertex ID for each tetrahedron\n",
    "    \n",
    "    Implementational Details: \n",
    "    For each tetrahedron, select a voxel i,j,k in linear ordering\n",
    "    Out of all possibilities of 2 adjacent faces unioned with the set of single faces pick 1 scenario\n",
    "    If 2 faces:\n",
    "        Select v1 to be a corner of the adjacent faces\n",
    "        Select v2 to be on either face1 or face2\n",
    "        Select v3 to be on the opposite face\n",
    "        Select v4 to be on the intersecting edge between the two faces\n",
    "    If 1 face:\n",
    "        Select v1,v2,v3 to be positioned on the face\n",
    "        Select v4 randomly inside the cube\n",
    "    '''\n",
    "    \n",
    "    node_ids = np.ones((n,4)).cumsum().reshape((n,4))\n",
    "    coord_array = np.array((n*4,3))\n",
    "    for i in np.arange(0,n):\n",
    "        \n",
    "        #Select voxel in shape\n",
    "        step_z = i // (shape[0] * shape[1])\n",
    "        step_y = i // (shape[0]) - shape[2]*step_z\n",
    "        step_x = i - shape[1]*step_y - shape[1]*shape[2]*step_z\n",
    "        selected_vox=(step_x,step_y,step_z)\n",
    "        \n",
    "        #Pick a face"
   ]
  }
 ],
 "metadata": {
  "kernelspec": {
   "display_name": "Python 2",
   "language": "python",
   "name": "python2"
  },
  "language_info": {
   "codemirror_mode": {
    "name": "ipython",
    "version": 2
   },
   "file_extension": ".py",
   "mimetype": "text/x-python",
   "name": "python",
   "nbconvert_exporter": "python",
   "pygments_lexer": "ipython2",
   "version": "2.7.12"
  }
 },
 "nbformat": 4,
 "nbformat_minor": 2
}
