{
 "cells": [
  {
   "cell_type": "markdown",
   "metadata": {},
   "source": [
    "### Validation of Tetrahedral Projection\n",
    "\n",
    "This notebook is a set of tests to ensure that the tetrahedral partial parcel membership make sense.\n",
    "\n",
    "**Context:**\n",
    "- For simplicity in testing we'll use an identity affine matrix so that tetrahedral membership resolution in MR and RAS space is equivalent]\n",
    "***\n",
    "\n",
    "1. Tetrahedron grid test -- we systematically place tetrahedrons at various voxel boundaries with known partial memberships (by known it means \n",
    "\n",
    "2. Tetrahedral visualization and cross-validation with voxel membership -- visualize voxel placement and estimated membership. "
   ]
  },
  {
   "cell_type": "code",
   "execution_count": null,
   "metadata": {},
   "outputs": [],
   "source": [
    "from scipy.spatial import ConvexHull\n",
    "import nibabel as nib\n",
    "import numpy as np\n",
    "from nilearn import plotting, image\n",
    "import matplotlib.pyplot as plt"
   ]
  },
  {
   "cell_type": "code",
   "execution_count": null,
   "metadata": {},
   "outputs": [],
   "source": [
    "import io, os, sys, types\n",
    "from IPython import get_ipython\n",
    "from nbformat import read\n",
    "from IPython.core.interactiveshell import InteractiveShell"
   ]
  },
  {
   "cell_type": "code",
   "execution_count": null,
   "metadata": {},
   "outputs": [],
   "source": [
    "#https://jupyter-notebook.readthedocs.io/en/stable/examples/Notebook/Importing%20Notebooks.html\n",
    "#This is for loading functions for another jupyter notebook\n",
    "class NotebookLoader(object):\n",
    "    \"\"\"Module Loader for Jupyter Notebooks\"\"\"\n",
    "    def __init__(self, path=None):\n",
    "        self.shell = InteractiveShell.instance()\n",
    "        self.path = path\n",
    "\n",
    "    def load_module(self, fullname):\n",
    "        \"\"\"import a notebook as a module\"\"\"\n",
    "        \n",
    "        \n",
    "        path = os.path.join(self.path,fullname) + '.ipynb'\n",
    "\n",
    "        print (\"importing Jupyter notebook from %s\" % path)\n",
    "\n",
    "        # load the notebook object\n",
    "        with io.open(path, 'r', encoding='utf-8') as f:\n",
    "            nb = read(f, 4)\n",
    "\n",
    "\n",
    "        # create the module and add it to sys.modules\n",
    "        # if name in sys.modules:\n",
    "        #    return sys.modules[name]\n",
    "        mod = types.ModuleType(fullname)\n",
    "        mod.__file__ = path\n",
    "        mod.__loader__ = self\n",
    "        mod.__dict__['get_ipython'] = get_ipython\n",
    "        sys.modules[fullname] = mod\n",
    "\n",
    "        # extra work to ensure that magics that would affect the user_ns\n",
    "        # actually affect the notebook module's ns\n",
    "        save_user_ns = self.shell.user_ns\n",
    "        self.shell.user_ns = mod.__dict__\n",
    "\n",
    "        try:\n",
    "            for cell in nb.cells:\n",
    "                if cell.cell_type == 'code':\n",
    "                    # transform the input to executable Python\n",
    "                    code = self.shell.input_transformer_manager.transform_cell(cell.source)\n",
    "                    # run the code in themodule\n",
    "                    exec(code, mod.__dict__)\n",
    "        finally:\n",
    "            self.shell.user_ns = save_user_ns\n",
    "        return mod"
   ]
  },
  {
   "cell_type": "code",
   "execution_count": 13,
   "metadata": {},
   "outputs": [
    {
     "name": "stdout",
     "output_type": "stream",
     "text": [
      "importing Jupyter notebook from /projects/jjeyachandra/rtms_optimize/notebooks/python2/tetrapro.ipynb\n"
     ]
    }
   ],
   "source": [
    "tlib_path = '/projects/jjeyachandra/rtms_optimize/notebooks/python2/'\n",
    "nbload = NotebookLoader(tlib_path)\n",
    "tetrapro = nbload.load_module('tetrapro')"
   ]
  },
  {
   "cell_type": "markdown",
   "metadata": {},
   "source": [
    "### Tetrahedron Grid Test \n",
    "Define an NxN array of pseudo-voxels. Then define several classes of tetrahedrons:\n",
    "1. Fully embedded tetrahedrons -- expect full voxel ownership of tetrahedron\n",
    "2. Horizontal/Vertically bordered tetrahedrons -- expect full ownership of tetrahedron\n",
    "3. Horizontal/Vertically exclusive crossing -- expect 2 voxel ownership of tetrahedron\n",
    "4. Multi-voxel ownership -- expect 3-4 voxel ownership of tetrahedron within adjacent voxel groups"
   ]
  },
  {
   "cell_type": "code",
   "execution_count": null,
   "metadata": {},
   "outputs": [],
   "source": [
    "#Create fake inputs\n"
   ]
  }
 ],
 "metadata": {
  "kernelspec": {
   "display_name": "Python 2",
   "language": "python",
   "name": "python2"
  },
  "language_info": {
   "codemirror_mode": {
    "name": "ipython",
    "version": 2
   },
   "file_extension": ".py",
   "mimetype": "text/x-python",
   "name": "python",
   "nbconvert_exporter": "python",
   "pygments_lexer": "ipython2",
   "version": "2.7.12"
  }
 },
 "nbformat": 4,
 "nbformat_minor": 2
}
