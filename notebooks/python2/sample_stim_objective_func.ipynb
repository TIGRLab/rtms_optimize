{
 "cells": [
  {
   "cell_type": "markdown",
   "metadata": {},
   "source": [
    "This notebook notebook runs a full grid evaluation of the E-field distributional landscape given input parameters $(x,y,\\theta)$. This is achieved massive experiment parallelization using sbatch then collection into a local directory via file deposition.  "
   ]
  },
  {
   "cell_type": "code",
   "execution_count": 1,
   "metadata": {},
   "outputs": [],
   "source": [
    "import sys"
   ]
  },
  {
   "cell_type": "code",
   "execution_count": 2,
   "metadata": {},
   "outputs": [],
   "source": [
    "#SCC package environment\n",
    "sys.path.insert(0,'/KIMEL/tigrlab/projects/jjeyachandra/gmsh-sdk/lib/')\n",
    "sys.path.insert(0,'/projects/jjeyachandra/simnibs/miniconda2/envs/simnibs_env/lib/python2.7/site-packages')\n",
    "sys.path.insert(0,'/projects/jjeyachandra/simnibs/Python_modules/src')"
   ]
  },
  {
   "cell_type": "code",
   "execution_count": 6,
   "metadata": {},
   "outputs": [],
   "source": [
    "from shutil import copy"
   ]
  },
  {
   "cell_type": "code",
   "execution_count": 3,
   "metadata": {},
   "outputs": [],
   "source": [
    "#Load custom slurm magic\n",
    "%load_ext slurm_magic"
   ]
  },
  {
   "cell_type": "code",
   "execution_count": 41,
   "metadata": {},
   "outputs": [
    {
     "data": {
      "text/plain": [
       "u'Submitted batch job 65820\\n'"
      ]
     },
     "execution_count": 41,
     "metadata": {},
     "output_type": "execute_result"
    }
   ],
   "source": [
    "%%sbatch\n",
    "#!/usr/bin/env python\n",
    "#SBATCH --partition=low-moby\n",
    "#SBATCH --output=/projects/jjeyachandra/rtms_optimize/objective_grid/log/sim_%a.out\n",
    "#SBATCH --error=/projects/jjeyachandra/rtms_optimize/objective_grid/log/sim_%a.err\n",
    "#SBATCH --nodes=1\n",
    "#SBATCH --cpus-per-task=1\n",
    "#SBATCH --mem-per-cpu=5G\n",
    "#SBATCH --job-name=field_simulations\n",
    "#SBATCH --array=0-19\n",
    "\n",
    "#Package import\n",
    "import sys\n",
    "sys.path.insert(0,'/projects/jjeyachandra/simnibs/miniconda2/envs/simnibs_env/lib/python2.7/site-packages')\n",
    "sys.path.insert(0,'/projects/jjeyachandra/simnibs/Python_modules/src')\n",
    "\n",
    "import os\n",
    "from shutil import copy\n",
    "\n",
    "import numpy as np\n",
    "from simnibs import sim_struct, run_simulation\n",
    "from fieldopt import geolib, tetrapro\n",
    "\n",
    "####### DATA LOADING\n",
    "\n",
    "#File specification\n",
    "proj_dir = '/projects/jjeyachandra/rtms_optimize'\n",
    "C = np.fromfile(os.path.join(proj_dir,'output','quadratic_vec'))\n",
    "iR = np.fromfile(os.path.join(proj_dir,'output','inverse_rot')).reshape(3,3)\n",
    "b = np.fromfile(os.path.join(proj_dir,'output','param_bounds')).reshape(3,2)\n",
    "grid_path = os.path.join(proj_dir,'objective_grid','grid')\n",
    "\n",
    "###### INPUT SETUP \n",
    "\n",
    "#Set up evaluation grid\n",
    "fidelity = 20\n",
    "x_samps = np.linspace(b[0,0],b[0,1],fidelity)\n",
    "y_samps = np.linspace(b[1,0],b[1,1],fidelity)\n",
    "rot_samps = np.linspace(0,180,fidelity)\n",
    "XX,YY,RR = np.meshgrid(x_samps,y_samps,rot_samps)\n",
    "XX = XX.flatten().reshape((fidelity**3,1))\n",
    "YY = YY.flatten().reshape((fidelity**3,1))\n",
    "RR = RR.flatten().reshape((fidelity**3,1))\n",
    "sample_set = np.concatenate((XX,YY,RR),axis=1)\n",
    "\n",
    "#Pick input parameters\n",
    "ind = int(os.environ['SLURM_ARRAY_TASK_ID'])\n",
    "x,y,r = sample_set[ind,:] \n",
    "\n",
    "#Set up spatial postioning\n",
    "preaff_loc = geolib.map_param_2_surf(x,y,C)\n",
    "loc = np.matmul(iR,preaff_loc)\n",
    "\n",
    "#Set up rotational positioning\n",
    "preaff_rot, preaff_n = geolib.map_rot_2_surf(x,y,r,C)\n",
    "rot = np.matmul(iR,preaff_rot)\n",
    "n = np.matmul(iR,preaff_n)\n",
    "\n",
    "###### SIMULATION SETUP\n",
    "\n",
    "#Start a session\n",
    "S = sim_struct.SESSION()\n",
    "S.fnamehead = os.path.join(proj_dir,'data','simnibs_output','sub-CMH090.msh')\n",
    "S.pathfem = os.path.join(grid_path,'sim_{}'.format(ind))\n",
    "tms = S.add_tmslist()\n",
    "tms.fnamecoil='/projects/jjeyachandra/simnibs/ccd-files/Magstim_70mm_Fig8.nii.gz'\n",
    "pos = tms.add_position()\n",
    "pos.matsimnibs = geolib.define_coil_orientation(loc,rot,n)\n",
    "\n",
    "print('Running simulation with:')\n",
    "print('INPUTS: {} {} {}'.format(x,y,r))\n",
    "print('INDEX: {}'.format(ind))\n",
    "print('POSITION ARRAY:')\n",
    "print(pos.matsimnibs)\n",
    "\n",
    "#Run simulation\n",
    "run_simulation(S)\n",
    "print('Finished successfully!')\n",
    "\n",
    "###### PROCESS OUTPUTS \n",
    "\n",
    "#Save the geo file\n",
    "geo_dir=os.path.join(proj_dir,'objective_grid','geo_output')\n",
    "geo_file=os.path.join(grid_path,'sim_{}'.format(ind),\n",
    "                      'sub-CMH090_TMS_1-0001_Magstim_70mm_Fig8_nii_coil_pos.geo')\n",
    "geo_out=os.path.join(geo_dir,'sub-CMH090_{}.geo'.format(ind))\n",
    "copy(geo_file,geo_out)\n",
    "\n",
    "#Compute score on output\n",
    "field_file=os.path.join(S.pathfem,'sub-CMH090_TMS_1-0001_Magstim_70mm_Fig8_nii_scalar.msh')\n",
    "parcelmap_path = os.path.join(proj_dir,'output','tetra_parcels')\n",
    "num_parcels = 20\n",
    "target_parcel = 2\n",
    "proj_map = np.fromfile(parcelmap_path)\n",
    "proj_map = proj_map.reshape( (proj_map.shape[0]//(num_parcels + 1), num_parcels + 1) )\n",
    "_, elem_ids, _ = geolib.load_gmsh_elems(S.fnamehead,entity=(3,2))\n",
    "norm_E = geolib.get_field_subset(field_file,elem_ids)\n",
    "score = geolib.compute_field_score(norm_E,proj_map,target_parcel)\n",
    "\n",
    "#Save score value\n",
    "score_dir=os.path.join(proj_dir,'objective_grid','scores')\n",
    "score_file=os.path.join(score_dir,'fx_{}'.format(ind))\n",
    "np.save(score_file,score)\n",
    "\n",
    "print('Finished successfully')"
   ]
  }
 ],
 "metadata": {
  "kernelspec": {
   "display_name": "Python 2",
   "language": "python",
   "name": "python2"
  },
  "language_info": {
   "codemirror_mode": {
    "name": "ipython",
    "version": 2
   },
   "file_extension": ".py",
   "mimetype": "text/x-python",
   "name": "python",
   "nbconvert_exporter": "python",
   "pygments_lexer": "ipython2",
   "version": "2.7.12"
  }
 },
 "nbformat": 4,
 "nbformat_minor": 2
}
