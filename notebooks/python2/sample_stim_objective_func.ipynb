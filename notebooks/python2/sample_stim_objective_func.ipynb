{
 "cells": [
  {
   "cell_type": "markdown",
   "metadata": {},
   "source": [
    "This notebook notebook runs a full grid evaluation of the E-field distributional landscape given input parameters $(x,y,\\theta)$. This is achieved massive experiment parallelization using sbatch then collection into a local directory via file deposition.  "
   ]
  },
  {
   "cell_type": "code",
   "execution_count": 1,
   "metadata": {},
   "outputs": [],
   "source": [
    "import sys"
   ]
  },
  {
   "cell_type": "code",
   "execution_count": 2,
   "metadata": {},
   "outputs": [],
   "source": [
    "#SCC package environment\n",
    "sys.path.insert(0,'/KIMEL/tigrlab/projects/jjeyachandra/gmsh-sdk/lib/')\n",
    "sys.path.insert(0,'/projects/jjeyachandra/simnibs/miniconda2/envs/simnibs_env/lib/python2.7/site-packages')\n",
    "sys.path.insert(0,'/projects/jjeyachandra/simnibs/Python_modules/src')"
   ]
  },
  {
   "cell_type": "code",
   "execution_count": 3,
   "metadata": {},
   "outputs": [],
   "source": [
    "import numpy as np\n",
    "from simnibs import sim_struct, run_simulation\n",
    "\n",
    "#Timing\n",
    "from timeit import default_timer as timer\n",
    "\n",
    "#Load custom slurm magic\n",
    "%load_ext slurm_magic"
   ]
  },
  {
   "cell_type": "code",
   "execution_count": 4,
   "metadata": {},
   "outputs": [],
   "source": [
    "from fieldopt import geolib, tetrapro"
   ]
  },
  {
   "cell_type": "code",
   "execution_count": 5,
   "metadata": {},
   "outputs": [],
   "source": [
    "#Load up quadratic surface constants, inverse rotation matrix, bounds and normal vector\n",
    "#This is for the Bayesian optimization component\n",
    "C = np.fromfile('../../output/quadratic_vec')\n",
    "iR = np.fromfile('../../output/inverse_rot').reshape((3,3))\n",
    "b  = np.fromfile('../../output/param_bounds').reshape((3,2))"
   ]
  },
  {
   "cell_type": "code",
   "execution_count": null,
   "metadata": {},
   "outputs": [],
   "source": [
    "#Set up evaluation grid"
   ]
  },
  {
   "cell_type": "code",
   "execution_count": 8,
   "metadata": {},
   "outputs": [
    {
     "data": {
      "text/plain": [
       "u'Submitted batch job 61882\\n'"
      ]
     },
     "execution_count": 8,
     "metadata": {},
     "output_type": "execute_result"
    }
   ],
   "source": [
    "%%sbatch\n",
    "#!/usr/bin/env python\n",
    "#SBATCH --partition=thunk\n",
    "#SBATCH --output=/projects/jjeyachandra/rtms_optimize/testing/testing.out\n",
    "#SBATCH --error=/projects/jjeyachandra/rtms_optimize/testing/testing.err\n",
    "#SBATCH --nodes=1\n",
    "#SBATCH --cpus-per-task=1\n",
    "#SBATCH --job-name=testing_jupyter_slurm\n",
    "\n",
    "#Package import\n",
    "import sys\n",
    "sys.path.insert(0,'/projects/jjeyachandra/simnibs/miniconda2/envs/simnibs_env/lib/python2.7/site-packages')\n",
    "sys.path.insert(0,'/projects/jjeyachandra/simnibs/Python_modules/src')\n",
    "\n",
    "from simnibs import sim_struct\n",
    "from fieldopt import geolib, tetrapro\n",
    "import numpy as np\n",
    "\n",
    "print('Completed successfully')"
   ]
  }
 ],
 "metadata": {
  "kernelspec": {
   "display_name": "Python 2",
   "language": "python",
   "name": "python2"
  },
  "language_info": {
   "codemirror_mode": {
    "name": "ipython",
    "version": 2
   },
   "file_extension": ".py",
   "mimetype": "text/x-python",
   "name": "python",
   "nbconvert_exporter": "python",
   "pygments_lexer": "ipython2",
   "version": "2.7.12"
  }
 },
 "nbformat": 4,
 "nbformat_minor": 2
}
