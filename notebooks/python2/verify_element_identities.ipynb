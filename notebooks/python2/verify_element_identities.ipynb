{
 "cells": [
  {
   "cell_type": "markdown",
   "metadata": {},
   "source": [
    "This notebook is an exploration of how field data can be extracted from the results of a simulation. Since we cannot extract these values using gmsh, we use the simnibs gmsh toolkit - however it comes with caveats as shown below:"
   ]
  },
  {
   "cell_type": "code",
   "execution_count": 2,
   "metadata": {},
   "outputs": [],
   "source": [
    "import sys"
   ]
  },
  {
   "cell_type": "code",
   "execution_count": 3,
   "metadata": {},
   "outputs": [],
   "source": [
    "#SCC package environment\n",
    "sys.path.insert(0,'/KIMEL/tigrlab/projects/jjeyachandra/gmsh-sdk/lib/')\n",
    "sys.path.insert(0,'/home/jjeyachandra/simnibs_2.1.2/miniconda2/envs/simnibs_env/lib/python2.7/site-packages')\n",
    "sys.path.insert(0,'/home/jjeyachandra/simnibs_2.1.2/Python_modules/src')"
   ]
  },
  {
   "cell_type": "code",
   "execution_count": 53,
   "metadata": {},
   "outputs": [],
   "source": [
    "import os\n",
    "import gmsh\n",
    "import numpy as np\n",
    "from timeit import default_timer as timer\n",
    "from simnibs.msh import gmsh_numpy as simgmsh\n",
    "import matplotlib.pyplot as plt"
   ]
  },
  {
   "cell_type": "code",
   "execution_count": 5,
   "metadata": {},
   "outputs": [],
   "source": [
    "#File containing simulation\n",
    "sim_file = '../../data/simnibs_output/test_simulation/sub-CMH090_TMS_1-0001_Magstim_70mm_Fig8_nii_scalar.msh'"
   ]
  },
  {
   "cell_type": "code",
   "execution_count": 6,
   "metadata": {},
   "outputs": [],
   "source": [
    "#Load mesh\n",
    "msh = simgmsh.read_msh(sim_file)\n",
    "\n",
    "#Crop mesh to only include tetrahedral elements\n",
    "tet_msh = msh.crop_mesh(tags=2)"
   ]
  },
  {
   "cell_type": "code",
   "execution_count": 7,
   "metadata": {},
   "outputs": [],
   "source": [
    "#Now we want to get just the grey matter elements\n",
    "norm_E = tet_msh.elmdata[1].value"
   ]
  },
  {
   "cell_type": "code",
   "execution_count": 8,
   "metadata": {},
   "outputs": [
    {
     "data": {
      "text/plain": [
       "array([[[-31.833855  ,  24.683672  ,  29.181765  ],\n",
       "        [-32.49903439,  23.77358006,  30.37456153],\n",
       "        [-31.745123  ,  24.671728  ,  30.409279  ],\n",
       "        [-32.312817  ,  25.719074  ,  29.342737  ]],\n",
       "\n",
       "       [[ 39.68859316,  -4.47707327, -37.25354349],\n",
       "        [ 38.47295538,  -3.19481116, -39.23273685],\n",
       "        [ 37.103786  ,  -3.961497  , -38.073193  ],\n",
       "        [ 38.51841036,  -3.04933624, -37.81565263]],\n",
       "\n",
       "       [[ 54.864586  , -38.395596  , -10.224445  ],\n",
       "        [ 52.29897547, -37.16656001, -10.7999081 ],\n",
       "        [ 54.658424  , -37.151691  , -10.411604  ],\n",
       "        [ 54.15082568, -37.83382872, -12.77249137]],\n",
       "\n",
       "       ...,\n",
       "\n",
       "       [[  1.222491  , -41.907738  ,  27.1861    ],\n",
       "        [  2.616179  , -42.270012  ,  27.221222  ],\n",
       "        [  2.268463  , -41.677254  ,  26.813072  ],\n",
       "        [  2.15951383, -41.20984811,  27.93331375]],\n",
       "\n",
       "       [[ 53.82251   ,  -5.819618  ,  15.888398  ],\n",
       "        [ 52.66561605,  -5.24392561,  16.07268392],\n",
       "        [ 53.936951  ,  -5.672938  ,  17.094021  ],\n",
       "        [ 53.6884914 ,  -5.45876789,  15.9728946 ]],\n",
       "\n",
       "       [[ 51.218578  , -33.2869    , -14.481811  ],\n",
       "        [ 53.964378  , -31.928951  , -12.755017  ],\n",
       "        [ 53.03941392, -31.82448368, -13.1766165 ],\n",
       "        [ 53.116894  , -32.585335  , -12.127155  ]]])"
      ]
     },
     "execution_count": 8,
     "metadata": {},
     "output_type": "execute_result"
    }
   ],
   "source": [
    "tet_msh.elm_node_coords()"
   ]
  },
  {
   "cell_type": "markdown",
   "metadata": {},
   "source": [
    "### Question to Answer:\n",
    "Whether we can find a 1:1 mapping of correspondence between the re-ordered nodes to the original nodes \n",
    "Or whether the re-numbering process destroys this correspondence..."
   ]
  },
  {
   "cell_type": "code",
   "execution_count": 9,
   "metadata": {},
   "outputs": [],
   "source": [
    "#First pull a subset according to what was in tet_elem_param\n",
    "f_tetra = '../../data/simnibs_output/sub-CMH090.msh'\n",
    "gmsh.initialize()\n",
    "gmsh.open(f_tetra)\n",
    "tet_gm = (3,2)\n",
    "tet_node_tag, tet_node_coord, tet_node_param = gmsh.model.mesh.getNodes(tet_gm[0],tet_gm[1])\n",
    "tet_elem_tag, tet_elem_coord, tet_elem_param = gmsh.model.mesh.getElements(tet_gm[0],tet_gm[1])"
   ]
  },
  {
   "cell_type": "code",
   "execution_count": 18,
   "metadata": {},
   "outputs": [],
   "source": [
    "tet_tags = np.array(tet_elem_coord[0], dtype=np.int64)"
   ]
  },
  {
   "cell_type": "code",
   "execution_count": 38,
   "metadata": {},
   "outputs": [],
   "source": [
    "#Pull this subset from the original mesh and compare statistics of the field norms\n",
    "tag_msh = msh.crop_mesh(elements=tet_tags)"
   ]
  },
  {
   "cell_type": "code",
   "execution_count": 58,
   "metadata": {},
   "outputs": [],
   "source": [
    "tag_normE = tag_msh.elmdata[1].value"
   ]
  },
  {
   "cell_type": "markdown",
   "metadata": {},
   "source": [
    "We have an exact match, however the issue is still that our node numbering is completely messed around with in a way we can't guarantee that ordering is the same (node maxes are clipped!)"
   ]
  },
  {
   "cell_type": "code",
   "execution_count": 51,
   "metadata": {},
   "outputs": [],
   "source": [
    "tet_coords = np.array(tet_elem_param[0],dtype=np.int64)\n",
    "tet_coords = tet_coords.reshape( (tet_coords.shape[0]//4,4) )"
   ]
  },
  {
   "cell_type": "code",
   "execution_count": 63,
   "metadata": {},
   "outputs": [
    {
     "data": {
      "image/png": "[encoded data removed]",
      "text/plain": [
       "<Figure size 720x504 with 1 Axes>"
      ]
     },
     "metadata": {
      "needs_background": "light"
     },
     "output_type": "display_data"
    }
   ],
   "source": [
    "#Plot for comparison\n",
    "fig = plt.figure(figsize=(10,7))\n",
    "ax = fig.add_subplot(111)\n",
    "ax.hist(tag_normE,bins=40,alpha=0.5)\n",
    "ax.hist(norm_E,bins=40,alpha=0.5)\n",
    "plt.show()"
   ]
  },
  {
   "cell_type": "markdown",
   "metadata": {},
   "source": [
    "Get perfect overlap indicating that we did extract the correct nodes. The next question is how we can guarantee that the ordering of the nodes aren't messed up..."
   ]
  },
  {
   "cell_type": "markdown",
   "metadata": {},
   "source": [
    "We can try manually extracting from the entire mesh and comparing the ordering using node tags"
   ]
  },
  {
   "cell_type": "code",
   "execution_count": 71,
   "metadata": {},
   "outputs": [],
   "source": [
    "#From elmdata pull the relevant tags\n",
    "elm_subset = msh.elmdata[1].value[tet_tags]"
   ]
  },
  {
   "cell_type": "code",
   "execution_count": 78,
   "metadata": {},
   "outputs": [
    {
     "data": {
      "image/png": "[encoded data removed]",
      "text/plain": [
       "<Figure size 720x504 with 1 Axes>"
      ]
     },
     "metadata": {
      "needs_background": "light"
     },
     "output_type": "display_data"
    }
   ],
   "source": [
    "#Plot\n",
    "fig = plt.figure(figsize=(10,7))\n",
    "ax = fig.add_subplot(111)\n",
    "ax.hist(norm_E,bins=40,alpha=0.5)\n",
    "ax.hist(elm_subset,bins=40,alpha=0.5)\n",
    "plt.show()"
   ]
  },
  {
   "cell_type": "markdown",
   "metadata": {},
   "source": [
    "Now we have evidence that the values are equivalent when pulling from the full mesh, checking that the arrays themselves are ordered in the same way (i think not..)"
   ]
  },
  {
   "cell_type": "code",
   "execution_count": 80,
   "metadata": {},
   "outputs": [
    {
     "data": {
      "text/plain": [
       "False"
      ]
     },
     "execution_count": 80,
     "metadata": {},
     "output_type": "execute_result"
    }
   ],
   "source": [
    "np.array_equiv(elm_subset,norm_E)"
   ]
  },
  {
   "cell_type": "markdown",
   "metadata": {},
   "source": [
    "This indicates the cropping a full mesh not only re-numbers the element tag data, but it also changes the order of the representation. We can avoid this by passing on the element data from the original mesh and subsetting the field data directly rather than cropping (as they do in simnibs examples)"
   ]
  }
 ],
 "metadata": {
  "kernelspec": {
   "display_name": "Python 2",
   "language": "python",
   "name": "python2"
  },
  "language_info": {
   "codemirror_mode": {
    "name": "ipython",
    "version": 2
   },
   "file_extension": ".py",
   "mimetype": "text/x-python",
   "name": "python",
   "nbconvert_exporter": "python",
   "pygments_lexer": "ipython2",
   "version": "2.7.12"
  }
 },
 "nbformat": 4,
 "nbformat_minor": 2
}
