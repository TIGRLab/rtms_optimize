{
 "cells": [
  {
   "cell_type": "markdown",
   "metadata": {},
   "source": [
    "This notebook set's up an FEM simulation by sampling from the analytical approximation of the surface patch with some $\\theta$. Then we translate this into a simnibs input matrix and run a simulation and return the results"
   ]
  },
  {
   "cell_type": "code",
   "execution_count": 10,
   "metadata": {},
   "outputs": [],
   "source": [
    "import sys"
   ]
  },
  {
   "cell_type": "code",
   "execution_count": 11,
   "metadata": {},
   "outputs": [],
   "source": [
    "#SCC package environment\n",
    "sys.path.insert(0,'/KIMEL/tigrlab/projects/jjeyachandra/gmsh-sdk/lib/')\n",
    "sys.path.insert(0,'/projects/jjeyachandra/simnibs/miniconda2/envs/simnibs_env/lib/python2.7/site-packages')\n",
    "sys.path.insert(0,'/projects/jjeyachandra/simnibs/Python_modules/src')"
   ]
  },
  {
   "cell_type": "code",
   "execution_count": 12,
   "metadata": {},
   "outputs": [],
   "source": [
    "import numpy as np\n",
    "from simnibs import sim_struct, run_simulation\n",
    "\n",
    "#For importing geometry library\n",
    "import io, os, sys, types\n",
    "from IPython import get_ipython\n",
    "from nbformat import read\n",
    "from IPython.core.interactiveshell import InteractiveShell\n",
    "\n",
    "#Timing\n",
    "from timeit import default_timer as timer"
   ]
  },
  {
   "cell_type": "code",
   "execution_count": 13,
   "metadata": {},
   "outputs": [],
   "source": [
    "from fieldopt import geolib, tetrapro"
   ]
  },
  {
   "cell_type": "code",
   "execution_count": 14,
   "metadata": {},
   "outputs": [],
   "source": [
    "#Load up quadratic surface constants, inverse rotation matrix, bounds and normal vector\n",
    "#This is for the Bayesian optimization component\n",
    "C = np.fromfile('../../output/quadratic_vec')\n",
    "iR = np.fromfile('../../output/inverse_rot').reshape((3,3))\n",
    "b  = np.fromfile('../../output/param_bounds').reshape((3,2))"
   ]
  },
  {
   "cell_type": "markdown",
   "metadata": {},
   "source": [
    "### Get raw input coordinates that need to be transformed"
   ]
  },
  {
   "cell_type": "code",
   "execution_count": 15,
   "metadata": {},
   "outputs": [
    {
     "name": "stdout",
     "output_type": "stream",
     "text": [
      "(-7.796918002539828, 37.28460237019861, 55.42909125953277)\n"
     ]
    }
   ],
   "source": [
    "#Sample a coordinate within the bounds and form input array\n",
    "x = np.random.uniform(b[0,0], b[0,1])\n",
    "y = np.random.uniform(b[1,0], b[1,1])\n",
    "\n",
    "#Sample rotation\n",
    "r = np.random.uniform(0,180)\n",
    "print(x,y,r)"
   ]
  },
  {
   "cell_type": "code",
   "execution_count": 16,
   "metadata": {},
   "outputs": [],
   "source": [
    "#Compute z value then map to mesh surface\n",
    "preaff_loc = geolib.map_param_2_surf(x,y,C)\n",
    "loc = np.matmul(iR,preaff_loc)\n",
    "\n",
    "#Compute orientation vector in basis of surface normal then rotate into FEM mesh space\n",
    "preaff_rot, preaff_n = geolib.map_rot_2_surf(x,y,r,C)\n",
    "rot = np.matmul(iR,preaff_rot)\n",
    "n = np.matmul(iR,preaff_n)"
   ]
  },
  {
   "cell_type": "code",
   "execution_count": 21,
   "metadata": {},
   "outputs": [],
   "source": [
    "#Start a session\n",
    "S = sim_struct.SESSION()\n",
    "S.fnamehead=\"../../data/simnibs_output/sub-CMH090.msh\"\n",
    "S.pathfem=\"../../data/simnibs_output/test2_simulation\""
   ]
  },
  {
   "cell_type": "code",
   "execution_count": 22,
   "metadata": {},
   "outputs": [],
   "source": [
    "#Define the TMS simulation\n",
    "tms = S.add_tmslist()\n",
    "tms.fnamecoil='/projects/jjeyachandra/simnibs/ccd-files/Magstim_70mm_Fig8.nii.gz'"
   ]
  },
  {
   "cell_type": "code",
   "execution_count": 23,
   "metadata": {},
   "outputs": [],
   "source": [
    "#Define position\n",
    "pos = tms.add_position()\n",
    "pos.matsimnibs = geolib.define_coil_orientation(loc,rot,n)"
   ]
  },
  {
   "cell_type": "code",
   "execution_count": 24,
   "metadata": {
    "scrolled": true
   },
   "outputs": [
    {
     "name": "stderr",
     "output_type": "stream",
     "text": [
      "[ simnibs ]INFO: Could not find the dti tensor file in the standard location: /mnt/tigrlab/projects/jjeyachandra/rtms_optimize/data/simnibs_output/d2c_sub-CMH090/dti_results_T1space/DTI_conf_tensor.nii.gz\n",
      "[ simnibs ]INFO: Head Mesh: /mnt/tigrlab/projects/jjeyachandra/rtms_optimize/data/simnibs_output/sub-CMH090.msh\n",
      "[ simnibs ]INFO: Subject Path: /mnt/tigrlab/projects/jjeyachandra/rtms_optimize/data/simnibs_output/m2m_sub-CMH090\n",
      "[ simnibs ]INFO: Simulation Folder: /mnt/tigrlab/projects/jjeyachandra/rtms_optimize/data/simnibs_output/test2_simulation\n",
      "[ simnibs ]INFO: Running simulations in the directory: /mnt/tigrlab/projects/jjeyachandra/rtms_optimize/data/simnibs_output/test2_simulation\n",
      "[ simnibs ]INFO: Running Poslist Number: 1\n",
      "[ simnibs ]INFO: Began to run TMS simulations\n",
      "[ simnibs ]INFO: Using coil: /projects/jjeyachandra/simnibs/ccd-files/Magstim_70mm_Fig8.nii.gz\n",
      "[ simnibs ]INFO: Using isotropic conductivities\n"
     ]
    },
    {
     "name": "stdout",
     "output_type": "stream",
     "text": [
      "0\n"
     ]
    },
    {
     "name": "stderr",
     "output_type": "stream",
     "text": [
      "[ simnibs ]INFO: Running TMS Position 0\n",
      "[ simnibs ]INFO: Coil Position Matrix: [[  1.8715e-01  -5.3941e-01   8.2098e-01  -5.9455e+01]\n",
      " [  3.7715e-01  -7.3224e-01  -5.6708e-01   7.1190e+01]\n",
      " [ -9.0705e-01  -4.1576e-01  -6.6404e-02   6.7447e+00]\n",
      " [  0.0000e+00   0.0000e+00   0.0000e+00   1.0000e+00]]\n",
      "dIdt: 1000000.0\n",
      "\n",
      "[ simnibs ]INFO: Executing: \n",
      "/mnt/tigrlab/projects/jjeyachandra/simnibs/bin/getdp /mnt/tigrlab/projects/jjeyachandra/rtms_optimize/data/simnibs_output/test2_simulation/sub-CMH090_TMS_1-0001_Magstim_70mm_Fig8_nii.pro -solve QS -msh /mnt/tigrlab/projects/jjeyachandra/rtms_optimize/data/simnibs_output/test2_simulation/tmpOOkjA8.msh -ksp_type cg -ksp_rtol 1e-10 -pc_type icc -pc_factor_levels 2 -v2 -bin\n",
      "[ simnibs ]INFO: Info    : Running '/mnt/tigrlab/projects/jjeyachandra/simnibs/bin/getdp /mnt/tigrlab/projects/jjeyachandra/rtms_optimize/data/simnibs_output/test2_simulation/sub-CMH090_TMS_1-0001_Magstim_70mm_Fig8_nii.pro -solve QS -msh /mnt/tigrlab/projects/jjeyachandra/rtms_optimize/data/simnibs_output/test2_simulation/tmpOOkjA8.msh -ksp_type cg -ksp_rtol 1e-10 -pc_type icc -pc_factor_levels 2 -v2 -bin' [GetDP 2.11.3, 1 node, max. 1 thread]\n",
      "[ simnibs ]INFO: Info    : Started (Fri Apr  5 16:25:19 2019, Wall = 0.00233507s, CPU = 0.016736s, Mem = 5.05859Mb)\n",
      "[ simnibs ]INFO: Info    : Initializing Gmsh\n",
      "[ simnibs ]INFO: Info    : Loading problem definition '/mnt/tigrlab/projects/jjeyachandra/rtms_optimize/data/simnibs_output/test2_simulation/sub-CMH090_TMS_1-0001_Magstim_70mm_Fig8_nii.pro'\n",
      "[ simnibs ]INFO: Info    : Selected Resolution 'QS'\n",
      "[ simnibs ]INFO: Info    : Loading Geometric data '/mnt/tigrlab/projects/jjeyachandra/rtms_optimize/data/simnibs_output/test2_simulation/tmpOOkjA8.msh'\n",
      "[ simnibs ]INFO: Info    : Mesh is in binary format\n",
      "[ simnibs ]INFO: Info    : System 'QS_dAdt' : Real\n",
      "[ simnibs ]INFO: \u001b[34mP r e - P r o c e s s i n g . . .\u001b[0m\n",
      "[ simnibs ]INFO: Info    : Treatment Formulation 'QS_Formulation'\n",
      "Info    : System 1/1: 657584 Dofs                                                  \n",
      "[ simnibs ]INFO: Info    : (Wall = 7.53723s, CPU = 7.13595s, Mem = 588.555Mb)\n",
      "[ simnibs ]INFO: \u001b[34mE n d   P r e - P r o c e s s i n g\u001b[0m\n",
      "[ simnibs ]INFO: \u001b[34mP r o c e s s i n g . . .\u001b[0m\n",
      "[ simnibs ]INFO: Info    : GmshRead[/mnt/tigrlab/projects/jjeyachandra/rtms_optimize/data/simnibs_output/test2_simulation/sub-CMH090_TMS_1_cond.msh] -> View[1]\n",
      "[ simnibs ]INFO: Info    : No current model available: creating one\n",
      "[ simnibs ]INFO: Info    : Reading '/mnt/tigrlab/projects/jjeyachandra/rtms_optimize/data/simnibs_output/test2_simulation/sub-CMH090_TMS_1_cond.msh'...\n",
      "[ simnibs ]INFO: Info    : 657584 vertices\n",
      "[ simnibs ]INFO: Info    : Reading nodes\n",
      "[ simnibs ]INFO: Info    : Reading nodes\n",
      "[ simnibs ]INFO: Info    : Reading nodes\n",
      "[ simnibs ]INFO: Info    : Reading nodes\n",
      "[ simnibs ]INFO: Info    : Reading nodes\n",
      "[ simnibs ]INFO: Info    : Reading nodes\n",
      "[ simnibs ]INFO: Info    : 4578176 elements\n",
      "[ simnibs ]INFO: Info    : Reading elements\n",
      "[ simnibs ]INFO: Info    : Reading elements\n",
      "[ simnibs ]INFO: Info    : Reading elements\n",
      "[ simnibs ]INFO: Info    : Reading elements\n",
      "[ simnibs ]INFO: Info    : Reading elements\n",
      "[ simnibs ]INFO: Info    : Reading elements\n",
      "[ simnibs ]INFO: Info    : Reading data\n",
      "[ simnibs ]INFO: Info    : Reading data\n",
      "[ simnibs ]INFO: Info    : Reading data\n",
      "[ simnibs ]INFO: Info    : Reading data\n",
      "[ simnibs ]INFO: Info    : Reading data\n",
      "[ simnibs ]INFO: Info    : Reading data\n",
      "[ simnibs ]INFO: Info    : Done reading '/mnt/tigrlab/projects/jjeyachandra/rtms_optimize/data/simnibs_output/test2_simulation/sub-CMH090_TMS_1_cond.msh'\n",
      "[ simnibs ]INFO: Info    : GmshRead[/mnt/tigrlab/projects/jjeyachandra/rtms_optimize/data/simnibs_output/test2_simulation/sub-CMH090_TMS_1-0001_Magstim_70mm_Fig8_nii_dadt.msh] -> View[2]\n",
      "[ simnibs ]INFO: Info    : Reading '/mnt/tigrlab/projects/jjeyachandra/rtms_optimize/data/simnibs_output/test2_simulation/sub-CMH090_TMS_1-0001_Magstim_70mm_Fig8_nii_dadt.msh'...\n",
      "[ simnibs ]INFO: Info    : 657584 vertices\n",
      "[ simnibs ]INFO: Info    : Reading nodes\n",
      "[ simnibs ]INFO: Info    : Reading nodes\n",
      "[ simnibs ]INFO: Info    : Reading nodes\n",
      "[ simnibs ]INFO: Info    : Reading nodes\n",
      "[ simnibs ]INFO: Info    : Reading nodes\n",
      "[ simnibs ]INFO: Info    : Reading nodes\n",
      "[ simnibs ]INFO: Info    : 4578176 elements\n",
      "[ simnibs ]INFO: Info    : Reading elements\n",
      "[ simnibs ]INFO: Info    : Reading elements\n",
      "[ simnibs ]INFO: Info    : Reading elements\n",
      "[ simnibs ]INFO: Info    : Reading elements\n",
      "[ simnibs ]INFO: Info    : Reading elements\n",
      "[ simnibs ]INFO: Info    : Reading elements\n",
      "[ simnibs ]INFO: Info    : Reading data\n",
      "[ simnibs ]INFO: Info    : Reading data\n",
      "[ simnibs ]INFO: Info    : Reading data\n",
      "[ simnibs ]INFO: Info    : Reading data\n",
      "[ simnibs ]INFO: Info    : Reading data\n",
      "[ simnibs ]INFO: Info    : Reading data\n",
      "[ simnibs ]INFO: Info    : Done reading '/mnt/tigrlab/projects/jjeyachandra/rtms_optimize/data/simnibs_output/test2_simulation/sub-CMH090_TMS_1-0001_Magstim_70mm_Fig8_nii_dadt.msh'\n",
      "[ simnibs ]INFO: Info    : Generate[QS_dAdt]\n",
      "Info    : Solve[QS_dAdt]                                                                  \n",
      "[ simnibs ]INFO: Info    : N: 657584 - cg icc (null)\n",
      "[ simnibs ]INFO: Info    :   0 KSP Residual norm 3.973556870332e-01\n",
      "[ simnibs ]INFO: Info    :   1 KSP Residual norm 1.428014925404e-01\n",
      "[ simnibs ]INFO: Info    :   2 KSP Residual norm 1.280314908624e-01\n",
      "[ simnibs ]INFO: Info    :   3 KSP Residual norm 1.154863532041e-01\n",
      "[ simnibs ]INFO: Info    :   4 KSP Residual norm 1.007549720503e-01\n",
      "[ simnibs ]INFO: Info    :   5 KSP Residual norm 9.810863085879e-02\n",
      "[ simnibs ]INFO: Info    :   6 KSP Residual norm 8.676185917046e-02\n",
      "[ simnibs ]INFO: Info    :   7 KSP Residual norm 7.855426430085e-02\n",
      "[ simnibs ]INFO: Info    :   8 KSP Residual norm 7.590890596397e-02\n",
      "[ simnibs ]INFO: Info    :   9 KSP Residual norm 7.573799344575e-02\n",
      "[ simnibs ]INFO: Info    :  10 KSP Residual norm 6.752886205389e-02\n",
      "[ simnibs ]INFO: Info    :  11 KSP Residual norm 5.865838675390e-02\n",
      "[ simnibs ]INFO: Info    :  12 KSP Residual norm 5.398318850861e-02\n",
      "[ simnibs ]INFO: Info    :  13 KSP Residual norm 5.025221264844e-02\n",
      "[ simnibs ]INFO: Info    :  14 KSP Residual norm 4.557152686114e-02\n",
      "[ simnibs ]INFO: Info    :  15 KSP Residual norm 4.087781028723e-02\n",
      "[ simnibs ]INFO: Info    :  16 KSP Residual norm 3.694360362856e-02\n",
      "[ simnibs ]INFO: Info    :  17 KSP Residual norm 3.376516263589e-02\n",
      "[ simnibs ]INFO: Info    :  18 KSP Residual norm 2.934805617382e-02\n",
      "[ simnibs ]INFO: Info    :  19 KSP Residual norm 2.659478445697e-02\n",
      "[ simnibs ]INFO: Info    :  20 KSP Residual norm 2.417917634070e-02\n",
      "[ simnibs ]INFO: Info    :  21 KSP Residual norm 2.158369216391e-02\n",
      "[ simnibs ]INFO: Info    :  22 KSP Residual norm 1.980146821580e-02\n",
      "[ simnibs ]INFO: Info    :  23 KSP Residual norm 1.777128250997e-02\n",
      "[ simnibs ]INFO: Info    :  24 KSP Residual norm 1.587745755352e-02\n",
      "[ simnibs ]INFO: Info    :  25 KSP Residual norm 1.417814262016e-02\n",
      "[ simnibs ]INFO: Info    :  26 KSP Residual norm 1.243448012857e-02\n",
      "[ simnibs ]INFO: Info    :  27 KSP Residual norm 1.079872686540e-02\n",
      "[ simnibs ]INFO: Info    :  28 KSP Residual norm 9.061141019479e-03\n",
      "[ simnibs ]INFO: Info    :  29 KSP Residual norm 7.675135735298e-03\n",
      "[ simnibs ]INFO: Info    :  30 KSP Residual norm 6.435876648918e-03\n",
      "[ simnibs ]INFO: Info    :  31 KSP Residual norm 5.327248973716e-03\n",
      "[ simnibs ]INFO: Info    :  32 KSP Residual norm 4.808210922985e-03\n",
      "[ simnibs ]INFO: Info    :  33 KSP Residual norm 4.616746829490e-03\n",
      "[ simnibs ]INFO: Info    :  34 KSP Residual norm 4.327926969135e-03\n",
      "[ simnibs ]INFO: Info    :  35 KSP Residual norm 3.952140434481e-03\n",
      "[ simnibs ]INFO: Info    :  36 KSP Residual norm 3.436841214372e-03\n",
      "[ simnibs ]INFO: Info    :  37 KSP Residual norm 3.131354957117e-03\n",
      "[ simnibs ]INFO: Info    :  38 KSP Residual norm 3.056389817131e-03\n",
      "[ simnibs ]INFO: Info    :  39 KSP Residual norm 2.970189637824e-03\n",
      "[ simnibs ]INFO: Info    :  40 KSP Residual norm 2.629641785510e-03\n",
      "[ simnibs ]INFO: Info    :  41 KSP Residual norm 2.197233357517e-03\n",
      "[ simnibs ]INFO: Info    :  42 KSP Residual norm 1.949524009456e-03\n",
      "[ simnibs ]INFO: Info    :  43 KSP Residual norm 1.742167302474e-03\n",
      "[ simnibs ]INFO: Info    :  44 KSP Residual norm 1.514282943254e-03\n"
     ]
    },
    {
     "name": "stderr",
     "output_type": "stream",
     "text": [
      "[ simnibs ]INFO: Info    :  45 KSP Residual norm 1.315212511888e-03\n",
      "[ simnibs ]INFO: Info    :  46 KSP Residual norm 1.095485078065e-03\n",
      "[ simnibs ]INFO: Info    :  47 KSP Residual norm 8.559523914750e-04\n",
      "[ simnibs ]INFO: Info    :  48 KSP Residual norm 6.999652191080e-04\n",
      "[ simnibs ]INFO: Info    :  49 KSP Residual norm 5.584682826268e-04\n",
      "[ simnibs ]INFO: Info    :  50 KSP Residual norm 4.310198676322e-04\n",
      "[ simnibs ]INFO: Info    :  51 KSP Residual norm 3.408596362707e-04\n",
      "[ simnibs ]INFO: Info    :  52 KSP Residual norm 2.784097012078e-04\n",
      "[ simnibs ]INFO: Info    :  53 KSP Residual norm 2.263020502371e-04\n",
      "[ simnibs ]INFO: Info    :  54 KSP Residual norm 1.923575015495e-04\n",
      "[ simnibs ]INFO: Info    :  55 KSP Residual norm 1.747944993283e-04\n",
      "[ simnibs ]INFO: Info    :  56 KSP Residual norm 1.541364380721e-04\n",
      "[ simnibs ]INFO: Info    :  57 KSP Residual norm 1.272557644571e-04\n",
      "[ simnibs ]INFO: Info    :  58 KSP Residual norm 1.026513693846e-04\n",
      "[ simnibs ]INFO: Info    :  59 KSP Residual norm 8.457473045091e-05\n",
      "[ simnibs ]INFO: Info    :  60 KSP Residual norm 6.822900876742e-05\n",
      "[ simnibs ]INFO: Info    :  61 KSP Residual norm 6.063397443873e-05\n",
      "[ simnibs ]INFO: Info    :  62 KSP Residual norm 5.405364608634e-05\n",
      "[ simnibs ]INFO: Info    :  63 KSP Residual norm 4.820563696104e-05\n",
      "[ simnibs ]INFO: Info    :  64 KSP Residual norm 4.223801565610e-05\n",
      "[ simnibs ]INFO: Info    :  65 KSP Residual norm 3.523510525820e-05\n",
      "[ simnibs ]INFO: Info    :  66 KSP Residual norm 3.137848321783e-05\n",
      "[ simnibs ]INFO: Info    :  67 KSP Residual norm 2.952510673136e-05\n",
      "[ simnibs ]INFO: Info    :  68 KSP Residual norm 2.907507084734e-05\n",
      "[ simnibs ]INFO: Info    :  69 KSP Residual norm 2.681944365290e-05\n",
      "[ simnibs ]INFO: Info    :  70 KSP Residual norm 2.382511138911e-05\n",
      "[ simnibs ]INFO: Info    :  71 KSP Residual norm 2.236448532101e-05\n",
      "[ simnibs ]INFO: Info    :  72 KSP Residual norm 1.999746822982e-05\n",
      "[ simnibs ]INFO: Info    :  73 KSP Residual norm 1.661612255161e-05\n",
      "[ simnibs ]INFO: Info    :  74 KSP Residual norm 1.378902821499e-05\n",
      "[ simnibs ]INFO: Info    :  75 KSP Residual norm 1.159632423524e-05\n",
      "[ simnibs ]INFO: Info    :  76 KSP Residual norm 9.890923301631e-06\n",
      "[ simnibs ]INFO: Info    :  77 KSP Residual norm 8.709412425037e-06\n",
      "[ simnibs ]INFO: Info    :  78 KSP Residual norm 7.281240168102e-06\n",
      "[ simnibs ]INFO: Info    :  79 KSP Residual norm 5.876758284523e-06\n",
      "[ simnibs ]INFO: Info    :  80 KSP Residual norm 4.550222649727e-06\n",
      "[ simnibs ]INFO: Info    :  81 KSP Residual norm 3.565682457220e-06\n",
      "[ simnibs ]INFO: Info    :  82 KSP Residual norm 2.864584858755e-06\n",
      "[ simnibs ]INFO: Info    :  83 KSP Residual norm 2.260578219037e-06\n",
      "[ simnibs ]INFO: Info    :  84 KSP Residual norm 1.941974508213e-06\n",
      "[ simnibs ]INFO: Info    :  85 KSP Residual norm 1.653502550888e-06\n",
      "[ simnibs ]INFO: Info    :  86 KSP Residual norm 1.382413352941e-06\n",
      "[ simnibs ]INFO: Info    :  87 KSP Residual norm 1.154850044152e-06\n",
      "[ simnibs ]INFO: Info    :  88 KSP Residual norm 9.592904796136e-07\n",
      "[ simnibs ]INFO: Info    :  89 KSP Residual norm 8.366385527125e-07\n",
      "[ simnibs ]INFO: Info    :  90 KSP Residual norm 7.517420560513e-07\n",
      "[ simnibs ]INFO: Info    :  91 KSP Residual norm 6.614631396244e-07\n",
      "[ simnibs ]INFO: Info    :  92 KSP Residual norm 5.599241577228e-07\n",
      "[ simnibs ]INFO: Info    :  93 KSP Residual norm 4.489782096518e-07\n",
      "[ simnibs ]INFO: Info    :  94 KSP Residual norm 3.701715628722e-07\n",
      "[ simnibs ]INFO: Info    :  95 KSP Residual norm 2.945734460410e-07\n",
      "[ simnibs ]INFO: Info    :  96 KSP Residual norm 2.452746042742e-07\n",
      "[ simnibs ]INFO: Info    :  97 KSP Residual norm 2.100279776901e-07\n",
      "[ simnibs ]INFO: Info    :  98 KSP Residual norm 1.651503346659e-07\n",
      "[ simnibs ]INFO: Info    :  99 KSP Residual norm 1.322441436423e-07\n",
      "[ simnibs ]INFO: Info    : 100 KSP Residual norm 1.070459150520e-07\n",
      "[ simnibs ]INFO: Info    : 101 KSP Residual norm 8.738060139964e-08\n",
      "[ simnibs ]INFO: Info    : 102 KSP Residual norm 6.843826939970e-08\n",
      "[ simnibs ]INFO: Info    : 103 KSP Residual norm 5.276512110777e-08\n",
      "[ simnibs ]INFO: Info    : 104 KSP Residual norm 4.144346917733e-08\n",
      "[ simnibs ]INFO: Info    : 105 KSP Residual norm 3.366535874932e-08\n",
      "[ simnibs ]INFO: Info    : 106 KSP Residual norm 2.788882762497e-08\n",
      "[ simnibs ]INFO: Info    : 107 KSP Residual norm 2.218016412204e-08\n",
      "[ simnibs ]INFO: Info    : 108 KSP Residual norm 1.819500727131e-08\n",
      "[ simnibs ]INFO: Info    : 109 KSP Residual norm 1.444616070484e-08\n",
      "[ simnibs ]INFO: Info    : 110 KSP Residual norm 1.178432903972e-08\n",
      "[ simnibs ]INFO: Info    : 111 KSP Residual norm 9.987982840177e-09\n",
      "[ simnibs ]INFO: Info    : 112 KSP Residual norm 8.359447859930e-09\n",
      "[ simnibs ]INFO: Info    : 113 KSP Residual norm 6.830292160353e-09\n",
      "[ simnibs ]INFO: Info    : 114 KSP Residual norm 5.315827917302e-09\n",
      "[ simnibs ]INFO: Info    : 115 KSP Residual norm 4.280438718936e-09\n",
      "[ simnibs ]INFO: Info    : 116 KSP Residual norm 3.502505841493e-09\n",
      "[ simnibs ]INFO: Info    : 117 KSP Residual norm 2.868481151047e-09\n",
      "[ simnibs ]INFO: Info    : 118 KSP Residual norm 2.253092780698e-09\n",
      "[ simnibs ]INFO: Info    : 119 KSP Residual norm 1.738091779602e-09\n",
      "[ simnibs ]INFO: Info    : 120 KSP Residual norm 1.360557468938e-09\n",
      "[ simnibs ]INFO: Info    : 121 KSP Residual norm 1.088488983937e-09\n",
      "[ simnibs ]INFO: Info    : 122 KSP Residual norm 9.201766955013e-10\n",
      "[ simnibs ]INFO: Info    : 123 KSP Residual norm 7.994006900616e-10\n",
      "[ simnibs ]INFO: Info    : 124 KSP Residual norm 6.475997447297e-10\n",
      "[ simnibs ]INFO: Info    : 125 KSP Residual norm 5.489172060144e-10\n",
      "[ simnibs ]INFO: Info    : 126 KSP Residual norm 4.641202605642e-10\n",
      "[ simnibs ]INFO: Info    : 127 KSP Residual norm 3.901898642339e-10\n",
      "[ simnibs ]INFO: Info    : 128 KSP Residual norm 3.187444124230e-10\n",
      "[ simnibs ]INFO: Info    : 129 KSP Residual norm 2.625796637873e-10\n",
      "[ simnibs ]INFO: Info    : 130 KSP Residual norm 2.081370229880e-10\n",
      "[ simnibs ]INFO: Info    : 131 KSP Residual norm 1.647134592925e-10\n",
      "[ simnibs ]INFO: Info    : 132 KSP Residual norm 1.283475016393e-10\n",
      "[ simnibs ]INFO: Info    : 133 KSP Residual norm 1.029185595107e-10\n",
      "[ simnibs ]INFO: Info    : 134 KSP Residual norm 8.317639792101e-11\n",
      "[ simnibs ]INFO: Info    : 135 KSP Residual norm 6.529838870929e-11\n",
      "[ simnibs ]INFO: Info    : 136 KSP Residual norm 5.203387218992e-11\n",
      "[ simnibs ]INFO: Info    : 137 KSP Residual norm 3.979211737891e-11\n",
      "[ simnibs ]INFO: Info    : 138 KSP Residual norm 3.063990738666e-11\n",
      "[ simnibs ]INFO: Info    : 138 iterations\n",
      "[ simnibs ]INFO: Info    : SaveSolution[QS_dAdt]\n",
      "[ simnibs ]INFO: Info    : (Wall = 221.634s, CPU = 221.41s, Mem = 4228.18Mb)\n",
      "[ simnibs ]INFO: \u001b[34mE n d   P r o c e s s i n g\u001b[0m\n",
      "[ simnibs ]INFO: Info    : Stopped (Fri Apr  5 16:29:01 2019, Wall = 221.873s, CPU = 221.529s, Mem = 4228.18Mb)\n",
      "[ simnibs ]INFO: Execution finished\n",
      "[ simnibs ]INFO: Finished Running Poslist Number: 1\n",
      "[ simnibs ]INFO: Result Files:\n",
      "/mnt/tigrlab/projects/jjeyachandra/rtms_optimize/data/simnibs_output/test2_simulation/sub-CMH090_TMS_1-0001_Magstim_70mm_Fig8_nii_scalar.msh\n",
      "[ simnibs ]INFO: =====================================\n",
      "[ simnibs ]INFO: SimNIBS finished running simulations\n",
      "[ simnibs ]INFO: Simulation Result Meshed:\n",
      "[ simnibs ]INFO: /mnt/tigrlab/projects/jjeyachandra/rtms_optimize/data/simnibs_output/test2_simulation/sub-CMH090_TMS_1-0001_Magstim_70mm_Fig8_nii_scalar.msh\n",
      "[ simnibs ]INFO: =====================================\n"
     ]
    },
    {
     "name": "stdout",
     "output_type": "stream",
     "text": [
      "292.735257864\n"
     ]
    }
   ],
   "source": [
    "start = timer()\n",
    "run_simulation(S)\n",
    "stop = timer()\n",
    "print(stop - start)"
   ]
  },
  {
   "cell_type": "code",
   "execution_count": null,
   "metadata": {},
   "outputs": [],
   "source": []
  }
 ],
 "metadata": {
  "kernelspec": {
   "display_name": "Python 2",
   "language": "python",
   "name": "python2"
  },
  "language_info": {
   "codemirror_mode": {
    "name": "ipython",
    "version": 2
   },
   "file_extension": ".py",
   "mimetype": "text/x-python",
   "name": "python",
   "nbconvert_exporter": "python",
   "pygments_lexer": "ipython2",
   "version": "2.7.12"
  }
 },
 "nbformat": 4,
 "nbformat_minor": 2
}
