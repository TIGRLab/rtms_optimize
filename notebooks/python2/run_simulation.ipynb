{
 "cells": [
  {
   "cell_type": "markdown",
   "metadata": {},
   "source": [
    "This notebook set's up an FEM simulation by sampling from the analytical approximation of the surface patch with some $\\theta$. Then we translate this into a simnibs input matrix and run a simulation and return the results"
   ]
  },
  {
   "cell_type": "code",
   "execution_count": 1,
   "metadata": {},
   "outputs": [],
   "source": [
    "import sys"
   ]
  },
  {
   "cell_type": "code",
   "execution_count": 2,
   "metadata": {},
   "outputs": [],
   "source": [
    "#SCC package environment\n",
    "sys.path.insert(0,'/KIMEL/tigrlab/projects/jjeyachandra/gmsh-sdk/lib/')\n",
    "sys.path.insert(0,'/home/jjeyachandra/simnibs_2.1.2/miniconda2/envs/simnibs_env/lib/python2.7/site-packages')\n",
    "sys.path.insert(0,'/home/jjeyachandra/simnibs_2.1.2/Python_modules/src')"
   ]
  },
  {
   "cell_type": "code",
   "execution_count": 3,
   "metadata": {},
   "outputs": [],
   "source": [
    "import numpy as np\n",
    "from simnibs import sim_struct, run_simulation\n",
    "\n",
    "#For importing geometry library\n",
    "import io, os, sys, types\n",
    "from IPython import get_ipython\n",
    "from nbformat import read\n",
    "from IPython.core.interactiveshell import InteractiveShell\n",
    "\n",
    "#Timing\n",
    "from timeit import default_timer as timer"
   ]
  },
  {
   "cell_type": "code",
   "execution_count": 1,
   "metadata": {},
   "outputs": [],
   "source": [
    "#https://jupyter-notebook.readthedocs.io/en/stable/examples/Notebook/Importing%20Notebooks.html\n",
    "#This is for loading functions for another jupyter notebook\n",
    "class NotebookLoader(object):\n",
    "    \"\"\"Module Loader for Jupyter Notebooks\"\"\"\n",
    "    def __init__(self, path=None):\n",
    "        self.shell = InteractiveShell.instance()\n",
    "        self.path = path\n",
    "\n",
    "    def load_module(self, fullname):\n",
    "        \"\"\"import a notebook as a module\"\"\"\n",
    "        \n",
    "        \n",
    "        path = os.path.join(self.path,fullname) + '.ipynb'\n",
    "\n",
    "        print (\"importing Jupyter notebook from %s\" % path)\n",
    "\n",
    "        # load the notebook object\n",
    "        with io.open(path, 'r', encoding='utf-8') as f:\n",
    "            nb = read(f, 4)\n",
    "\n",
    "\n",
    "        # create the module and add it to sys.modules\n",
    "        # if name in sys.modules:\n",
    "        #    return sys.modules[name]\n",
    "        mod = types.ModuleType(fullname)\n",
    "        mod.__file__ = path\n",
    "        mod.__loader__ = self\n",
    "        mod.__dict__['get_ipython'] = get_ipython\n",
    "        sys.modules[fullname] = mod\n",
    "\n",
    "        # extra work to ensure that magics that would affect the user_ns\n",
    "        # actually affect the notebook module's ns\n",
    "        save_user_ns = self.shell.user_ns\n",
    "        self.shell.user_ns = mod.__dict__\n",
    "\n",
    "        try:\n",
    "            for cell in nb.cells:\n",
    "                if cell.cell_type == 'code':\n",
    "                    # transform the input to executable Python\n",
    "                    code = self.shell.input_transformer_manager.transform_cell(cell.source)\n",
    "                    # run the code in themodule\n",
    "                    exec(code, mod.__dict__)\n",
    "        finally:\n",
    "            self.shell.user_ns = save_user_ns\n",
    "        return mod"
   ]
  },
  {
   "cell_type": "code",
   "execution_count": 5,
   "metadata": {},
   "outputs": [
    {
     "name": "stdout",
     "output_type": "stream",
     "text": [
      "importing Jupyter notebook from /projects/jjeyachandra/rtms_optimize/notebooks/python2/geolib.ipynb\n"
     ]
    }
   ],
   "source": [
    "#Load up the geolibrary as a module\n",
    "glib_path = '/projects/jjeyachandra/rtms_optimize/notebooks/python2/'\n",
    "nbload = NotebookLoader(glib_path)\n",
    "geolib = nbload.load_module('geolib')"
   ]
  },
  {
   "cell_type": "code",
   "execution_count": 6,
   "metadata": {},
   "outputs": [],
   "source": [
    "#Load up quadratic surface constants, inverse rotation matrix, bounds and normal vector\n",
    "#This is for the Bayesian optimization component\n",
    "C = np.fromfile('../../output/quadratic_vec')\n",
    "iR = np.fromfile('../../output/inverse_rot').reshape((3,3))\n",
    "b  = np.fromfile('../../output/param_bounds').reshape((3,2))"
   ]
  },
  {
   "cell_type": "markdown",
   "metadata": {},
   "source": [
    "### Get raw input coordinates that need to be transformed"
   ]
  },
  {
   "cell_type": "code",
   "execution_count": 7,
   "metadata": {},
   "outputs": [
    {
     "name": "stdout",
     "output_type": "stream",
     "text": [
      "(16.513799154644985, 6.895013488831868, 72.53564436856989)\n"
     ]
    }
   ],
   "source": [
    "#Sample a coordinate within the bounds and form input array\n",
    "x = np.random.uniform(b[0,0], b[0,1])\n",
    "y = np.random.uniform(b[1,0], b[1,1])\n",
    "\n",
    "#Sample rotation\n",
    "r = np.random.uniform(0,180)\n",
    "print(x,y,r)"
   ]
  },
  {
   "cell_type": "code",
   "execution_count": 12,
   "metadata": {},
   "outputs": [],
   "source": [
    "#Compute z value then map to mesh surface\n",
    "preaff_loc = geolib.map_param_2_surf(x,y,C)\n",
    "loc = np.matmul(iR,preaff_loc)\n",
    "\n",
    "#Compute orientation vector in basis of surface normal then rotate into FEM mesh space\n",
    "preaff_rot, preaff_n = geolib.map_rot_2_surf(x,y,r,C)\n",
    "rot = np.matmul(iR,preaff_rot)\n",
    "n = np.matmul(iR,preaff_n)"
   ]
  },
  {
   "cell_type": "code",
   "execution_count": 20,
   "metadata": {},
   "outputs": [],
   "source": [
    "#Start a session\n",
    "S = sim_struct.SESSION()\n",
    "S.fnamehead=\"../../data/simnibs_output/sub-CMH090.msh\"\n",
    "S.pathfem=\"../../data/simnibs_output/test_simulation\""
   ]
  },
  {
   "cell_type": "code",
   "execution_count": 21,
   "metadata": {},
   "outputs": [],
   "source": [
    "#Define the TMS simulation\n",
    "tms = S.add_tmslist()\n",
    "tms.fnamecoil='/projects/jjeyachandra/simnibs/ccd-files/Magstim_70mm_Fig8.nii.gz'"
   ]
  },
  {
   "cell_type": "code",
   "execution_count": 22,
   "metadata": {},
   "outputs": [],
   "source": [
    "#Define position\n",
    "pos = tms.add_position()\n",
    "pos.matsimnibs = geolib.define_coil_orientation(loc,rot,n)"
   ]
  },
  {
   "cell_type": "code",
   "execution_count": 23,
   "metadata": {
    "scrolled": true
   },
   "outputs": [
    {
     "name": "stderr",
     "output_type": "stream",
     "text": [
      "[ simnibs ]INFO: Could not find the dti tensor file in the standard location: /mnt/tigrlab/projects/jjeyachandra/rtms_optimize/data/simnibs_output/d2c_sub-CMH090/dti_results_T1space/DTI_conf_tensor.nii.gz\n",
      "[ simnibs ]INFO: Head Mesh: /mnt/tigrlab/projects/jjeyachandra/rtms_optimize/data/simnibs_output/sub-CMH090.msh\n",
      "[ simnibs ]INFO: Subject Path: /mnt/tigrlab/projects/jjeyachandra/rtms_optimize/data/simnibs_output/m2m_sub-CMH090\n",
      "[ simnibs ]INFO: Simulation Folder: /mnt/tigrlab/projects/jjeyachandra/rtms_optimize/data/simnibs_output/test_simulation\n",
      "[ simnibs ]INFO: Running simulations in the directory: /mnt/tigrlab/projects/jjeyachandra/rtms_optimize/data/simnibs_output/test_simulation\n",
      "[ simnibs ]INFO: Running Poslist Number: 1\n",
      "[ simnibs ]INFO: Began to run TMS simulations\n",
      "[ simnibs ]INFO: Using coil: /projects/jjeyachandra/simnibs/ccd-files/Magstim_70mm_Fig8.nii.gz\n",
      "[ simnibs ]INFO: Using isotropic conductivities\n"
     ]
    },
    {
     "name": "stdout",
     "output_type": "stream",
     "text": [
      "0\n"
     ]
    },
    {
     "name": "stderr",
     "output_type": "stream",
     "text": [
      "[ simnibs ]INFO: Running TMS Position 0\n",
      "[ simnibs ]INFO: Coil Position Matrix: [[ -0.168   -0.7362   0.6556 -56.6009]\n",
      " [  0.6209  -0.5956  -0.5096  54.8834]\n",
      " [ -0.7656  -0.3214  -0.5572  42.0694]\n",
      " [  0.       0.       0.       1.    ]]\n",
      "dIdt: 1000000.0\n",
      "\n",
      "[ simnibs ]INFO: Executing: \n",
      "/home/jjeyachandra/simnibs_2.1.2/bin/getdp /mnt/tigrlab/projects/jjeyachandra/rtms_optimize/data/simnibs_output/test_simulation/sub-CMH090_TMS_1-0001_Magstim_70mm_Fig8_nii.pro -solve QS -msh /mnt/tigrlab/projects/jjeyachandra/rtms_optimize/data/simnibs_output/test_simulation/tmpROVqjb.msh -ksp_type cg -ksp_rtol 1e-10 -pc_type icc -pc_factor_levels 2 -v2 -bin\n",
      "[ simnibs ]INFO: Info    : Running '/home/jjeyachandra/simnibs_2.1.2/bin/getdp /mnt/tigrlab/projects/jjeyachandra/rtms_optimize/data/simnibs_output/test_simulation/sub-CMH090_TMS_1-0001_Magstim_70mm_Fig8_nii.pro -solve QS -msh /mnt/tigrlab/projects/jjeyachandra/rtms_optimize/data/simnibs_output/test_simulation/tmpROVqjb.msh -ksp_type cg -ksp_rtol 1e-10 -pc_type icc -pc_factor_levels 2 -v2 -bin' [GetDP 2.11.3, 1 node, max. 1 thread]\n",
      "[ simnibs ]INFO: Info    : Started (Wed Mar 13 11:34:53 2019, Wall = 0.000128984s, CPU = 0s, Mem = 5.27734Mb)\n",
      "[ simnibs ]INFO: Info    : Initializing Gmsh\n",
      "[ simnibs ]INFO: Info    : Loading problem definition '/mnt/tigrlab/projects/jjeyachandra/rtms_optimize/data/simnibs_output/test_simulation/sub-CMH090_TMS_1-0001_Magstim_70mm_Fig8_nii.pro'\n",
      "[ simnibs ]INFO: Info    : Selected Resolution 'QS'\n",
      "[ simnibs ]INFO: Info    : Loading Geometric data '/mnt/tigrlab/projects/jjeyachandra/rtms_optimize/data/simnibs_output/test_simulation/tmpROVqjb.msh'\n",
      "[ simnibs ]INFO: Info    : Mesh is in binary format\n",
      "[ simnibs ]INFO: Info    : System 'QS_dAdt' : Real\n",
      "[ simnibs ]INFO: \u001b[34mP r e - P r o c e s s i n g . . .\u001b[0m\n",
      "[ simnibs ]INFO: Info    : Treatment Formulation 'QS_Formulation'\n",
      "Info    : System 1/1: 657584 Dofs                                                  \n",
      "[ simnibs ]INFO: Info    : (Wall = 10.4952s, CPU = 9.9072s, Mem = 588.59Mb)\n",
      "[ simnibs ]INFO: \u001b[34mE n d   P r e - P r o c e s s i n g\u001b[0m\n",
      "[ simnibs ]INFO: \u001b[34mP r o c e s s i n g . . .\u001b[0m\n",
      "[ simnibs ]INFO: Info    : GmshRead[/mnt/tigrlab/projects/jjeyachandra/rtms_optimize/data/simnibs_output/test_simulation/sub-CMH090_TMS_1_cond.msh] -> View[1]\n",
      "[ simnibs ]INFO: Info    : No current model available: creating one\n",
      "[ simnibs ]INFO: Info    : Reading '/mnt/tigrlab/projects/jjeyachandra/rtms_optimize/data/simnibs_output/test_simulation/sub-CMH090_TMS_1_cond.msh'...\n",
      "[ simnibs ]INFO: Info    : 657584 vertices\n",
      "[ simnibs ]INFO: Info    : Reading nodes\n",
      "[ simnibs ]INFO: Info    : Reading nodes\n",
      "[ simnibs ]INFO: Info    : Reading nodes\n",
      "[ simnibs ]INFO: Info    : Reading nodes\n",
      "[ simnibs ]INFO: Info    : Reading nodes\n",
      "[ simnibs ]INFO: Info    : Reading nodes\n",
      "[ simnibs ]INFO: Info    : 4578176 elements\n",
      "[ simnibs ]INFO: Info    : Reading elements\n",
      "[ simnibs ]INFO: Info    : Reading elements\n",
      "[ simnibs ]INFO: Info    : Reading elements\n",
      "[ simnibs ]INFO: Info    : Reading elements\n",
      "[ simnibs ]INFO: Info    : Reading elements\n",
      "[ simnibs ]INFO: Info    : Reading elements\n",
      "[ simnibs ]INFO: Info    : Reading data\n",
      "[ simnibs ]INFO: Info    : Reading data\n",
      "[ simnibs ]INFO: Info    : Reading data\n",
      "[ simnibs ]INFO: Info    : Reading data\n",
      "[ simnibs ]INFO: Info    : Reading data\n",
      "[ simnibs ]INFO: Info    : Reading data\n",
      "[ simnibs ]INFO: Info    : Done reading '/mnt/tigrlab/projects/jjeyachandra/rtms_optimize/data/simnibs_output/test_simulation/sub-CMH090_TMS_1_cond.msh'\n",
      "[ simnibs ]INFO: Info    : GmshRead[/mnt/tigrlab/projects/jjeyachandra/rtms_optimize/data/simnibs_output/test_simulation/sub-CMH090_TMS_1-0001_Magstim_70mm_Fig8_nii_dadt.msh] -> View[2]\n",
      "[ simnibs ]INFO: Info    : Reading '/mnt/tigrlab/projects/jjeyachandra/rtms_optimize/data/simnibs_output/test_simulation/sub-CMH090_TMS_1-0001_Magstim_70mm_Fig8_nii_dadt.msh'...\n",
      "[ simnibs ]INFO: Info    : 657584 vertices\n",
      "[ simnibs ]INFO: Info    : Reading nodes\n",
      "[ simnibs ]INFO: Info    : Reading nodes\n",
      "[ simnibs ]INFO: Info    : Reading nodes\n",
      "[ simnibs ]INFO: Info    : Reading nodes\n",
      "[ simnibs ]INFO: Info    : Reading nodes\n",
      "[ simnibs ]INFO: Info    : Reading nodes\n",
      "[ simnibs ]INFO: Info    : 4578176 elements\n",
      "[ simnibs ]INFO: Info    : Reading elements\n",
      "[ simnibs ]INFO: Info    : Reading elements\n",
      "[ simnibs ]INFO: Info    : Reading elements\n",
      "[ simnibs ]INFO: Info    : Reading elements\n",
      "[ simnibs ]INFO: Info    : Reading elements\n",
      "[ simnibs ]INFO: Info    : Reading elements\n",
      "[ simnibs ]INFO: Info    : Reading data\n",
      "[ simnibs ]INFO: Info    : Reading data\n",
      "[ simnibs ]INFO: Info    : Reading data\n",
      "[ simnibs ]INFO: Info    : Reading data\n",
      "[ simnibs ]INFO: Info    : Reading data\n",
      "[ simnibs ]INFO: Info    : Reading data\n",
      "[ simnibs ]INFO: Info    : Done reading '/mnt/tigrlab/projects/jjeyachandra/rtms_optimize/data/simnibs_output/test_simulation/sub-CMH090_TMS_1-0001_Magstim_70mm_Fig8_nii_dadt.msh'\n",
      "[ simnibs ]INFO: Info    : Generate[QS_dAdt]\n",
      "Info    : Solve[QS_dAdt]                                                                  \n",
      "[ simnibs ]INFO: Info    : N: 657584 - cg icc (null)\n",
      "[ simnibs ]INFO: Info    :   0 KSP Residual norm 3.938225450953e-01\n",
      "[ simnibs ]INFO: Info    :   1 KSP Residual norm 1.277213077439e-01\n",
      "[ simnibs ]INFO: Info    :   2 KSP Residual norm 1.124626641923e-01\n",
      "[ simnibs ]INFO: Info    :   3 KSP Residual norm 9.564295410782e-02\n",
      "[ simnibs ]INFO: Info    :   4 KSP Residual norm 8.792196747921e-02\n",
      "[ simnibs ]INFO: Info    :   5 KSP Residual norm 8.935934969093e-02\n",
      "[ simnibs ]INFO: Info    :   6 KSP Residual norm 8.191751374618e-02\n",
      "[ simnibs ]INFO: Info    :   7 KSP Residual norm 7.472000373076e-02\n",
      "[ simnibs ]INFO: Info    :   8 KSP Residual norm 6.926915289065e-02\n",
      "[ simnibs ]INFO: Info    :   9 KSP Residual norm 6.726074348529e-02\n",
      "[ simnibs ]INFO: Info    :  10 KSP Residual norm 6.255700026848e-02\n",
      "[ simnibs ]INFO: Info    :  11 KSP Residual norm 5.670586974133e-02\n",
      "[ simnibs ]INFO: Info    :  12 KSP Residual norm 5.301296628679e-02\n",
      "[ simnibs ]INFO: Info    :  13 KSP Residual norm 4.656333783737e-02\n",
      "[ simnibs ]INFO: Info    :  14 KSP Residual norm 4.087136142369e-02\n",
      "[ simnibs ]INFO: Info    :  15 KSP Residual norm 3.742227246797e-02\n",
      "[ simnibs ]INFO: Info    :  16 KSP Residual norm 3.312293334107e-02\n",
      "[ simnibs ]INFO: Info    :  17 KSP Residual norm 3.111599582736e-02\n",
      "[ simnibs ]INFO: Info    :  18 KSP Residual norm 2.639874162186e-02\n",
      "[ simnibs ]INFO: Info    :  19 KSP Residual norm 2.313792313872e-02\n",
      "[ simnibs ]INFO: Info    :  20 KSP Residual norm 2.123644956745e-02\n",
      "[ simnibs ]INFO: Info    :  21 KSP Residual norm 1.840944001646e-02\n",
      "[ simnibs ]INFO: Info    :  22 KSP Residual norm 1.690494807966e-02\n",
      "[ simnibs ]INFO: Info    :  23 KSP Residual norm 1.551061883227e-02\n",
      "[ simnibs ]INFO: Info    :  24 KSP Residual norm 1.371914147221e-02\n",
      "[ simnibs ]INFO: Info    :  25 KSP Residual norm 1.242515278031e-02\n",
      "[ simnibs ]INFO: Info    :  26 KSP Residual norm 1.018034230940e-02\n",
      "[ simnibs ]INFO: Info    :  27 KSP Residual norm 8.979190945008e-03\n",
      "[ simnibs ]INFO: Info    :  28 KSP Residual norm 7.981460290110e-03\n",
      "[ simnibs ]INFO: Info    :  29 KSP Residual norm 6.858203357563e-03\n",
      "[ simnibs ]INFO: Info    :  30 KSP Residual norm 6.288779907610e-03\n",
      "[ simnibs ]INFO: Info    :  31 KSP Residual norm 5.302842864512e-03\n",
      "[ simnibs ]INFO: Info    :  32 KSP Residual norm 4.601685240536e-03\n",
      "[ simnibs ]INFO: Info    :  33 KSP Residual norm 4.249387722535e-03\n",
      "[ simnibs ]INFO: Info    :  34 KSP Residual norm 3.895642683596e-03\n",
      "[ simnibs ]INFO: Info    :  35 KSP Residual norm 3.721351259428e-03\n",
      "[ simnibs ]INFO: Info    :  36 KSP Residual norm 3.387638110635e-03\n",
      "[ simnibs ]INFO: Info    :  37 KSP Residual norm 3.039528236106e-03\n",
      "[ simnibs ]INFO: Info    :  38 KSP Residual norm 2.847664034076e-03\n",
      "[ simnibs ]INFO: Info    :  39 KSP Residual norm 2.561064394580e-03\n",
      "[ simnibs ]INFO: Info    :  40 KSP Residual norm 2.310551387476e-03\n",
      "[ simnibs ]INFO: Info    :  41 KSP Residual norm 2.129123379624e-03\n",
      "[ simnibs ]INFO: Info    :  42 KSP Residual norm 1.883696711833e-03\n",
      "[ simnibs ]INFO: Info    :  43 KSP Residual norm 1.681325325591e-03\n",
      "[ simnibs ]INFO: Info    :  44 KSP Residual norm 1.436260663110e-03\n",
      "[ simnibs ]INFO: Info    :  45 KSP Residual norm 1.221272897695e-03\n"
     ]
    },
    {
     "name": "stderr",
     "output_type": "stream",
     "text": [
      "[ simnibs ]INFO: Info    :  46 KSP Residual norm 1.041465454416e-03\n",
      "[ simnibs ]INFO: Info    :  47 KSP Residual norm 8.003410277087e-04\n",
      "[ simnibs ]INFO: Info    :  48 KSP Residual norm 6.461267706856e-04\n",
      "[ simnibs ]INFO: Info    :  49 KSP Residual norm 5.007001068500e-04\n",
      "[ simnibs ]INFO: Info    :  50 KSP Residual norm 3.803303581025e-04\n",
      "[ simnibs ]INFO: Info    :  51 KSP Residual norm 2.991108950449e-04\n",
      "[ simnibs ]INFO: Info    :  52 KSP Residual norm 2.427475608809e-04\n",
      "[ simnibs ]INFO: Info    :  53 KSP Residual norm 1.940761013340e-04\n",
      "[ simnibs ]INFO: Info    :  54 KSP Residual norm 1.601560706432e-04\n",
      "[ simnibs ]INFO: Info    :  55 KSP Residual norm 1.312494888834e-04\n",
      "[ simnibs ]INFO: Info    :  56 KSP Residual norm 1.107458354683e-04\n",
      "[ simnibs ]INFO: Info    :  57 KSP Residual norm 9.152548047183e-05\n",
      "[ simnibs ]INFO: Info    :  58 KSP Residual norm 7.706190565202e-05\n",
      "[ simnibs ]INFO: Info    :  59 KSP Residual norm 6.758850226648e-05\n",
      "[ simnibs ]INFO: Info    :  60 KSP Residual norm 5.580247779611e-05\n",
      "[ simnibs ]INFO: Info    :  61 KSP Residual norm 5.139356952249e-05\n",
      "[ simnibs ]INFO: Info    :  62 KSP Residual norm 4.543212305062e-05\n",
      "[ simnibs ]INFO: Info    :  63 KSP Residual norm 4.013052723185e-05\n",
      "[ simnibs ]INFO: Info    :  64 KSP Residual norm 3.631564404022e-05\n",
      "[ simnibs ]INFO: Info    :  65 KSP Residual norm 3.078416766983e-05\n",
      "[ simnibs ]INFO: Info    :  66 KSP Residual norm 2.767026703041e-05\n",
      "[ simnibs ]INFO: Info    :  67 KSP Residual norm 2.632397691835e-05\n",
      "[ simnibs ]INFO: Info    :  68 KSP Residual norm 2.566642927376e-05\n",
      "[ simnibs ]INFO: Info    :  69 KSP Residual norm 2.358560009341e-05\n",
      "[ simnibs ]INFO: Info    :  70 KSP Residual norm 2.089205956888e-05\n",
      "[ simnibs ]INFO: Info    :  71 KSP Residual norm 1.857752351661e-05\n",
      "[ simnibs ]INFO: Info    :  72 KSP Residual norm 1.515458059740e-05\n",
      "[ simnibs ]INFO: Info    :  73 KSP Residual norm 1.226813652653e-05\n",
      "[ simnibs ]INFO: Info    :  74 KSP Residual norm 1.027405404040e-05\n",
      "[ simnibs ]INFO: Info    :  75 KSP Residual norm 8.429536146227e-06\n",
      "[ simnibs ]INFO: Info    :  76 KSP Residual norm 7.327512525305e-06\n",
      "[ simnibs ]INFO: Info    :  77 KSP Residual norm 6.272012560321e-06\n",
      "[ simnibs ]INFO: Info    :  78 KSP Residual norm 5.082151785368e-06\n",
      "[ simnibs ]INFO: Info    :  79 KSP Residual norm 4.418177703944e-06\n",
      "[ simnibs ]INFO: Info    :  80 KSP Residual norm 3.759619665930e-06\n",
      "[ simnibs ]INFO: Info    :  81 KSP Residual norm 3.336330038631e-06\n",
      "[ simnibs ]INFO: Info    :  82 KSP Residual norm 2.995091853408e-06\n",
      "[ simnibs ]INFO: Info    :  83 KSP Residual norm 2.514236810824e-06\n",
      "[ simnibs ]INFO: Info    :  84 KSP Residual norm 2.169055896267e-06\n",
      "[ simnibs ]INFO: Info    :  85 KSP Residual norm 1.775564607801e-06\n",
      "[ simnibs ]INFO: Info    :  86 KSP Residual norm 1.451055547431e-06\n",
      "[ simnibs ]INFO: Info    :  87 KSP Residual norm 1.230332868325e-06\n",
      "[ simnibs ]INFO: Info    :  88 KSP Residual norm 1.001870680298e-06\n",
      "[ simnibs ]INFO: Info    :  89 KSP Residual norm 8.475590740837e-07\n",
      "[ simnibs ]INFO: Info    :  90 KSP Residual norm 7.214746055882e-07\n",
      "[ simnibs ]INFO: Info    :  91 KSP Residual norm 5.750545063676e-07\n",
      "[ simnibs ]INFO: Info    :  92 KSP Residual norm 4.734739804473e-07\n",
      "[ simnibs ]INFO: Info    :  93 KSP Residual norm 3.768521821978e-07\n",
      "[ simnibs ]INFO: Info    :  94 KSP Residual norm 3.043546925129e-07\n",
      "[ simnibs ]INFO: Info    :  95 KSP Residual norm 2.420056241300e-07\n",
      "[ simnibs ]INFO: Info    :  96 KSP Residual norm 1.915308538657e-07\n",
      "[ simnibs ]INFO: Info    :  97 KSP Residual norm 1.581544784570e-07\n",
      "[ simnibs ]INFO: Info    :  98 KSP Residual norm 1.231314506859e-07\n",
      "[ simnibs ]INFO: Info    :  99 KSP Residual norm 9.993686458775e-08\n",
      "[ simnibs ]INFO: Info    : 100 KSP Residual norm 7.943256764251e-08\n",
      "[ simnibs ]INFO: Info    : 101 KSP Residual norm 6.130573845915e-08\n",
      "[ simnibs ]INFO: Info    : 102 KSP Residual norm 4.794171848553e-08\n",
      "[ simnibs ]INFO: Info    : 103 KSP Residual norm 3.853493364070e-08\n",
      "[ simnibs ]INFO: Info    : 104 KSP Residual norm 3.244170497900e-08\n",
      "[ simnibs ]INFO: Info    : 105 KSP Residual norm 2.835850050295e-08\n",
      "[ simnibs ]INFO: Info    : 106 KSP Residual norm 2.364397649721e-08\n",
      "[ simnibs ]INFO: Info    : 107 KSP Residual norm 1.956562787242e-08\n",
      "[ simnibs ]INFO: Info    : 108 KSP Residual norm 1.631485132088e-08\n",
      "[ simnibs ]INFO: Info    : 109 KSP Residual norm 1.302016676621e-08\n",
      "[ simnibs ]INFO: Info    : 110 KSP Residual norm 1.050143150986e-08\n",
      "[ simnibs ]INFO: Info    : 111 KSP Residual norm 8.526569493134e-09\n",
      "[ simnibs ]INFO: Info    : 112 KSP Residual norm 7.086944435969e-09\n",
      "[ simnibs ]INFO: Info    : 113 KSP Residual norm 5.770325329261e-09\n",
      "[ simnibs ]INFO: Info    : 114 KSP Residual norm 4.371792606363e-09\n",
      "[ simnibs ]INFO: Info    : 115 KSP Residual norm 3.367274791415e-09\n",
      "[ simnibs ]INFO: Info    : 116 KSP Residual norm 2.573116794187e-09\n",
      "[ simnibs ]INFO: Info    : 117 KSP Residual norm 2.039307267911e-09\n",
      "[ simnibs ]INFO: Info    : 118 KSP Residual norm 1.574943460928e-09\n",
      "[ simnibs ]INFO: Info    : 119 KSP Residual norm 1.161469434198e-09\n",
      "[ simnibs ]INFO: Info    : 120 KSP Residual norm 9.083327518771e-10\n",
      "[ simnibs ]INFO: Info    : 121 KSP Residual norm 7.345309559226e-10\n",
      "[ simnibs ]INFO: Info    : 122 KSP Residual norm 6.035549028467e-10\n",
      "[ simnibs ]INFO: Info    : 123 KSP Residual norm 5.214051945455e-10\n",
      "[ simnibs ]INFO: Info    : 124 KSP Residual norm 4.256644442575e-10\n",
      "[ simnibs ]INFO: Info    : 125 KSP Residual norm 3.637359726634e-10\n",
      "[ simnibs ]INFO: Info    : 126 KSP Residual norm 3.158329582290e-10\n",
      "[ simnibs ]INFO: Info    : 127 KSP Residual norm 2.752596480620e-10\n",
      "[ simnibs ]INFO: Info    : 128 KSP Residual norm 2.394001420572e-10\n",
      "[ simnibs ]INFO: Info    : 129 KSP Residual norm 2.004362106502e-10\n",
      "[ simnibs ]INFO: Info    : 130 KSP Residual norm 1.590510837816e-10\n",
      "[ simnibs ]INFO: Info    : 131 KSP Residual norm 1.265555057469e-10\n",
      "[ simnibs ]INFO: Info    : 132 KSP Residual norm 9.647421066015e-11\n",
      "[ simnibs ]INFO: Info    : 133 KSP Residual norm 8.002165751996e-11\n",
      "[ simnibs ]INFO: Info    : 134 KSP Residual norm 6.353836274978e-11\n",
      "[ simnibs ]INFO: Info    : 135 KSP Residual norm 4.823390308486e-11\n",
      "[ simnibs ]INFO: Info    : 136 KSP Residual norm 3.871088389658e-11\n",
      "[ simnibs ]INFO: Info    : 136 iterations\n",
      "[ simnibs ]INFO: Info    : SaveSolution[QS_dAdt]\n",
      "[ simnibs ]INFO: Info    : (Wall = 283.072s, CPU = 282.13s, Mem = 4227.82Mb)\n",
      "[ simnibs ]INFO: \u001b[34mE n d   P r o c e s s i n g\u001b[0m\n",
      "[ simnibs ]INFO: Info    : Stopped (Wed Mar 13 11:39:37 2019, Wall = 283.325s, CPU = 282.254s, Mem = 4227.82Mb)\n",
      "[ simnibs ]INFO: Execution finished\n",
      "[ simnibs ]INFO: Finished Running Poslist Number: 1\n",
      "[ simnibs ]INFO: Result Files:\n",
      "/mnt/tigrlab/projects/jjeyachandra/rtms_optimize/data/simnibs_output/test_simulation/sub-CMH090_TMS_1-0001_Magstim_70mm_Fig8_nii_scalar.msh\n",
      "[ simnibs ]INFO: =====================================\n",
      "[ simnibs ]INFO: SimNIBS finished running simulations\n",
      "[ simnibs ]INFO: Simulation Result Meshed:\n",
      "[ simnibs ]INFO: /mnt/tigrlab/projects/jjeyachandra/rtms_optimize/data/simnibs_output/test_simulation/sub-CMH090_TMS_1-0001_Magstim_70mm_Fig8_nii_scalar.msh\n",
      "[ simnibs ]INFO: =====================================\n"
     ]
    },
    {
     "name": "stdout",
     "output_type": "stream",
     "text": [
      "371.256185055\n"
     ]
    }
   ],
   "source": [
    "start = timer()\n",
    "run_simulation(S)\n",
    "stop = timer()\n",
    "print(stop - start)"
   ]
  }
 ],
 "metadata": {
  "kernelspec": {
   "display_name": "Python 2",
   "language": "python",
   "name": "python2"
  },
  "language_info": {
   "codemirror_mode": {
    "name": "ipython",
    "version": 2
   },
   "file_extension": ".py",
   "mimetype": "text/x-python",
   "name": "python",
   "nbconvert_exporter": "python",
   "pygments_lexer": "ipython2",
   "version": "2.7.12"
  }
 },
 "nbformat": 4,
 "nbformat_minor": 2
}
