{
 "cells": [
  {
   "cell_type": "markdown",
   "metadata": {},
   "source": [
    "This notebook set's up an FEM simulation by sampling from the analytical approximation of the surface patch with some $\\theta$. Then we translate this into a simnibs input matrix and run a simulation and return the results"
   ]
  },
  {
   "cell_type": "code",
   "execution_count": 1,
   "metadata": {},
   "outputs": [],
   "source": [
    "import sys"
   ]
  },
  {
   "cell_type": "code",
   "execution_count": 2,
   "metadata": {},
   "outputs": [],
   "source": [
    "#SCC package environment\n",
    "sys.path.insert(0,'/KIMEL/tigrlab/projects/jjeyachandra/gmsh-sdk/lib/')\n",
    "sys.path.insert(0,'/projects/jjeyachandra/simnibs/miniconda2/envs/simnibs_env/lib/python2.7/site-packages')\n",
    "sys.path.insert(0,'/projects/jjeyachandra/simnibs/Python_modules/src')"
   ]
  },
  {
   "cell_type": "code",
   "execution_count": 3,
   "metadata": {},
   "outputs": [],
   "source": [
    "import numpy as np\n",
    "from simnibs import sim_struct, run_simulation\n",
    "\n",
    "#For importing geometry library\n",
    "import io, os, sys, types\n",
    "from IPython import get_ipython\n",
    "from nbformat import read\n",
    "from IPython.core.interactiveshell import InteractiveShell\n",
    "\n",
    "#Timing\n",
    "from timeit import default_timer as timer"
   ]
  },
  {
   "cell_type": "code",
   "execution_count": 11,
   "metadata": {},
   "outputs": [
    {
     "data": {
      "text/plain": [
       "'simnibs.simulation'"
      ]
     },
     "execution_count": 11,
     "metadata": {},
     "output_type": "execute_result"
    }
   ],
   "source": [
    "sim_struct.__package__"
   ]
  },
  {
   "cell_type": "code",
   "execution_count": 9,
   "metadata": {},
   "outputs": [
    {
     "data": {
      "text/plain": [
       "'simnibs.simulation.run_simnibs'"
      ]
     },
     "execution_count": 9,
     "metadata": {},
     "output_type": "execute_result"
    }
   ],
   "source": [
    "run_simulation.__module__"
   ]
  },
  {
   "cell_type": "code",
   "execution_count": 4,
   "metadata": {},
   "outputs": [],
   "source": [
    "from fieldopt import geolib, tetrapro"
   ]
  },
  {
   "cell_type": "code",
   "execution_count": null,
   "metadata": {},
   "outputs": [],
   "source": [
    "#Load up quadratic surface constants, inverse rotation matrix, bounds and normal vector\n",
    "#This is for the Bayesian optimization component\n",
    "C = np.fromfile('../../output/quadratic_vec')\n",
    "iR = np.fromfile('../../output/inverse_rot').reshape((3,3))\n",
    "b  = np.fromfile('../../output/param_bounds').reshape((3,2))"
   ]
  },
  {
   "cell_type": "markdown",
   "metadata": {},
   "source": [
    "### Get raw input coordinates that need to be transformed"
   ]
  },
  {
   "cell_type": "code",
   "execution_count": null,
   "metadata": {},
   "outputs": [],
   "source": [
    "#Sample a coordinate within the bounds and form input array\n",
    "x = np.random.uniform(b[0,0], b[0,1])\n",
    "y = np.random.uniform(b[1,0], b[1,1])\n",
    "\n",
    "#Sample rotation\n",
    "r = np.random.uniform(0,180)\n",
    "print(x,y,r)"
   ]
  },
  {
   "cell_type": "code",
   "execution_count": null,
   "metadata": {},
   "outputs": [],
   "source": [
    "#Compute z value then map to mesh surface\n",
    "preaff_loc = geolib.map_param_2_surf(x,y,C)\n",
    "loc = np.matmul(iR,preaff_loc)\n",
    "\n",
    "#Compute orientation vector in basis of surface normal then rotate into FEM mesh space\n",
    "preaff_rot, preaff_n = geolib.map_rot_2_surf(x,y,r,C)\n",
    "rot = np.matmul(iR,preaff_rot)\n",
    "n = np.matmul(iR,preaff_n)"
   ]
  },
  {
   "cell_type": "code",
   "execution_count": null,
   "metadata": {},
   "outputs": [],
   "source": [
    "#Start a session\n",
    "S = sim_struct.SESSION()\n",
    "S.fnamehead=\"../../data/simnibs_output/sub-CMH090.msh\"\n",
    "S.pathfem=\"../../data/simnibs_output/test2_simulation\""
   ]
  },
  {
   "cell_type": "code",
   "execution_count": null,
   "metadata": {},
   "outputs": [],
   "source": [
    "#Define the TMS simulation\n",
    "tms = S.add_tmslist()\n",
    "tms.fnamecoil='/projects/jjeyachandra/simnibs/ccd-files/Magstim_70mm_Fig8.nii.gz'"
   ]
  },
  {
   "cell_type": "code",
   "execution_count": null,
   "metadata": {},
   "outputs": [],
   "source": [
    "#Define position\n",
    "pos = tms.add_position()\n",
    "pos.matsimnibs = geolib.define_coil_orientation(loc,rot,n)"
   ]
  },
  {
   "cell_type": "code",
   "execution_count": null,
   "metadata": {
    "scrolled": true
   },
   "outputs": [],
   "source": [
    "start = timer()\n",
    "run_simulation(S)\n",
    "stop = timer()\n",
    "print(stop - start)"
   ]
  },
  {
   "cell_type": "code",
   "execution_count": null,
   "metadata": {},
   "outputs": [],
   "source": []
  }
 ],
 "metadata": {
  "kernelspec": {
   "display_name": "Python 2",
   "language": "python",
   "name": "python2"
  },
  "language_info": {
   "codemirror_mode": {
    "name": "ipython",
    "version": 2
   },
   "file_extension": ".py",
   "mimetype": "text/x-python",
   "name": "python",
   "nbconvert_exporter": "python",
   "pygments_lexer": "ipython2",
   "version": "2.7.12"
  }
 },
 "nbformat": 4,
 "nbformat_minor": 2
}
