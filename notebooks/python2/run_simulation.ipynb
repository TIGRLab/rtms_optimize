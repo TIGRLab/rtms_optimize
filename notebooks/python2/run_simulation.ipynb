{
 "cells": [
  {
   "cell_type": "markdown",
   "metadata": {},
   "source": [
    "This notebook set's up an FEM simulation by sampling from the analytical approximation of the surface patch with some $\\theta$. Then we translate this into a simnibs input matrix and run a simulation and return the results"
   ]
  },
  {
   "cell_type": "code",
   "execution_count": 2,
   "metadata": {},
   "outputs": [],
   "source": [
    "import sys"
   ]
  },
  {
   "cell_type": "code",
   "execution_count": 3,
   "metadata": {},
   "outputs": [],
   "source": [
    "#SCC package environment\n",
    "sys.path.insert(0,'/KIMEL/tigrlab/projects/jjeyachandra/gmsh-sdk/lib/')\n",
    "sys.path.insert(0,'/home/jjeyachandra/simnibs_2.1.2/miniconda2/envs/simnibs_env/lib/python2.7/site-packages')\n",
    "sys.path.insert(0,'/home/jjeyachandra/simnibs_2.1.2/Python_modules/src')"
   ]
  },
  {
   "cell_type": "code",
   "execution_count": 148,
   "metadata": {},
   "outputs": [],
   "source": [
    "import numpy as np\n",
    "from simnibs import sim_struct, run_simulation\n",
    "\n",
    "#For importing geometry library\n",
    "import io, os, sys, types\n",
    "from IPython import get_ipython\n",
    "from nbformat import read\n",
    "from IPython.core.interactiveshell import InteractiveShell\n",
    "\n",
    "#Timing\n",
    "from timeit import default_timer as timer"
   ]
  },
  {
   "cell_type": "code",
   "execution_count": 5,
   "metadata": {},
   "outputs": [],
   "source": [
    "#https://jupyter-notebook.readthedocs.io/en/stable/examples/Notebook/Importing%20Notebooks.html\n",
    "class NotebookLoader(object):\n",
    "    \"\"\"Module Loader for Jupyter Notebooks\"\"\"\n",
    "    def __init__(self, path=None):\n",
    "        self.shell = InteractiveShell.instance()\n",
    "        self.path = path\n",
    "\n",
    "    def load_module(self, fullname):\n",
    "        \"\"\"import a notebook as a module\"\"\"\n",
    "        \n",
    "        \n",
    "        path = os.path.join(self.path,fullname) + '.ipynb'\n",
    "\n",
    "        print (\"importing Jupyter notebook from %s\" % path)\n",
    "\n",
    "        # load the notebook object\n",
    "        with io.open(path, 'r', encoding='utf-8') as f:\n",
    "            nb = read(f, 4)\n",
    "\n",
    "\n",
    "        # create the module and add it to sys.modules\n",
    "        # if name in sys.modules:\n",
    "        #    return sys.modules[name]\n",
    "        mod = types.ModuleType(fullname)\n",
    "        mod.__file__ = path\n",
    "        mod.__loader__ = self\n",
    "        mod.__dict__['get_ipython'] = get_ipython\n",
    "        sys.modules[fullname] = mod\n",
    "\n",
    "        # extra work to ensure that magics that would affect the user_ns\n",
    "        # actually affect the notebook module's ns\n",
    "        save_user_ns = self.shell.user_ns\n",
    "        self.shell.user_ns = mod.__dict__\n",
    "\n",
    "        try:\n",
    "            for cell in nb.cells:\n",
    "                if cell.cell_type == 'code':\n",
    "                    # transform the input to executable Python\n",
    "                    code = self.shell.input_transformer_manager.transform_cell(cell.source)\n",
    "                    # run the code in themodule\n",
    "                    exec(code, mod.__dict__)\n",
    "        finally:\n",
    "            self.shell.user_ns = save_user_ns\n",
    "        return mod"
   ]
  },
  {
   "cell_type": "code",
   "execution_count": 135,
   "metadata": {},
   "outputs": [
    {
     "name": "stdout",
     "output_type": "stream",
     "text": [
      "importing Jupyter notebook from /projects/jjeyachandra/rtms_optimize/notebooks/python2/geolib.ipynb\n"
     ]
    }
   ],
   "source": [
    "#Load up the geolibrary as a module\n",
    "glib_path = '/projects/jjeyachandra/rtms_optimize/notebooks/python2/'\n",
    "nbload = NotebookLoader(glib_path)\n",
    "geolib = nbload.load_module('geolib')"
   ]
  },
  {
   "cell_type": "code",
   "execution_count": 136,
   "metadata": {},
   "outputs": [],
   "source": [
    "#Load up quadratic surface constants, inverse rotation matrix, bounds and normal vector\n",
    "C = np.fromfile('../../output/quadratic_vec')\n",
    "iR = np.fromfile('../../output/inverse_rot').reshape((3,3))\n",
    "b  = np.fromfile('../../output/param_bounds').reshape((3,2))\n",
    "n = np.fromfile('../../output/norm_varr')\n",
    "n = n/np.linalg.norm(n)"
   ]
  },
  {
   "cell_type": "markdown",
   "metadata": {},
   "source": [
    "### Get raw input coordinates that need to be transformed"
   ]
  },
  {
   "cell_type": "code",
   "execution_count": 137,
   "metadata": {},
   "outputs": [
    {
     "name": "stdout",
     "output_type": "stream",
     "text": [
      "(27.708634082292754, 8.16081378804095, 19.020825067538652)\n"
     ]
    }
   ],
   "source": [
    "#Sample a coordinate within the bounds and form input array\n",
    "x = np.random.uniform(b[0,0], b[0,1])\n",
    "y = np.random.uniform(b[1,0], b[1,1])\n",
    "\n",
    "#Sample rotation\n",
    "r = np.random.uniform(0,180)\n",
    "print(x,y,r)"
   ]
  },
  {
   "cell_type": "code",
   "execution_count": 138,
   "metadata": {},
   "outputs": [],
   "source": [
    "#Compute z value then map to mesh surface\n",
    "preaff_loc = geolib.map_param_2_surf(x,y,C)\n",
    "loc = np.matmul(iR,preaff_loc)\n",
    "\n",
    "#Compute rotation vector then align with mesh surface\n",
    "preaff_rot = geolib.map_rot_2_surf(x,y,r,C)\n",
    "rot = np.matmul(iR,preaff_rot)"
   ]
  },
  {
   "cell_type": "code",
   "execution_count": 139,
   "metadata": {},
   "outputs": [],
   "source": [
    "#Start a session\n",
    "S = sim_struct.SESSION()\n",
    "S.fnamehead=\"../../data/simnibs_output/sub-CMH090.msh\"\n",
    "S.pathfem=\"../../data/simnibs_output/test_simulation\""
   ]
  },
  {
   "cell_type": "code",
   "execution_count": 140,
   "metadata": {},
   "outputs": [],
   "source": [
    "#Define the TMS simulation\n",
    "tms = S.add_tmslist()\n",
    "tms.fnamecoil='/projects/jjeyachandra/simnibs/ccd-files/Magstim_70mm_Fig8.nii.gz'"
   ]
  },
  {
   "cell_type": "code",
   "execution_count": 141,
   "metadata": {},
   "outputs": [],
   "source": [
    "#Define position\n",
    "pos = tms.add_position()\n",
    "pos.matsimnibs = geolib.define_coil_orientation(loc,rot,n)"
   ]
  },
  {
   "cell_type": "code",
   "execution_count": 151,
   "metadata": {},
   "outputs": [
    {
     "data": {
      "text/plain": [
       "array([[ -5.2500e-02,  -6.2950e-01,   7.7522e-01,  -4.7358e+01],\n",
       "       [  5.3868e-01,  -6.7152e-01,  -5.0881e-01,   5.7430e+01],\n",
       "       [ -8.4087e-01,  -3.9088e-01,  -3.7436e-01,   4.8858e+01],\n",
       "       [  0.0000e+00,   0.0000e+00,   0.0000e+00,   1.0000e+00]])"
      ]
     },
     "execution_count": 151,
     "metadata": {},
     "output_type": "execute_result"
    }
   ],
   "source": [
    "pos.matsimnibs"
   ]
  },
  {
   "cell_type": "code",
   "execution_count": 150,
   "metadata": {
    "scrolled": true
   },
   "outputs": [
    {
     "name": "stderr",
     "output_type": "stream",
     "text": [
      "[ simnibs ]INFO: Could not find the dti tensor file in the standard location: /mnt/tigrlab/projects/jjeyachandra/rtms_optimize/data/simnibs_output/d2c_sub-CMH090/dti_results_T1space/DTI_conf_tensor.nii.gz\n",
      "[ simnibs ]INFO: Head Mesh: /mnt/tigrlab/projects/jjeyachandra/rtms_optimize/data/simnibs_output/sub-CMH090.msh\n",
      "[ simnibs ]INFO: Subject Path: /mnt/tigrlab/projects/jjeyachandra/rtms_optimize/data/simnibs_output/m2m_sub-CMH090\n",
      "[ simnibs ]INFO: Simulation Folder: /mnt/tigrlab/projects/jjeyachandra/rtms_optimize/data/simnibs_output/test_simulation\n",
      "[ simnibs ]INFO: Running simulations in the directory: /mnt/tigrlab/projects/jjeyachandra/rtms_optimize/data/simnibs_output/test_simulation\n",
      "[ simnibs ]INFO: Running Poslist Number: 1\n",
      "[ simnibs ]INFO: Began to run TMS simulations\n",
      "[ simnibs ]INFO: Using coil: /projects/jjeyachandra/simnibs/ccd-files/Magstim_70mm_Fig8.nii.gz\n",
      "[ simnibs ]INFO: Using isotropic conductivities\n"
     ]
    },
    {
     "name": "stdout",
     "output_type": "stream",
     "text": [
      "0\n"
     ]
    },
    {
     "name": "stderr",
     "output_type": "stream",
     "text": [
      "[ simnibs ]INFO: Running TMS Position 0\n",
      "[ simnibs ]INFO: Coil Position Matrix: [[ -5.2500e-02  -6.2950e-01   7.7522e-01  -4.7358e+01]\n",
      " [  5.3868e-01  -6.7152e-01  -5.0881e-01   5.7430e+01]\n",
      " [ -8.4087e-01  -3.9088e-01  -3.7436e-01   4.8858e+01]\n",
      " [  0.0000e+00   0.0000e+00   0.0000e+00   1.0000e+00]]\n",
      "dIdt: 1000000.0\n",
      "\n",
      "[ simnibs ]INFO: Executing: \n",
      "/home/jjeyachandra/simnibs_2.1.2/bin/getdp /mnt/tigrlab/projects/jjeyachandra/rtms_optimize/data/simnibs_output/test_simulation/sub-CMH090_TMS_1-0001_Magstim_70mm_Fig8_nii.pro -solve QS -msh /mnt/tigrlab/projects/jjeyachandra/rtms_optimize/data/simnibs_output/test_simulation/tmp5LaDSv.msh -ksp_type cg -ksp_rtol 1e-10 -pc_type icc -pc_factor_levels 2 -v2 -bin\n",
      "[ simnibs ]INFO: Info    : Running '/home/jjeyachandra/simnibs_2.1.2/bin/getdp /mnt/tigrlab/projects/jjeyachandra/rtms_optimize/data/simnibs_output/test_simulation/sub-CMH090_TMS_1-0001_Magstim_70mm_Fig8_nii.pro -solve QS -msh /mnt/tigrlab/projects/jjeyachandra/rtms_optimize/data/simnibs_output/test_simulation/tmp5LaDSv.msh -ksp_type cg -ksp_rtol 1e-10 -pc_type icc -pc_factor_levels 2 -v2 -bin' [GetDP 2.11.3, 1 node, max. 1 thread]\n",
      "[ simnibs ]INFO: Info    : Started (Mon Mar 11 18:10:50 2019, Wall = 0.000108957s, CPU = 0.002194s, Mem = 5.17188Mb)\n",
      "[ simnibs ]INFO: Info    : Initializing Gmsh\n",
      "[ simnibs ]INFO: Info    : Loading problem definition '/mnt/tigrlab/projects/jjeyachandra/rtms_optimize/data/simnibs_output/test_simulation/sub-CMH090_TMS_1-0001_Magstim_70mm_Fig8_nii.pro'\n",
      "[ simnibs ]INFO: Info    : Selected Resolution 'QS'\n",
      "[ simnibs ]INFO: Info    : Loading Geometric data '/mnt/tigrlab/projects/jjeyachandra/rtms_optimize/data/simnibs_output/test_simulation/tmp5LaDSv.msh'\n",
      "[ simnibs ]INFO: Info    : Mesh is in binary format\n",
      "[ simnibs ]INFO: Info    : System 'QS_dAdt' : Real\n",
      "[ simnibs ]INFO: \u001b[34mP r e - P r o c e s s i n g . . .\u001b[0m\n",
      "[ simnibs ]INFO: Info    : Treatment Formulation 'QS_Formulation'\n",
      "Info    : System 1/1: 657584 Dofs                                                  \n",
      "[ simnibs ]INFO: Info    : (Wall = 7.61218s, CPU = 7.17446s, Mem = 588.484Mb)\n",
      "[ simnibs ]INFO: \u001b[34mE n d   P r e - P r o c e s s i n g\u001b[0m\n",
      "[ simnibs ]INFO: \u001b[34mP r o c e s s i n g . . .\u001b[0m\n",
      "[ simnibs ]INFO: Info    : GmshRead[/mnt/tigrlab/projects/jjeyachandra/rtms_optimize/data/simnibs_output/test_simulation/sub-CMH090_TMS_1_cond.msh] -> View[1]\n",
      "[ simnibs ]INFO: Info    : No current model available: creating one\n",
      "[ simnibs ]INFO: Info    : Reading '/mnt/tigrlab/projects/jjeyachandra/rtms_optimize/data/simnibs_output/test_simulation/sub-CMH090_TMS_1_cond.msh'...\n",
      "[ simnibs ]INFO: Info    : 657584 vertices\n",
      "[ simnibs ]INFO: Info    : Reading nodes\n",
      "[ simnibs ]INFO: Info    : Reading nodes\n",
      "[ simnibs ]INFO: Info    : Reading nodes\n",
      "[ simnibs ]INFO: Info    : Reading nodes\n",
      "[ simnibs ]INFO: Info    : Reading nodes\n",
      "[ simnibs ]INFO: Info    : Reading nodes\n",
      "[ simnibs ]INFO: Info    : 4578176 elements\n",
      "[ simnibs ]INFO: Info    : Reading elements\n",
      "[ simnibs ]INFO: Info    : Reading elements\n",
      "[ simnibs ]INFO: Info    : Reading elements\n",
      "[ simnibs ]INFO: Info    : Reading elements\n",
      "[ simnibs ]INFO: Info    : Reading elements\n",
      "[ simnibs ]INFO: Info    : Reading elements\n",
      "[ simnibs ]INFO: Info    : Reading data\n",
      "[ simnibs ]INFO: Info    : Reading data\n",
      "[ simnibs ]INFO: Info    : Reading data\n",
      "[ simnibs ]INFO: Info    : Reading data\n",
      "[ simnibs ]INFO: Info    : Reading data\n",
      "[ simnibs ]INFO: Info    : Reading data\n",
      "[ simnibs ]INFO: Info    : Done reading '/mnt/tigrlab/projects/jjeyachandra/rtms_optimize/data/simnibs_output/test_simulation/sub-CMH090_TMS_1_cond.msh'\n",
      "[ simnibs ]INFO: Info    : GmshRead[/mnt/tigrlab/projects/jjeyachandra/rtms_optimize/data/simnibs_output/test_simulation/sub-CMH090_TMS_1-0001_Magstim_70mm_Fig8_nii_dadt.msh] -> View[2]\n",
      "[ simnibs ]INFO: Info    : Reading '/mnt/tigrlab/projects/jjeyachandra/rtms_optimize/data/simnibs_output/test_simulation/sub-CMH090_TMS_1-0001_Magstim_70mm_Fig8_nii_dadt.msh'...\n",
      "[ simnibs ]INFO: Info    : 657584 vertices\n",
      "[ simnibs ]INFO: Info    : Reading nodes\n",
      "[ simnibs ]INFO: Info    : Reading nodes\n",
      "[ simnibs ]INFO: Info    : Reading nodes\n",
      "[ simnibs ]INFO: Info    : Reading nodes\n",
      "[ simnibs ]INFO: Info    : Reading nodes\n",
      "[ simnibs ]INFO: Info    : Reading nodes\n",
      "[ simnibs ]INFO: Info    : 4578176 elements\n",
      "[ simnibs ]INFO: Info    : Reading elements\n",
      "[ simnibs ]INFO: Info    : Reading elements\n",
      "[ simnibs ]INFO: Info    : Reading elements\n",
      "[ simnibs ]INFO: Info    : Reading elements\n",
      "[ simnibs ]INFO: Info    : Reading elements\n",
      "[ simnibs ]INFO: Info    : Reading elements\n",
      "[ simnibs ]INFO: Info    : Reading data\n",
      "[ simnibs ]INFO: Info    : Reading data\n",
      "[ simnibs ]INFO: Info    : Reading data\n",
      "[ simnibs ]INFO: Info    : Reading data\n",
      "[ simnibs ]INFO: Info    : Reading data\n",
      "[ simnibs ]INFO: Info    : Reading data\n",
      "[ simnibs ]INFO: Info    : Done reading '/mnt/tigrlab/projects/jjeyachandra/rtms_optimize/data/simnibs_output/test_simulation/sub-CMH090_TMS_1-0001_Magstim_70mm_Fig8_nii_dadt.msh'\n",
      "[ simnibs ]INFO: Info    : Generate[QS_dAdt]\n",
      "Info    : Solve[QS_dAdt]                                                                  \n",
      "[ simnibs ]INFO: Info    : N: 657584 - cg icc (null)\n",
      "[ simnibs ]INFO: Info    :   0 KSP Residual norm 4.203595211390e-01\n",
      "[ simnibs ]INFO: Info    :   1 KSP Residual norm 1.423170535979e-01\n",
      "[ simnibs ]INFO: Info    :   2 KSP Residual norm 1.231732724197e-01\n",
      "[ simnibs ]INFO: Info    :   3 KSP Residual norm 1.041489303423e-01\n",
      "[ simnibs ]INFO: Info    :   4 KSP Residual norm 9.526962870742e-02\n",
      "[ simnibs ]INFO: Info    :   5 KSP Residual norm 9.477469570507e-02\n",
      "[ simnibs ]INFO: Info    :   6 KSP Residual norm 8.826769560281e-02\n",
      "[ simnibs ]INFO: Info    :   7 KSP Residual norm 7.962554878627e-02\n",
      "[ simnibs ]INFO: Info    :   8 KSP Residual norm 7.246543795225e-02\n",
      "[ simnibs ]INFO: Info    :   9 KSP Residual norm 7.122708580911e-02\n",
      "[ simnibs ]INFO: Info    :  10 KSP Residual norm 6.606046542601e-02\n",
      "[ simnibs ]INFO: Info    :  11 KSP Residual norm 5.946053526453e-02\n",
      "[ simnibs ]INFO: Info    :  12 KSP Residual norm 5.759801457298e-02\n",
      "[ simnibs ]INFO: Info    :  13 KSP Residual norm 5.166648146765e-02\n",
      "[ simnibs ]INFO: Info    :  14 KSP Residual norm 4.631182655140e-02\n",
      "[ simnibs ]INFO: Info    :  15 KSP Residual norm 4.170638755201e-02\n",
      "[ simnibs ]INFO: Info    :  16 KSP Residual norm 3.671055358417e-02\n",
      "[ simnibs ]INFO: Info    :  17 KSP Residual norm 3.446999892476e-02\n",
      "[ simnibs ]INFO: Info    :  18 KSP Residual norm 2.907095706185e-02\n",
      "[ simnibs ]INFO: Info    :  19 KSP Residual norm 2.566399714669e-02\n",
      "[ simnibs ]INFO: Info    :  20 KSP Residual norm 2.351509150813e-02\n",
      "[ simnibs ]INFO: Info    :  21 KSP Residual norm 2.026340980504e-02\n",
      "[ simnibs ]INFO: Info    :  22 KSP Residual norm 1.880890154065e-02\n",
      "[ simnibs ]INFO: Info    :  23 KSP Residual norm 1.675267820029e-02\n",
      "[ simnibs ]INFO: Info    :  24 KSP Residual norm 1.480651106831e-02\n",
      "[ simnibs ]INFO: Info    :  25 KSP Residual norm 1.369734228293e-02\n",
      "[ simnibs ]INFO: Info    :  26 KSP Residual norm 1.131782683086e-02\n",
      "[ simnibs ]INFO: Info    :  27 KSP Residual norm 9.924322165830e-03\n",
      "[ simnibs ]INFO: Info    :  28 KSP Residual norm 8.603940763394e-03\n",
      "[ simnibs ]INFO: Info    :  29 KSP Residual norm 7.484596746237e-03\n",
      "[ simnibs ]INFO: Info    :  30 KSP Residual norm 6.780625429219e-03\n",
      "[ simnibs ]INFO: Info    :  31 KSP Residual norm 5.788476182234e-03\n",
      "[ simnibs ]INFO: Info    :  32 KSP Residual norm 5.263703965421e-03\n",
      "[ simnibs ]INFO: Info    :  33 KSP Residual norm 4.824744448141e-03\n",
      "[ simnibs ]INFO: Info    :  34 KSP Residual norm 4.306188624289e-03\n",
      "[ simnibs ]INFO: Info    :  35 KSP Residual norm 3.921577178913e-03\n",
      "[ simnibs ]INFO: Info    :  36 KSP Residual norm 3.451792935871e-03\n",
      "[ simnibs ]INFO: Info    :  37 KSP Residual norm 3.116318622313e-03\n",
      "[ simnibs ]INFO: Info    :  38 KSP Residual norm 2.926838414188e-03\n",
      "[ simnibs ]INFO: Info    :  39 KSP Residual norm 2.725414647645e-03\n",
      "[ simnibs ]INFO: Info    :  40 KSP Residual norm 2.512524224448e-03\n",
      "[ simnibs ]INFO: Info    :  41 KSP Residual norm 2.301346075465e-03\n",
      "[ simnibs ]INFO: Info    :  42 KSP Residual norm 2.050845268821e-03\n",
      "[ simnibs ]INFO: Info    :  43 KSP Residual norm 1.826453258478e-03\n",
      "[ simnibs ]INFO: Info    :  44 KSP Residual norm 1.546717815954e-03\n"
     ]
    },
    {
     "name": "stderr",
     "output_type": "stream",
     "text": [
      "[ simnibs ]INFO: Info    :  45 KSP Residual norm 1.297759710242e-03\n",
      "[ simnibs ]INFO: Info    :  46 KSP Residual norm 1.081072616306e-03\n",
      "[ simnibs ]INFO: Info    :  47 KSP Residual norm 8.358478506424e-04\n",
      "[ simnibs ]INFO: Info    :  48 KSP Residual norm 6.677135118278e-04\n",
      "[ simnibs ]INFO: Info    :  49 KSP Residual norm 5.178251526009e-04\n",
      "[ simnibs ]INFO: Info    :  50 KSP Residual norm 3.977936833804e-04\n",
      "[ simnibs ]INFO: Info    :  51 KSP Residual norm 3.150377467341e-04\n",
      "[ simnibs ]INFO: Info    :  52 KSP Residual norm 2.517821261615e-04\n",
      "[ simnibs ]INFO: Info    :  53 KSP Residual norm 2.048426288662e-04\n",
      "[ simnibs ]INFO: Info    :  54 KSP Residual norm 1.637676946081e-04\n",
      "[ simnibs ]INFO: Info    :  55 KSP Residual norm 1.357617382566e-04\n",
      "[ simnibs ]INFO: Info    :  56 KSP Residual norm 1.210466748713e-04\n",
      "[ simnibs ]INFO: Info    :  57 KSP Residual norm 1.019513026368e-04\n",
      "[ simnibs ]INFO: Info    :  58 KSP Residual norm 9.035369199148e-05\n",
      "[ simnibs ]INFO: Info    :  59 KSP Residual norm 8.372483071995e-05\n",
      "[ simnibs ]INFO: Info    :  60 KSP Residual norm 7.083065734576e-05\n",
      "[ simnibs ]INFO: Info    :  61 KSP Residual norm 6.558857850759e-05\n",
      "[ simnibs ]INFO: Info    :  62 KSP Residual norm 5.731972550780e-05\n",
      "[ simnibs ]INFO: Info    :  63 KSP Residual norm 5.034298434794e-05\n",
      "[ simnibs ]INFO: Info    :  64 KSP Residual norm 4.541014426726e-05\n",
      "[ simnibs ]INFO: Info    :  65 KSP Residual norm 3.780383873228e-05\n",
      "[ simnibs ]INFO: Info    :  66 KSP Residual norm 3.292367790271e-05\n",
      "[ simnibs ]INFO: Info    :  67 KSP Residual norm 2.896667161852e-05\n",
      "[ simnibs ]INFO: Info    :  68 KSP Residual norm 2.672198641270e-05\n",
      "[ simnibs ]INFO: Info    :  69 KSP Residual norm 2.416490169614e-05\n",
      "[ simnibs ]INFO: Info    :  70 KSP Residual norm 2.143795793738e-05\n",
      "[ simnibs ]INFO: Info    :  71 KSP Residual norm 1.992989120767e-05\n",
      "[ simnibs ]INFO: Info    :  72 KSP Residual norm 1.739191221217e-05\n",
      "[ simnibs ]INFO: Info    :  73 KSP Residual norm 1.529248770945e-05\n",
      "[ simnibs ]INFO: Info    :  74 KSP Residual norm 1.389787008262e-05\n",
      "[ simnibs ]INFO: Info    :  75 KSP Residual norm 1.218687046065e-05\n",
      "[ simnibs ]INFO: Info    :  76 KSP Residual norm 1.067022141873e-05\n",
      "[ simnibs ]INFO: Info    :  77 KSP Residual norm 8.841066979918e-06\n",
      "[ simnibs ]INFO: Info    :  78 KSP Residual norm 6.646379144271e-06\n",
      "[ simnibs ]INFO: Info    :  79 KSP Residual norm 5.340516060427e-06\n",
      "[ simnibs ]INFO: Info    :  80 KSP Residual norm 4.249714106222e-06\n",
      "[ simnibs ]INFO: Info    :  81 KSP Residual norm 3.528495441494e-06\n",
      "[ simnibs ]INFO: Info    :  82 KSP Residual norm 2.964051267301e-06\n",
      "[ simnibs ]INFO: Info    :  83 KSP Residual norm 2.439227291758e-06\n",
      "[ simnibs ]INFO: Info    :  84 KSP Residual norm 2.085886263459e-06\n",
      "[ simnibs ]INFO: Info    :  85 KSP Residual norm 1.696376083313e-06\n",
      "[ simnibs ]INFO: Info    :  86 KSP Residual norm 1.360444904094e-06\n",
      "[ simnibs ]INFO: Info    :  87 KSP Residual norm 1.127218609322e-06\n",
      "[ simnibs ]INFO: Info    :  88 KSP Residual norm 9.025659303338e-07\n",
      "[ simnibs ]INFO: Info    :  89 KSP Residual norm 7.492860270857e-07\n",
      "[ simnibs ]INFO: Info    :  90 KSP Residual norm 6.511387629127e-07\n",
      "[ simnibs ]INFO: Info    :  91 KSP Residual norm 5.510121598312e-07\n",
      "[ simnibs ]INFO: Info    :  92 KSP Residual norm 4.740630190103e-07\n",
      "[ simnibs ]INFO: Info    :  93 KSP Residual norm 4.038897396635e-07\n",
      "[ simnibs ]INFO: Info    :  94 KSP Residual norm 3.361866106337e-07\n",
      "[ simnibs ]INFO: Info    :  95 KSP Residual norm 2.781588224404e-07\n",
      "[ simnibs ]INFO: Info    :  96 KSP Residual norm 2.283670418402e-07\n",
      "[ simnibs ]INFO: Info    :  97 KSP Residual norm 1.931643446294e-07\n",
      "[ simnibs ]INFO: Info    :  98 KSP Residual norm 1.578478218372e-07\n",
      "[ simnibs ]INFO: Info    :  99 KSP Residual norm 1.347410492462e-07\n",
      "[ simnibs ]INFO: Info    : 100 KSP Residual norm 1.122570927453e-07\n",
      "[ simnibs ]INFO: Info    : 101 KSP Residual norm 8.966918190946e-08\n",
      "[ simnibs ]INFO: Info    : 102 KSP Residual norm 7.129208084582e-08\n",
      "[ simnibs ]INFO: Info    : 103 KSP Residual norm 5.837516176112e-08\n",
      "[ simnibs ]INFO: Info    : 104 KSP Residual norm 4.936034762086e-08\n",
      "[ simnibs ]INFO: Info    : 105 KSP Residual norm 4.267263034511e-08\n",
      "[ simnibs ]INFO: Info    : 106 KSP Residual norm 3.458103252631e-08\n",
      "[ simnibs ]INFO: Info    : 107 KSP Residual norm 2.778557153918e-08\n",
      "[ simnibs ]INFO: Info    : 108 KSP Residual norm 2.253160012126e-08\n",
      "[ simnibs ]INFO: Info    : 109 KSP Residual norm 1.730604266830e-08\n",
      "[ simnibs ]INFO: Info    : 110 KSP Residual norm 1.321930739401e-08\n",
      "[ simnibs ]INFO: Info    : 111 KSP Residual norm 1.036566137029e-08\n",
      "[ simnibs ]INFO: Info    : 112 KSP Residual norm 8.371625761121e-09\n",
      "[ simnibs ]INFO: Info    : 113 KSP Residual norm 6.628308169406e-09\n",
      "[ simnibs ]INFO: Info    : 114 KSP Residual norm 5.057211612733e-09\n",
      "[ simnibs ]INFO: Info    : 115 KSP Residual norm 3.957772074506e-09\n",
      "[ simnibs ]INFO: Info    : 116 KSP Residual norm 3.137511335139e-09\n",
      "[ simnibs ]INFO: Info    : 117 KSP Residual norm 2.655176238146e-09\n",
      "[ simnibs ]INFO: Info    : 118 KSP Residual norm 2.171820196855e-09\n",
      "[ simnibs ]INFO: Info    : 119 KSP Residual norm 1.643484132638e-09\n",
      "[ simnibs ]INFO: Info    : 120 KSP Residual norm 1.212069738264e-09\n",
      "[ simnibs ]INFO: Info    : 121 KSP Residual norm 9.258657449610e-10\n",
      "[ simnibs ]INFO: Info    : 122 KSP Residual norm 7.207704037465e-10\n",
      "[ simnibs ]INFO: Info    : 123 KSP Residual norm 5.891822569218e-10\n",
      "[ simnibs ]INFO: Info    : 124 KSP Residual norm 4.631815828400e-10\n",
      "[ simnibs ]INFO: Info    : 125 KSP Residual norm 3.833766107046e-10\n",
      "[ simnibs ]INFO: Info    : 126 KSP Residual norm 3.367085585225e-10\n",
      "[ simnibs ]INFO: Info    : 127 KSP Residual norm 2.986563171779e-10\n",
      "[ simnibs ]INFO: Info    : 128 KSP Residual norm 2.631140482389e-10\n",
      "[ simnibs ]INFO: Info    : 129 KSP Residual norm 2.263575128852e-10\n",
      "[ simnibs ]INFO: Info    : 130 KSP Residual norm 1.858942740428e-10\n",
      "[ simnibs ]INFO: Info    : 131 KSP Residual norm 1.509713103428e-10\n",
      "[ simnibs ]INFO: Info    : 132 KSP Residual norm 1.123884323062e-10\n",
      "[ simnibs ]INFO: Info    : 133 KSP Residual norm 9.107999521249e-11\n",
      "[ simnibs ]INFO: Info    : 134 KSP Residual norm 7.501883323463e-11\n",
      "[ simnibs ]INFO: Info    : 135 KSP Residual norm 6.162379356655e-11\n",
      "[ simnibs ]INFO: Info    : 136 KSP Residual norm 5.310271155479e-11\n",
      "[ simnibs ]INFO: Info    : 137 KSP Residual norm 4.251868189926e-11\n",
      "[ simnibs ]INFO: Info    : 138 KSP Residual norm 3.345817336934e-11\n",
      "[ simnibs ]INFO: Info    : 138 iterations\n",
      "[ simnibs ]INFO: Info    : SaveSolution[QS_dAdt]\n",
      "[ simnibs ]INFO: Info    : (Wall = 207.809s, CPU = 208.6s, Mem = 4227.78Mb)\n",
      "[ simnibs ]INFO: \u001b[34mE n d   P r o c e s s i n g\u001b[0m\n",
      "[ simnibs ]INFO: Info    : Stopped (Mon Mar 11 18:14:19 2019, Wall = 208.043s, CPU = 208.718s, Mem = 4227.78Mb)\n",
      "[ simnibs ]INFO: Execution finished\n",
      "[ simnibs ]INFO: Finished Running Poslist Number: 1\n",
      "[ simnibs ]INFO: Result Files:\n",
      "/mnt/tigrlab/projects/jjeyachandra/rtms_optimize/data/simnibs_output/test_simulation/sub-CMH090_TMS_1-0001_Magstim_70mm_Fig8_nii_scalar.msh\n",
      "[ simnibs ]INFO: =====================================\n",
      "[ simnibs ]INFO: SimNIBS finished running simulations\n",
      "[ simnibs ]INFO: Simulation Result Meshed:\n",
      "[ simnibs ]INFO: /mnt/tigrlab/projects/jjeyachandra/rtms_optimize/data/simnibs_output/test_simulation/sub-CMH090_TMS_1-0001_Magstim_70mm_Fig8_nii_scalar.msh\n",
      "[ simnibs ]INFO: =====================================\n"
     ]
    },
    {
     "name": "stdout",
     "output_type": "stream",
     "text": [
      "271.975129128\n"
     ]
    }
   ],
   "source": [
    "start = timer()\n",
    "run_simulation(S)\n",
    "stop = timer()\n",
    "print(stop - start)"
   ]
  }
 ],
 "metadata": {
  "kernelspec": {
   "display_name": "Python 2",
   "language": "python",
   "name": "python2"
  },
  "language_info": {
   "codemirror_mode": {
    "name": "ipython",
    "version": 2
   },
   "file_extension": ".py",
   "mimetype": "text/x-python",
   "name": "python",
   "nbconvert_exporter": "python",
   "pygments_lexer": "ipython2",
   "version": "2.7.15"
  }
 },
 "nbformat": 4,
 "nbformat_minor": 2
}
