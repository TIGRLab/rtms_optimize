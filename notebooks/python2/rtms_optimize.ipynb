{
 "cells": [
  {
   "cell_type": "markdown",
   "metadata": {},
   "source": [
    "This notebook is a prototype of the rTMS Bayesian Optimization algorithm and will reflect the final step of pipeline after tetrahedral projection and FEM surface construction/registration"
   ]
  },
  {
   "cell_type": "code",
   "execution_count": 8,
   "metadata": {},
   "outputs": [],
   "source": [
    "import os\n",
    "import numpy as np\n",
    "from fieldopt import geolib"
   ]
  },
  {
   "cell_type": "code",
   "execution_count": 3,
   "metadata": {},
   "outputs": [],
   "source": [
    "#MOE package loading\n",
    "from moe.optimal_learning.python.cpp_wrappers.domain import TensorProductDomain as cTensorProductDomain\n",
    "from moe.optimal_learning.python.python_version.domain import TensorProductDomain\n",
    "from moe.optimal_learning.python.geometry_utils import ClosedInterval\n",
    "from moe.optimal_learning.python.cpp_wrappers.expected_improvement import ExpectedImprovement\n",
    "from moe.optimal_learning.python.cpp_wrappers.expected_improvement import multistart_expected_improvement_optimization as meio\n",
    "from moe.optimal_learning.python.data_containers import HistoricalData, SamplePoint\n",
    "from moe.optimal_learning.python.cpp_wrappers.log_likelihood_mcmc import GaussianProcessLogLikelihoodMCMC\n",
    "from moe.optimal_learning.python.default_priors import DefaultPrior\n",
    "from moe.optimal_learning.python.python_version.optimization import GradientDescentOptimizer, GradientDescentParameters\n",
    "from moe.optimal_learning.python.cpp_wrappers.optimization import GradientDescentOptimizer as cGDOpt\n",
    "from moe.optimal_learning.python.cpp_wrappers.optimization import GradientDescentParameters as cGDParams"
   ]
  },
  {
   "cell_type": "code",
   "execution_count": 16,
   "metadata": {},
   "outputs": [],
   "source": [
    "#Step 1: Load in files containing relevant information about search domain\n",
    "proj_dir =  '/projects/jjeyachandra/rtms_optimize'\n",
    "C_file = os.path.join(proj_dir,'output','quadratic_vec')\n",
    "iR_file = os.path.join(proj_dir,'output','inverse_rot')\n",
    "b_file = os.path.join(proj_dir,'output','param_bounds')\n",
    "C = np.fromfile(C_file)\n",
    "iR = np.fromfile(iR_file).reshape(3,3)\n",
    "b = np.fromfile(b_file).reshape(3,2)"
   ]
  },
  {
   "cell_type": "code",
   "execution_count": 18,
   "metadata": {},
   "outputs": [],
   "source": [
    "#Step 2: Specify the search domain\n",
    "search_domain = TensorProductDomain([\n",
    "    ClosedInterval(b[0,0],b[0,1]), #X coord on quadratic surface\n",
    "    ClosedInterval(b[1,0],b[1,1]), #Y coord on quadratic surface\n",
    "    ClosedInterval(0,180) #Rotational angle\n",
    "])\n",
    "\n",
    "c_search_domain = cTensorProductDomain([\n",
    "    ClosedInterval(b[0,0],b[0,1]), \n",
    "    ClosedInterval(b[1,0],b[1,1]),\n",
    "    ClosedInterval(0,180)\n",
    "])"
   ]
  },
  {
   "cell_type": "code",
   "execution_count": null,
   "metadata": {},
   "outputs": [],
   "source": [
    "#Step 3: Specify historical data "
   ]
  }
 ],
 "metadata": {
  "kernelspec": {
   "display_name": "Python 2",
   "language": "python",
   "name": "python2"
  },
  "language_info": {
   "codemirror_mode": {
    "name": "ipython",
    "version": 2
   },
   "file_extension": ".py",
   "mimetype": "text/x-python",
   "name": "python",
   "nbconvert_exporter": "python",
   "pygments_lexer": "ipython2",
   "version": "2.7.12"
  }
 },
 "nbformat": 4,
 "nbformat_minor": 2
}
