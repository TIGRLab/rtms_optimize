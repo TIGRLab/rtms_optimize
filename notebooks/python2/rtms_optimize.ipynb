{
 "cells": [
  {
   "cell_type": "markdown",
   "metadata": {},
   "source": [
    "This notebook is a prototype of the rTMS Bayesian Optimization algorithm and will reflect the final step of pipeline after tetrahedral projection and FEM surface construction/registration"
   ]
  },
  {
   "cell_type": "code",
   "execution_count": 1,
   "metadata": {},
   "outputs": [
    {
     "ename": "ImportError",
     "evalue": "No module named fieldopt",
     "output_type": "error",
     "traceback": [
      "\u001b[0;31m---------------------------------------------------------------------------\u001b[0m",
      "\u001b[0;31mImportError\u001b[0m                               Traceback (most recent call last)",
      "\u001b[0;32m<ipython-input-1-923268d4f174>\u001b[0m in \u001b[0;36m<module>\u001b[0;34m()\u001b[0m\n\u001b[1;32m      1\u001b[0m \u001b[0;32mimport\u001b[0m \u001b[0mos\u001b[0m\u001b[0;34m\u001b[0m\u001b[0m\n\u001b[1;32m      2\u001b[0m \u001b[0;32mimport\u001b[0m \u001b[0mnumpy\u001b[0m \u001b[0;32mas\u001b[0m \u001b[0mnp\u001b[0m\u001b[0;34m\u001b[0m\u001b[0m\n\u001b[0;32m----> 3\u001b[0;31m \u001b[0;32mfrom\u001b[0m \u001b[0mfieldopt\u001b[0m \u001b[0;32mimport\u001b[0m \u001b[0mgeolib\u001b[0m\u001b[0;34m\u001b[0m\u001b[0m\n\u001b[0m\u001b[1;32m      4\u001b[0m \u001b[0;32mfrom\u001b[0m \u001b[0mfieldopt\u001b[0m\u001b[0;34m.\u001b[0m\u001b[0mobjective\u001b[0m \u001b[0;32mimport\u001b[0m \u001b[0mFieldFunc\u001b[0m\u001b[0;34m\u001b[0m\u001b[0m\n\u001b[1;32m      5\u001b[0m \u001b[0;32mfrom\u001b[0m \u001b[0mtimeit\u001b[0m \u001b[0;32mimport\u001b[0m \u001b[0mdefault_timer\u001b[0m \u001b[0;32mas\u001b[0m \u001b[0mtimer\u001b[0m\u001b[0;34m\u001b[0m\u001b[0m\n",
      "\u001b[0;31mImportError\u001b[0m: No module named fieldopt"
     ]
    }
   ],
   "source": [
    "import os\n",
    "import numpy as np\n",
    "from fieldopt import geolib\n",
    "from fieldopt.objective import FieldFunc\n",
    "from timeit import default_timer as timer"
   ]
  },
  {
   "cell_type": "code",
   "execution_count": 2,
   "metadata": {},
   "outputs": [],
   "source": [
    "#MOE package loading (should wrap!)\n",
    "from moe.optimal_learning.python.cpp_wrappers.domain import TensorProductDomain as cTensorProductDomain\n",
    "from moe.optimal_learning.python.python_version.domain import TensorProductDomain\n",
    "from moe.optimal_learning.python.geometry_utils import ClosedInterval\n",
    "from moe.optimal_learning.python.cpp_wrappers.expected_improvement import ExpectedImprovement\n",
    "from moe.optimal_learning.python.cpp_wrappers.expected_improvement import multistart_expected_improvement_optimization as meio\n",
    "from moe.optimal_learning.python.data_containers import HistoricalData, SamplePoint\n",
    "from moe.optimal_learning.python.cpp_wrappers.log_likelihood_mcmc import GaussianProcessLogLikelihoodMCMC\n",
    "from moe.optimal_learning.python.default_priors import DefaultPrior\n",
    "from moe.optimal_learning.python.python_version.optimization import GradientDescentOptimizer, GradientDescentParameters\n",
    "from moe.optimal_learning.python.cpp_wrappers.optimization import GradientDescentOptimizer as cGDOpt\n",
    "from moe.optimal_learning.python.cpp_wrappers.optimization import GradientDescentParameters as cGDParams"
   ]
  },
  {
   "cell_type": "code",
   "execution_count": null,
   "metadata": {},
   "outputs": [],
   "source": [
    "import objgraph\n",
    "import gc"
   ]
  },
  {
   "cell_type": "code",
   "execution_count": null,
   "metadata": {},
   "outputs": [],
   "source": [
    "#Specify inputs\n",
    "proj_dir =  '/projects/jjeyachandra/rtms_optimize'\n",
    "mesh_file = os.path.join(proj_dir,'data','simnibs_output','sub-CMH090.msh')\n",
    "coil_file = os.path.join(proj_dir,'resources','coils','Magstim_70mm_Fig8.nii.gz')\n",
    "tet_file = os.path.join(proj_dir,'output','tetra_parcels')\n",
    "C_file = os.path.join(proj_dir,'output','quadratic_vec')\n",
    "iR_file = os.path.join(proj_dir,'output','inverse_rot')\n",
    "b_file = os.path.join(proj_dir,'output','param_bounds')\n",
    "testing_dir = '/tmp/'#os.path.join(proj_dir,'testing','tmp')"
   ]
  },
  {
   "cell_type": "code",
   "execution_count": null,
   "metadata": {},
   "outputs": [],
   "source": [
    "#Step 1: Load in files containing relevant information about search domain\n",
    "C = np.fromfile(C_file)\n",
    "iR = np.fromfile(iR_file).reshape(3,3)\n",
    "b = np.fromfile(b_file).reshape(3,2)\n",
    "\n",
    "#Load in element mask\n",
    "p_map = np.load(os.path.join(proj_dir,'output','tetra_parcels.npy'))[:,2]"
   ]
  },
  {
   "cell_type": "code",
   "execution_count": null,
   "metadata": {},
   "outputs": [],
   "source": [
    "#Step 2: Specify the search domain\n",
    "search_domain = TensorProductDomain([\n",
    "    ClosedInterval(b[0,0],b[0,1]), #X coord on quadratic surface\n",
    "    ClosedInterval(b[1,0],b[1,1]), #Y coord on quadratic surface\n",
    "    ClosedInterval(0,180) #Rotational angle\n",
    "])\n",
    "\n",
    "c_search_domain = cTensorProductDomain([\n",
    "    ClosedInterval(b[0,0],b[0,1]), \n",
    "    ClosedInterval(b[1,0],b[1,1]),\n",
    "    ClosedInterval(0,180)\n",
    "])"
   ]
  },
  {
   "cell_type": "code",
   "execution_count": null,
   "metadata": {},
   "outputs": [],
   "source": [
    "#Make objective function\n",
    "f = FieldFunc(mesh_file=mesh_file, quad_surf_consts=C,\n",
    "              surf_to_mesh_matrix=iR, tet_weights=p_map,\n",
    "              field_dir=testing_dir, coil=coil_file, cpus=6)"
   ]
  },
  {
   "cell_type": "code",
   "execution_count": null,
   "metadata": {},
   "outputs": [],
   "source": [
    "#Generate historical data \n",
    "hist_pts = 6\n",
    "init_pts = search_domain.generate_uniform_random_points_in_domain(hist_pts)\n",
    "start = timer()\n",
    "observations = f.evaluate(init_pts)\n",
    "stop = timer()\n",
    "print(stop - start)"
   ]
  },
  {
   "cell_type": "code",
   "execution_count": null,
   "metadata": {},
   "outputs": [],
   "source": [
    "TMSLIST = obj[0]"
   ]
  },
  {
   "cell_type": "code",
   "execution_count": null,
   "metadata": {
    "scrolled": true
   },
   "outputs": [],
   "source": [
    "objgraph.show_backrefs(obj[0],max_depth=3,filename='./cond.png')"
   ]
  },
  {
   "cell_type": "code",
   "execution_count": null,
   "metadata": {},
   "outputs": [],
   "source": [
    "observations = -observations"
   ]
  },
  {
   "cell_type": "code",
   "execution_count": null,
   "metadata": {},
   "outputs": [],
   "source": [
    "hist_data = HistoricalData(dim = 3, num_derivatives= 0)\n",
    "hist_data.append_sample_points([SamplePoint(inp,o,0.0) \n",
    "                                for o,inp in \n",
    "                                zip(observations,init_pts)])\n"
   ]
  },
  {
   "cell_type": "code",
   "execution_count": null,
   "metadata": {},
   "outputs": [],
   "source": [
    "#Set up model specifications\n",
    "prior = DefaultPrior(n_dims = 3 + 2, num_noise=1)\n",
    "gp_ll = GaussianProcessLogLikelihoodMCMC(historical_data=hist_data,\n",
    "                                         derivatives=[], prior=prior,\n",
    "                                         chain_length=1000, burnin_steps=2000,\n",
    "                                         n_hypers=2**4, noisy=False)\n",
    "gp_ll.train()"
   ]
  },
  {
   "cell_type": "code",
   "execution_count": null,
   "metadata": {},
   "outputs": [],
   "source": [
    "#Set up optimizer\n",
    "sgd_params = cGDParams(num_multistarts=200, max_num_steps=50,\n",
    "                      max_num_restarts=2, num_steps_averaged=4,\n",
    "                      gamma=0.7, pre_mult=1.0, max_relative_change=0.5,\n",
    "                      tolerance=1.0e-10)"
   ]
  },
  {
   "cell_type": "code",
   "execution_count": null,
   "metadata": {},
   "outputs": [],
   "source": [
    "#Set up optimization parametes\n",
    "from IPython.display import clear_output, display\n",
    "num_iters = 50"
   ]
  },
  {
   "cell_type": "code",
   "execution_count": null,
   "metadata": {},
   "outputs": [],
   "source": [
    "def gen_sample_from_qei(gp,search_domain,sgd_params,num_samples, num_mc=1e4, lhc_iter=2e4):\n",
    "    \n",
    "    qEI = ExpectedImprovement(gaussian_process=gp, num_mc_iterations=int(num_mc))\n",
    "    optimizer = cGDOpt(search_domain, qEI, sgd_params, int(lhc_iter))\n",
    "    points_to_sample = meio(optimizer, None, num_samples, use_gpu=False, which_gpu=0,\n",
    "                      max_num_threads=8)\n",
    "    qEI.set_current_point(points_to_sample[0])\n",
    "    \n",
    "    return points_to_sample, qEI.compute_expected_improvement()"
   ]
  },
  {
   "cell_type": "code",
   "execution_count": null,
   "metadata": {},
   "outputs": [],
   "source": [
    "best_point_history = []\n",
    "for i in np.arange(0,num_iters):\n",
    "    \n",
    "    #Optimize qEI and pick samples\n",
    "    points_to_sample, ei = gen_sample_from_qei(gp_ll.models[0],\n",
    "                                               c_search_domain, sgd_params=sgd_params,\n",
    "                                               num_samples=6, num_mc=2**10)\n",
    "    \n",
    "    #Collect observations\n",
    "    sampled_points = -f.evaluate(points_to_sample)\n",
    "    evidence = [SamplePoint(c,v,0.0) for c,v in zip(points_to_sample, sampled_points)]\n",
    "    \n",
    "    #Update model\n",
    "    gp_ll.add_sampled_points(evidence)\n",
    "    gp_ll.train()\n",
    "    \n",
    "    #Pull model and pull values\n",
    "    gp = gp_ll.models[0]\n",
    "    min_point = np.argmin(gp._points_sampled_value)\n",
    "    min_val = np.min(gp._points_sampled_value)\n",
    "    best_coord = gp.get_historical_data_copy().points_sampled[min_point]\n",
    "    \n",
    "    clear_output()\n",
    "    print('Recommended Points:')\n",
    "    print(points_to_sample)\n",
    "    print('Expected Improvement: {}'.format(ei))\n",
    "    print('Current Best:')\n",
    "    print('f(x*)=',min_val)\n",
    "    print('Coord:', best_coord)\n",
    "    \n",
    "    best_point_history.append(min_val)"
   ]
  },
  {
   "cell_type": "code",
   "execution_count": null,
   "metadata": {},
   "outputs": [],
   "source": []
  }
 ],
 "metadata": {
  "kernelspec": {
   "display_name": "Python 2",
   "language": "python",
   "name": "python2"
  },
  "language_info": {
   "codemirror_mode": {
    "name": "ipython",
    "version": 2
   },
   "file_extension": ".py",
   "mimetype": "text/x-python",
   "name": "python",
   "nbconvert_exporter": "python",
   "pygments_lexer": "ipython2",
   "version": "2.7.12"
  }
 },
 "nbformat": 4,
 "nbformat_minor": 2
}
