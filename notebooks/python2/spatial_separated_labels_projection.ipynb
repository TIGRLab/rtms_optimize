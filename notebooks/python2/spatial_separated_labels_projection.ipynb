{
 "cells": [
  {
   "cell_type": "markdown",
   "metadata": {},
   "source": [
    "This notebook tests whether the results of the scoring and extraction of field magnitude values from parcels makes sense with what we know about the general properties of the field simulation.\n",
    "\n",
    "In this test we perform label separation of the parcel ribbon, select the same target area in this new parcellation scheme and ensure locality properties of the resulting score values. "
   ]
  },
  {
   "cell_type": "code",
   "execution_count": 5,
   "metadata": {},
   "outputs": [],
   "source": [
    "import os\n",
    "import gmsh\n",
    "import nibabel as nib\n",
    "import numpy as np\n",
    "from nilearn import plotting, image, regions\n",
    "from fieldopt import tetrapro, geolib"
   ]
  },
  {
   "cell_type": "markdown",
   "metadata": {},
   "source": [
    "## Step 1: Pulling Spatially Disparate Parcels"
   ]
  },
  {
   "cell_type": "code",
   "execution_count": 2,
   "metadata": {},
   "outputs": [],
   "source": [
    "#Get parcels\n",
    "ribbon_dir = '../../data/sub-CMH090/ribbon/'\n",
    "t1 = '../../data/simnibs_output/m2m_sub-CMH090/T1fs_nu_conform.nii.gz'\n",
    "L_ribbons = sorted([os.path.join(ribbon_dir,f) for f in os.listdir(ribbon_dir) if '.L.network' in f])\n",
    "R_ribbons = sorted([os.path.join(ribbon_dir,f) for f in os.listdir(ribbon_dir) if '.R.network' in f])"
   ]
  },
  {
   "cell_type": "code",
   "execution_count": 3,
   "metadata": {},
   "outputs": [],
   "source": [
    "L_img = image.load_img(L_ribbons[0])\n",
    "t1_img = image.load_img(t1)"
   ]
  },
  {
   "cell_type": "code",
   "execution_count": null,
   "metadata": {},
   "outputs": [],
   "source": [
    "#View left ribbon\n",
    "plotting.view_img(L_img,bg_img=t1_img)"
   ]
  },
  {
   "cell_type": "code",
   "execution_count": 4,
   "metadata": {},
   "outputs": [],
   "source": [
    "#Pull DLPFC coordinates (label = 4)\n",
    "L_data = L_img.get_data()\n",
    "L_dlpfc_inds = np.where(L_data == 4)\n",
    "L_dlpfc_data = np.zeros_like(L_data)\n",
    "L_dlpfc_data[L_dlpfc_inds] = 1\n",
    "L_dlpfc_img = nib.Nifti1Image(L_dlpfc_data,affine=L_img.affine)"
   ]
  },
  {
   "cell_type": "code",
   "execution_count": null,
   "metadata": {},
   "outputs": [],
   "source": [
    "#View\n",
    "plotting.view_img(L_dlpfc_img,bg_img=t1_img)"
   ]
  },
  {
   "cell_type": "code",
   "execution_count": 6,
   "metadata": {},
   "outputs": [],
   "source": [
    "#Perform the same operation on R side (DLPFC = 11)\n",
    "R_img = image.load_img(R_ribbons[0])\n",
    "R_data = R_img.get_data()\n",
    "R_dlpfc_inds = np.where(R_data == 11)\n",
    "R_dlpfc_data = np.zeros_like(R_data)\n",
    "R_dlpfc_data[R_dlpfc_inds] = 1\n",
    "R_dlpfc_img = nib.Nifti1Image(R_dlpfc_data,affine=R_img.affine)"
   ]
  },
  {
   "cell_type": "code",
   "execution_count": null,
   "metadata": {},
   "outputs": [],
   "source": [
    "plotting.view_img(R_dlpfc_img, bg_img=t1_img)"
   ]
  },
  {
   "cell_type": "code",
   "execution_count": 7,
   "metadata": {},
   "outputs": [],
   "source": [
    "#Combine DLPFC images into 1\n",
    "dlpfc_img = image.math_img('a + (2*b)', a=L_dlpfc_img,b=R_dlpfc_img)"
   ]
  },
  {
   "cell_type": "markdown",
   "metadata": {},
   "source": [
    "## Step 2: Perform Tetrahedral Projection"
   ]
  },
  {
   "cell_type": "code",
   "execution_count": 8,
   "metadata": {},
   "outputs": [],
   "source": [
    "msh_file = '../../data/simnibs_output/sub-CMH090.msh'"
   ]
  },
  {
   "cell_type": "code",
   "execution_count": 9,
   "metadata": {},
   "outputs": [],
   "source": [
    "#Constants\n",
    "TET = (3,2)\n",
    "GM = (2,2)\n",
    "WM = (2,1)"
   ]
  },
  {
   "cell_type": "code",
   "execution_count": 10,
   "metadata": {},
   "outputs": [],
   "source": [
    "#Load in relevant data\n",
    "_, _, tet_param = geolib.load_gmsh_elems(msh_file, TET)\n",
    "tet_node, tet_coord, _ = geolib.load_gmsh_nodes(msh_file, TET)\n",
    "gm_node, gm_coord, _ = geolib.load_gmsh_nodes(msh_file, GM)\n",
    "wm_node, wm_coord, _ = geolib.load_gmsh_nodes(msh_file, WM)"
   ]
  },
  {
   "cell_type": "code",
   "execution_count": 11,
   "metadata": {},
   "outputs": [],
   "source": [
    "#Formulate lists as arrays\n",
    "n_nodes = len(tet_param[0])//4\n",
    "tet_node_list = np.array(tet_param[0]).reshape( (n_nodes,4) )"
   ]
  },
  {
   "cell_type": "code",
   "execution_count": 12,
   "metadata": {},
   "outputs": [],
   "source": [
    "#Generate array storing node properties\n",
    "prop_arr = np.array([\n",
    "    [min(tet_node), max(tet_node), len(tet_node)],\n",
    "    [min(gm_node), max(gm_node), len(gm_node)],\n",
    "    [min(wm_node), max(wm_node), len(wm_node)]\n",
    "])"
   ]
  },
  {
   "cell_type": "code",
   "execution_count": 26,
   "metadata": {},
   "outputs": [],
   "source": [
    "#Make inputs to tetrahedral projection\n",
    "node_list = tetrapro.map_nodes(tet_node_list, prop_arr)\n",
    "coord_arr = np.concatenate((tet_coord.flatten(),\n",
    "                            gm_coord.flatten(),\n",
    "                            wm_coord.flatten()))\n",
    "ribbon = dlpfc_img.get_data()\n",
    "affine = dlpfc_img.affine"
   ]
  },
  {
   "cell_type": "code",
   "execution_count": null,
   "metadata": {},
   "outputs": [],
   "source": [
    "#Run projection\n",
    "project_arr = tetrapro.tetrahedral_projection(node_list,\n",
    "                                             coord_arr,\n",
    "                                             ribbon,\n",
    "                                             affine)"
   ]
  },
  {
   "cell_type": "markdown",
   "metadata": {},
   "source": [
    "## Step 3: Compute scores on each hemisphere"
   ]
  },
  {
   "cell_type": "code",
   "execution_count": null,
   "metadata": {},
   "outputs": [],
   "source": []
  }
 ],
 "metadata": {
  "kernelspec": {
   "display_name": "Python 2",
   "language": "python",
   "name": "python2"
  },
  "language_info": {
   "codemirror_mode": {
    "name": "ipython",
    "version": 2
   },
   "file_extension": ".py",
   "mimetype": "text/x-python",
   "name": "python",
   "nbconvert_exporter": "python",
   "pygments_lexer": "ipython2",
   "version": "2.7.12"
  }
 },
 "nbformat": 4,
 "nbformat_minor": 2
}
