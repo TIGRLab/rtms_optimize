{
 "cells": [
  {
   "cell_type": "code",
   "execution_count": null,
   "metadata": {},
   "outputs": [],
   "source": [
    "import gmsh\n",
    "import os\n",
    "import numpy as np\n",
    "from fieldopt import geolib\n",
    "from simnibs.msh import gmsh_numpy as simgmsh"
   ]
  },
  {
   "cell_type": "code",
   "execution_count": null,
   "metadata": {},
   "outputs": [],
   "source": [
    "proj_dir = '/projects/jjeyachandra/rtms_optimize'\n",
    "local_dir=os.path.join(proj_dir,'data','simnibs_output')\n",
    "fnamehead = os.path.join(proj_dir,'data','simnibs_output','sub-CMH090.msh')\n",
    "\n",
    "n_iter = 1\n",
    "num_parcels = 20\n",
    "target_parcel = 2\n",
    "for i in np.arange(0,n_iter):\n",
    "    \n",
    "    pathfem = os.path.join(proj_dir,'objective_grid','grid','sim_{}'.format(i+3000))\n",
    "    field_file=os.path.join(pathfem,'sub-CMH090_TMS_1-0001_Magstim_70mm_Fig8_nii_scalar.msh')\n",
    "    parcelmap_path = os.path.join(proj_dir,'output','tetra_parcels')\n",
    "    proj_map = np.fromfile(parcelmap_path)\n",
    "    proj_map = proj_map.reshape( (proj_map.shape[0]//(num_parcels + 1), num_parcels + 1) )\n",
    "    \n",
    "    _, elem_ids, _ = geolib.load_gmsh_elems(fnamehead,entity=(3,2))"
   ]
  },
  {
   "cell_type": "code",
   "execution_count": null,
   "metadata": {},
   "outputs": [],
   "source": [
    "norm_E = geolib.get_field_subset(field_file,elem_ids)"
   ]
  },
  {
   "cell_type": "code",
   "execution_count": 1,
   "metadata": {},
   "outputs": [
    {
     "ename": "NameError",
     "evalue": "name 'simgmsh' is not defined",
     "output_type": "error",
     "traceback": [
      "\u001b[0;31m---------------------------------------------------------------------------\u001b[0m",
      "\u001b[0;31mNameError\u001b[0m                                 Traceback (most recent call last)",
      "\u001b[0;32m<ipython-input-1-80dab896fbbd>\u001b[0m in \u001b[0;36m<module>\u001b[0;34m()\u001b[0m\n\u001b[0;32m----> 1\u001b[0;31m \u001b[0mmsh\u001b[0m \u001b[0;34m=\u001b[0m \u001b[0msimgmsh\u001b[0m\u001b[0;34m.\u001b[0m\u001b[0mread_msh\u001b[0m\u001b[0;34m(\u001b[0m\u001b[0mfield_file\u001b[0m\u001b[0;34m)\u001b[0m\u001b[0;34m\u001b[0m\u001b[0m\n\u001b[0m",
      "\u001b[0;31mNameError\u001b[0m: name 'simgmsh' is not defined"
     ]
    }
   ],
   "source": [
    "msh = simgmsh.read_msh(field_file)"
   ]
  }
 ],
 "metadata": {
  "kernelspec": {
   "display_name": "Python 2",
   "language": "python",
   "name": "python2"
  },
  "language_info": {
   "codemirror_mode": {
    "name": "ipython",
    "version": 2
   },
   "file_extension": ".py",
   "mimetype": "text/x-python",
   "name": "python",
   "nbconvert_exporter": "python",
   "pygments_lexer": "ipython2",
   "version": "2.7.12"
  }
 },
 "nbformat": 4,
 "nbformat_minor": 2
}
