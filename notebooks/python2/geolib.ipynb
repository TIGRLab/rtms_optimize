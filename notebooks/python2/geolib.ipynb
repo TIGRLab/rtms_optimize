{
 "cells": [
  {
   "cell_type": "markdown",
   "metadata": {},
   "source": [
    "Library of useful geometry functions"
   ]
  },
  {
   "cell_type": "code",
   "execution_count": null,
   "metadata": {},
   "outputs": [],
   "source": [
    "import sys\n",
    "base_path=''"
   ]
  },
  {
   "cell_type": "code",
   "execution_count": null,
   "metadata": {},
   "outputs": [],
   "source": [
    "#SCC work-around to load conda environment (run if using SCC)\n",
    "base_path = '/KIMEL/tigrlab/'\n",
    "sys.path.insert(0,'/KIMEL/tigrlab/projects/jjeyachandra/rtms_optimize/optimization/rtms_bayesopt/lib/python2.7/site-packages/')\n",
    "sys.path.insert(0,'/KIMEL/tigrlab/projects/jjeyachandra/gmsh-sdk/lib/')"
   ]
  },
  {
   "cell_type": "code",
   "execution_count": null,
   "metadata": {},
   "outputs": [],
   "source": [
    "import numpy as np\n",
    "from scipy.linalg import lstsq\n",
    "import gmsh"
   ]
  },
  {
   "cell_type": "code",
   "execution_count": null,
   "metadata": {},
   "outputs": [],
   "source": [
    "def skew(vector):\n",
    "    \"\"\"\n",
    "    this function returns a numpy array with the skew symmetric cross product matrix for vector.\n",
    "    the skew symmetric cross product matrix is defined such that\n",
    "    np.cross(a, b) = np.dot(skew(a), b)\n",
    "\n",
    "    :param vector: An array like vector to create the skew symmetric cross product matrix for\n",
    "    :return: A numpy array of the skew symmetric cross product vector\n",
    "    \"\"\"\n",
    "    if isinstance(vector, np.ndarray):\n",
    "        return np.array([[0, -vector.item(2), vector.item(1)],\n",
    "                         [vector.item(2), 0, -vector.item(0)],\n",
    "                         [-vector.item(1), vector.item(0), 0]])\n",
    "    else:\n",
    "        return np.array([[0, -vector[2], vector[1]], \n",
    "                         [vector[2], 0, -vector[0]], \n",
    "                         [-vector[1], vector[0], 0]])"
   ]
  },
  {
   "cell_type": "code",
   "execution_count": null,
   "metadata": {},
   "outputs": [],
   "source": [
    "def rotate_vec2vec(v1,v2):\n",
    "    '''\n",
    "    Rotate vector v1 --> v2 and return the transformation matrix R that achieves this\n",
    "    '''\n",
    "    \n",
    "    n = np.cross(v1,v2)\n",
    "    sinv = np.linalg.norm(n)\n",
    "    cosv = np.dot(v1,v2)\n",
    "    R = np.eye(3) + skew(n) + np.matmul(skew(v),skew(v))*(1 - cosv)/(sin**2) \n",
    "    return R"
   ]
  },
  {
   "cell_type": "code",
   "execution_count": null,
   "metadata": {},
   "outputs": [],
   "source": [
    "def quad_fit(X,b):\n",
    "    '''\n",
    "    Perform quadratic surface fitting of form:\n",
    "    f(x,y) = a + bx + cy + dxy + ex^2 + fy^2 \n",
    "    By finding the least squares solution of Ax = b\n",
    "    '''\n",
    "    \n",
    "    #Formulate the linear problem\n",
    "    A = np.c_[\n",
    "        \n",
    "        np.ones((X.shape[0],1)),\n",
    "        X[:,:2],\n",
    "        np.prod(X[:,:2],axis=1),\n",
    "        X[:,:2]**2        \n",
    "    ]\n",
    "    \n",
    "    C,_,_,_ = lstsq(A,b)\n",
    "    return C"
   ]
  },
  {
   "cell_type": "code",
   "execution_count": null,
   "metadata": {},
   "outputs": [],
   "source": [
    "def compute_principal_dir(x,y,C):\n",
    "    '''\n",
    "    Compute the principal direction of a quadratic surface of form:\n",
    "    f(x,y) = a + bx + cy + dxy + ex^2 + fy^2\n",
    "    Using the second fundamental form basis matrix eigendecomposition method\n",
    "    \n",
    "    x -- scalar x input\n",
    "    y -- scalar y input\n",
    "    C -- scalar quadratic vector (a,b,c,d,e,f)\n",
    "    '''\n",
    "    \n",
    "    #Compute partial first and second derivatives\n",
    "    r_x = np.array([1, 0, 2*C[4]*x + C[1] + C[3]*y])\n",
    "    r_y = np.array([0, 1, 2*C[5]*y + C[2] + C[3]*x])\n",
    "    r_xx = np.array([0, 0, 2*C[4]])\n",
    "    r_yy = np.array([0, 0, 2*C[5]])\n",
    "    r_xy = np.array([0, 0, C[3]])\n",
    "    \n",
    "    #Compute surface point normal\n",
    "    r_x_cross_y = np.cross(r_x,r_y)\n",
    "    n = r_x_cross_y/np.linalg.norm(r_x_cross_y)\n",
    "    \n",
    "    #Compute second fundamental form constants\n",
    "    L = np.dot(r_xx,n)\n",
    "    M = np.dot(r_xy,n)\n",
    "    N = np.dot(r_yy,n)\n",
    "    \n",
    "    #Form basis matrix\n",
    "    P = np.array([\n",
    "        [L, M],\n",
    "        [M, N]\n",
    "    ])\n",
    "    \n",
    "    #Eigendecomposition, then convert into 3D vector\n",
    "    _,V = np.linalg.eig(P)\n",
    "    V = np.concatenate((V,np.zeros((1,2))), axis=0)\n",
    "    \n",
    "    return V[:,0], V[:,1]"
   ]
  },
  {
   "cell_type": "code",
   "execution_count": null,
   "metadata": {},
   "outputs": [],
   "source": [
    "def interpolate_angle(u,v,t,l=90.0):\n",
    "    '''\n",
    "    Perform cosine angle interpolation between two orthogonal vectors u and v\n",
    "    \n",
    "    u -- 3D vector\n",
    "    v -- 3D vector orthogonal to u\n",
    "    t -- interpolation value\n",
    "    l -- period of rotation\n",
    "    '''\n",
    "    \n",
    "    theta = (t/l)*(np.pi/2)\n",
    "    p = np.r_[u*np.cos(theta) + v*np.cos(theta)]\n",
    "    return p"
   ]
  },
  {
   "cell_type": "code",
   "execution_count": null,
   "metadata": {},
   "outputs": [],
   "source": [
    "def quadratic_surf(x,y,C):\n",
    "    '''\n",
    "    Compute a quadratic function of form:\n",
    "                    f(x,y) = a + bx + cy + dxy + ex^2 + fy^2\n",
    "                    \n",
    "    x -- scalar x input\n",
    "    y -- scalar y input\n",
    "    C -- quadratic constants vector (a,b,c,d,e,f)\n",
    "    '''\n",
    "    \n",
    "    return C[0] + C[1]*x + C[2]*y + C[3]*x*y + C[4]*x*x + C[5]*y*y"
   ]
  },
  {
   "cell_type": "code",
   "execution_count": null,
   "metadata": {},
   "outputs": [],
   "source": [
    "def map_param_2_surf(x,y,C):\n",
    "    '''\n",
    "    For some mesh-based surface S, define a parameterization using a quadratic fit\n",
    "                    f(x,y) = a + bx + cy + dxy + ex^2 + fy^2\n",
    "    \n",
    "    Compute the mapping from (x,y) --> (x,y,f(x,y))\n",
    "    \n",
    "    x -- scalar x input\n",
    "    y -- scalar y input\n",
    "    C -- scalar quadratic constants vector (a,b,c,d,e,f)\n",
    "    '''\n",
    "    \n",
    "    #Compute approximate surface at (x,y)\n",
    "    z = quadratic_surf(x,y,C)\n",
    "    \n",
    "    #Form input vector\n",
    "    v = np.array([x,y,z],dtype=np.float64)\n",
    "    \n",
    "    return v"
   ]
  },
  {
   "cell_type": "code",
   "execution_count": null,
   "metadata": {},
   "outputs": [],
   "source": [
    "def map_rot_2_surf(x,y,t,C):\n",
    "    '''\n",
    "    For some mesh-based surface S, define a quadratic surface parameterization S':\n",
    "                        f(x,y) = a + bx + cy + dxy + ex^2 + fy^2\n",
    "    \n",
    "    Compute a mapping from (x,y,z,t) --> p which is an interpolated direction vector between the\n",
    "    two principal directions on S' using t:[0,180].\n",
    "    \n",
    "    x -- scalar x input\n",
    "    y -- scalar y input\n",
    "    t -- interpolation angle [0,180] between 2 principal directions\n",
    "    C -- scalar quadratic constants vector (a,b,c,d,e,f)\n",
    "\n",
    "    '''\n",
    "    \n",
    "    v1, v2 = compute_principal_dir(x,y,C)\n",
    "    p = interpolate_angle(v1,v2,t)\n",
    "    \n",
    "    return p"
   ]
  },
  {
   "cell_type": "code",
   "execution_count": null,
   "metadata": {},
   "outputs": [],
   "source": [
    "def load_gmsh(gmshpath, entity=None):\n",
    "    '''\n",
    "    Given a fullpath to some .msh file, load in the mesh nodes IDs, triangles and coordinates.\n",
    "    \n",
    "    gmshpath -- path to gmsh file\n",
    "    dimtag   -- tuple specifying the (dimensionality,tagID) being loaded\n",
    "    \n",
    "    \n",
    "    If entity=(dim,tag) not provided then pull the first entity and return\n",
    "    '''\n",
    "    \n",
    "    gmsh.initialize()\n",
    "    gmsh.open(gmshpath)\n",
    "    \n",
    "    if not entity:\n",
    "        entity = gmsh.model.getEntities()[0]\n",
    "    nodes, coords, params = gmsh.model.mesh.getNodes(entity[0],entity[1])\n",
    "    coords = np.array(coords).reshape((len(coords)//3,3))\n",
    "    \n",
    "    return nodes, coords, params"
   ]
  },
  {
   "cell_type": "code",
   "execution_count": null,
   "metadata": {},
   "outputs": [],
   "source": [
    "def define_coil_orientation(loc,rot,n):\n",
    "    '''\n",
    "    Construct the coil orientation matrix to be used by simnibs\n",
    "    loc -- center of coil\n",
    "    rot -- vector pointing in handle direction (tangent to surface)\n",
    "    n   -- normal vector\n",
    "    '''\n",
    "    \n",
    "    y = rot/np.linalg.norm(rot)\n",
    "    x = np.cross(y,n)\n",
    "    z = n\n",
    "    c = loc\n",
    "    \n",
    "    matsimnibs = np.zeros((4,4), dtype=np.float64)\n",
    "    matsimnibs[:3, 0] = x\n",
    "    matsimnibs[:3, 1] = y\n",
    "    matsimnibs[:3, 2] = -z\n",
    "    matsimnibs[:3, 3] = c\n",
    "    matsimnibs[3, 3] = 1\n",
    "    \n",
    "    return matsimnibs"
   ]
  }
 ],
 "metadata": {
  "kernelspec": {
   "display_name": "Python 2",
   "language": "python",
   "name": "python2"
  },
  "language_info": {
   "codemirror_mode": {
    "name": "ipython",
    "version": 2
   },
   "file_extension": ".py",
   "mimetype": "text/x-python",
   "name": "python",
   "nbconvert_exporter": "python",
   "pygments_lexer": "ipython2",
   "version": "2.7.15"
  }
 },
 "nbformat": 4,
 "nbformat_minor": 2
}
