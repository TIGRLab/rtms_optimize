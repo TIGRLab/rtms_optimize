{
 "cells": [
  {
   "cell_type": "code",
   "execution_count": 302,
   "metadata": {},
   "outputs": [],
   "source": [
    "import os\n",
    "import sys\n",
    "import gmsh\n",
    "import numpy as np\n",
    "from functools import partial"
   ]
  },
  {
   "cell_type": "code",
   "execution_count": 144,
   "metadata": {},
   "outputs": [],
   "source": [
    "gmsh.initialize()"
   ]
  },
  {
   "cell_type": "code",
   "execution_count": 145,
   "metadata": {},
   "outputs": [],
   "source": [
    "f_mesh = '../data/simnibs_output/sub-CMH090.msh'"
   ]
  },
  {
   "cell_type": "code",
   "execution_count": 146,
   "metadata": {},
   "outputs": [],
   "source": [
    "#Open with gmsh, then \n",
    "gmsh.open(f_mesh)"
   ]
  },
  {
   "cell_type": "code",
   "execution_count": 147,
   "metadata": {},
   "outputs": [
    {
     "data": {
      "text/plain": [
       "[(2, 1),\n",
       " (2, 2),\n",
       " (2, 3),\n",
       " (2, 4),\n",
       " (2, 5),\n",
       " (2, 6),\n",
       " (2, 7),\n",
       " (3, 1),\n",
       " (3, 2),\n",
       " (3, 3),\n",
       " (3, 4),\n",
       " (3, 5),\n",
       " (3, 6),\n",
       " (3, 7)]"
      ]
     },
     "execution_count": 147,
     "metadata": {},
     "output_type": "execute_result"
    }
   ],
   "source": [
    "gmsh.model.getEntities()"
   ]
  },
  {
   "cell_type": "markdown",
   "metadata": {},
   "source": [
    "#### GMSH file anatomy\n",
    "<code>gmsh.model.mesh.getElements</code> yields a list of elements with elem_coords, which correspond to node_tags. \n",
    "These node_tags are derived from the following sources:\n",
    "\n",
    "- nodes belonging to the tetrahedral volume 3D mesh\n",
    "- nodes belonging to the grey matter boundary mesh\n",
    "- nodes belonging to the white matter boundary mesh"
   ]
  },
  {
   "cell_type": "code",
   "execution_count": 226,
   "metadata": {},
   "outputs": [],
   "source": [
    "# Get grey matter volume\n",
    "tet_gm = (3,2)\n",
    "tet_node_tag, tet_node_coord, tet_node_param = gmsh.model.mesh.getNodes(tet_gm[0],tet_gm[1])\n",
    "tet_elem_tag, tet_elem_coord, tet_elem_param = gmsh.model.mesh.getElements(tet_gm[0],tet_gm[1])"
   ]
  },
  {
   "cell_type": "code",
   "execution_count": 227,
   "metadata": {},
   "outputs": [],
   "source": [
    "# Get grey matter boundary surface\n",
    "surf_gm = (2,2)\n",
    "gm_node_tag, gm_node_coord, gm_node_param = gmsh.model.mesh.getNodes(surf_gm[0],surf_gm[1])\n",
    "_, gm_elem_coord, gm_elem_param = gmsh.model.mesh.getElements(surf_gm[0],surf_gm[1])"
   ]
  },
  {
   "cell_type": "code",
   "execution_count": 228,
   "metadata": {},
   "outputs": [],
   "source": [
    "# Get white matter boundary surface\n",
    "surf_wm = (2,1)\n",
    "wm_node_tag, wm_node_coord, wm_node_param = gmsh.model.mesh.getNodes(surf_wm[0], surf_wm[1])\n",
    "_, wm_elem_coord, wm_elem_param = gmsh.model.mesh.getElements(surf_wm[0], surf_wm[1])"
   ]
  },
  {
   "cell_type": "code",
   "execution_count": 236,
   "metadata": {},
   "outputs": [],
   "source": [
    "# Convert to set of nodes belonging to a single triangle\n",
    "tet_node_list = tet_elem_param[0].reshape((tet_elem_param[0].shape[0]//4, 4))"
   ]
  },
  {
   "cell_type": "code",
   "execution_count": 280,
   "metadata": {},
   "outputs": [],
   "source": [
    "tet_coord_map = { n : tet_node_coord[3*i:(3*i)+3] for i,n in enumerate(tet_node_tag) }\n",
    "gm_coord_map = { n : gm_node_coord[3*i:(3*i)+3] for i,n in enumerate(gm_node_tag) }\n",
    "wm_coord_map = { n : wm_node_coord[3*i:(3*i)+3] for i,n in enumerate(wm_node_tag) }\n",
    "\n",
    "# Bring together dictionaries\n",
    "node_2_coord = {}\n",
    "node_2_coord.update(tet_coord_map)\n",
    "node_2_coord.update(gm_coord_map)\n",
    "node_2_coord.update(wm_coord_map)"
   ]
  },
  {
   "cell_type": "code",
   "execution_count": 303,
   "metadata": {},
   "outputs": [],
   "source": [
    "# For each element in the list, loop over and compute barycentre\n",
    "def compute_barycentre(x,mapping):\n",
    "    \n",
    "    #Map node --> coord set\n",
    "    c1 = mapping[x[0]]\n",
    "    c2 = mapping[x[1]]\n",
    "    c3 = mapping[x[2]]\n",
    "    c4 = mapping[x[3]]\n",
    "    \n",
    "    #Compute barycentre\n",
    "    return np.divide(c1+c2+c3+c4,4)\n",
    "barycentre = partial(compute_barycentre,mapping=node_2_coord)"
   ]
  },
  {
   "cell_type": "code",
   "execution_count": 309,
   "metadata": {},
   "outputs": [],
   "source": [
    "# Compute list of barycentres for each of the tetrahedral elements\n",
    "bary_list = np.apply_along_axis(barycentre,1,tet_node_list)"
   ]
  },
  {
   "cell_type": "code",
   "execution_count": null,
   "metadata": {},
   "outputs": [],
   "source": [
    "# See if tetrahedral coordinates can be mapped to volume space? "
   ]
  }
 ],
 "metadata": {
  "kernelspec": {
   "display_name": "Python 3",
   "language": "python",
   "name": "python3"
  },
  "language_info": {
   "codemirror_mode": {
    "name": "ipython",
    "version": 3
   },
   "file_extension": ".py",
   "mimetype": "text/x-python",
   "name": "python",
   "nbconvert_exporter": "python",
   "pygments_lexer": "ipython3",
   "version": "3.6.5"
  }
 },
 "nbformat": 4,
 "nbformat_minor": 2
}
