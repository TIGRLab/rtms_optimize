{
 "cells": [
  {
   "cell_type": "code",
   "execution_count": 5,
   "metadata": {
    "collapsed": true
   },
   "outputs": [],
   "source": [
    "import nibabel as nib\n",
    "import numpy as np\n",
    "import os"
   ]
  },
  {
   "cell_type": "code",
   "execution_count": 6,
   "metadata": {
    "collapsed": true
   },
   "outputs": [],
   "source": [
    "#Set up pathing structure\n",
    "simnibs = '../data/simnibs_output/testing/m2m_sub-CMH090/testing/'\n",
    "fs = '../data/freesurfer/sub-CMH090/surf/'"
   ]
  },
  {
   "cell_type": "code",
   "execution_count": 7,
   "metadata": {},
   "outputs": [],
   "source": [
    "p_swhite = os.path.join(simnibs,'rh.white') \n",
    "p_fwhite = os.path.join(fs,'rh.white')"
   ]
  },
  {
   "cell_type": "code",
   "execution_count": 20,
   "metadata": {},
   "outputs": [],
   "source": [
    "sc, sf = nib.freesurfer.io.read_geometry(p_swhite,read_metadata=True)\n",
    "fc, ff, fm = nib.freesurfer.io.read_geometry(p_fwhite,read_metadata=True)"
   ]
  },
  {
   "cell_type": "code",
   "execution_count": 22,
   "metadata": {},
   "outputs": [
    {
     "data": {
      "text/plain": [
       "OrderedDict([('head', array([ 2,  0, 20], dtype=int32)),\n",
       "             ('valid', '1  # volume info valid'),\n",
       "             ('filename', '../mri/filled-pretess127.mgz'),\n",
       "             ('volume', array([256, 256, 256])),\n",
       "             ('voxelsize', array([ 0.89840001,  0.89840001,  0.89840001])),\n",
       "             ('xras', array([-1.,  0.,  0.])),\n",
       "             ('yras', array([ 0.,  0., -1.])),\n",
       "             ('zras', array([ 0.,  1.,  0.])),\n",
       "             ('cras', array([  1.65665436,  38.1002121 ,  26.29520416]))])"
      ]
     },
     "execution_count": 22,
     "metadata": {},
     "output_type": "execute_result"
    }
   ],
   "source": [
    "fm"
   ]
  }
 ],
 "metadata": {
  "kernelspec": {
   "display_name": "Python [conda env:nilearn]",
   "language": "python",
   "name": "conda-env-nilearn-py"
  },
  "language_info": {
   "codemirror_mode": {
    "name": "ipython",
    "version": 3
   },
   "file_extension": ".py",
   "mimetype": "text/x-python",
   "name": "python",
   "nbconvert_exporter": "python",
   "pygments_lexer": "ipython3",
   "version": "3.6.2"
  }
 },
 "nbformat": 4,
 "nbformat_minor": 2
}
